{
  "nbformat": 4,
  "nbformat_minor": 0,
  "metadata": {
    "colab": {
      "provenance": [],
      "gpuType": "T4"
    },
    "kernelspec": {
      "name": "python3",
      "display_name": "Python 3"
    },
    "language_info": {
      "name": "python"
    },
    "accelerator": "GPU"
  },
  "cells": [
    {
      "cell_type": "markdown",
      "source": [
        "# CNN in MNIST and Fashion-MNIST\n",
        "\n",
        "In this notebook, we implement and train a **two-layer Convolutional Neural Network (CNN)** inspired by the **TinyVGG architecture**, a simplified version of the VGG family of models that is often used for teaching and experimentation. This CNN is designed to build a classification model for two of the most classic benchmark datasets in computer vision: **MNIST** and **Fashion-MNIST**. Both datasets are widely used in machine learning research and education because they provide a simple yet effective way to test image recognition algorithms.\n",
        "\n",
        "- **MNIST** consists of 70,000 grayscale images of handwritten digits (0–9), each with a resolution of 28x28 pixels. The task is to correctly classify each image into the corresponding digit class.  \n",
        "- **Fashion-MNIST** is a more challenging replacement for MNIST. It also contains 70,000 grayscale images of size 28x28, but instead of digits, the classes represent different fashion items such as shoes, shirts, and bags.\n",
        "\n",
        "By using a **CNN architecture inspired by TinyVGG**, we leverage the advantages of convolutional layers for feature extraction, while keeping the model compact and computationally efficient. CNNs are particularly effective for image classification tasks because they can capture spatial relationships in the data, learning local patterns like edges, textures, and shapes that are crucial for recognition.\n",
        "\n",
        "We also use **Weights & Biases (wandb)** to **track training and test metrics, log hyperparameters, and visualize the experiment progress** in real time. This allows us to compare different runs, monitor model performance, and maintain an organized record of experiments.\n",
        "\n",
        "In this notebook, we will:  \n",
        "1. Load and preprocess the MNIST and Fashion-MNIST datasets using **PyTorch** and **torchvision**.  \n",
        "2. Define and implement a **TinyVGG-style two-layer CNN architecture**.  \n",
        "3. Train the model on the training set and evaluate its performance on the test set.  \n",
        "4. Log all metrics to **wandb** for tracking and visualization.  \n",
        "5. Compare the results between MNIST and Fashion-MNIST, highlighting the differences in model accuracy and generalization.  \n",
        "\n",
        "This exercise not only demonstrates how to build CNNs in PyTorch but also serves as a practical introduction to deep learning for computer vision tasks.  \n",
        "\n"
      ],
      "metadata": {
        "id": "mG0viX-rkL8j"
      }
    },
    {
      "cell_type": "code",
      "source": [
        "#!pip install tqdm\n"
      ],
      "metadata": {
        "id": "D6nBkCcqg09g"
      },
      "execution_count": 134,
      "outputs": []
    },
    {
      "cell_type": "code",
      "source": [
        "# import libraries\n",
        "import wandb\n",
        "wandb.login()\n",
        "#Import Pytorch\n",
        "import torch\n",
        "from torch import nn\n",
        "\n",
        "#Import torchvision\n",
        "import torchvision\n",
        "from torchvision import datasets\n",
        "from torchvision.transforms import ToTensor\n",
        "\n",
        "#Import matplotlib\n",
        "import matplotlib.pyplot as pl\n",
        "\n",
        "#helpers\n",
        "import helper as h\n",
        "import models\n",
        "\n",
        "from torch.utils.data import DataLoader\n",
        "from tqdm import tqdm\n",
        "\n",
        "\n",
        "# Setup device agnostic code\n",
        "device = 'cuda' if torch.cuda.is_available() else 'cpu'\n"
      ],
      "metadata": {
        "id": "ceNWvhqjlXlK"
      },
      "execution_count": 37,
      "outputs": []
    },
    {
      "cell_type": "markdown",
      "source": [
        "## 1. Getting and exploring the datasets  \n",
        "\n",
        "In this section we load the **MNIST** and **Fashion-MNIST** datasets using `torchvision`.  \n",
        "\n",
        "- **MNIST** is a dataset of handwritten digits (0–9), consisting of **60,000 training images** and **10,000 test images**, all in grayscale with a resolution of **28 × 28 pixels**.  \n",
        "- **Fashion-MNIST** has the same format and size but contains **clothing items** (such as t-shirts, shoes, and coats) instead of digits.  \n",
        "\n",
        "We explore both datasets by:  \n",
        "- Checking their structure (number of samples, image shape, number of classes).  \n",
        "- Visualizing some random examples to understand what the model will learn to recognize.  \n"
      ],
      "metadata": {
        "id": "CSznRIm9lhw5"
      }
    },
    {
      "cell_type": "code",
      "source": [
        "# Loading the datasets\n",
        "\n",
        "torch.manual_seed(42)\n",
        "\n",
        "#MNIST\n",
        "MNIST_train_data = datasets.MNIST(\n",
        "    root='data',\n",
        "    train=True,\n",
        "    download=True,\n",
        "    transform=ToTensor(),\n",
        "    target_transform=None\n",
        ")\n",
        "MNIST_test_data=datasets.MNIST(\n",
        "    root='data',\n",
        "    train=False,\n",
        "    download=True,\n",
        "    transform=ToTensor(),\n",
        "    target_transform=None\n",
        ")\n",
        "\n",
        "#Fashion-MNIST\n",
        "fashionMNIST_train_data = datasets.FashionMNIST(\n",
        "    root='data',\n",
        "    train=True,\n",
        "    download=True,\n",
        "    transform=ToTensor(),\n",
        "    target_transform=None\n",
        ")\n",
        "fashionMNIST_test_data=datasets.FashionMNIST(\n",
        "    root='data',\n",
        "    train=False,\n",
        "    download=True,\n",
        "    transform=ToTensor(),\n",
        "    target_transform=None\n",
        ")"
      ],
      "metadata": {
        "id": "CgM-wi93oIiK"
      },
      "execution_count": 6,
      "outputs": []
    },
    {
      "cell_type": "markdown",
      "source": [
        "We have loaded the **MNIST** and **Fashion-MNIST** datasets, with separate training and test sets, and converted all images to tensors. Let's visualize some examples and exlore the lengths of the sets."
      ],
      "metadata": {
        "id": "19gzlFBfpYDK"
      }
    },
    {
      "cell_type": "code",
      "source": [
        "print(f\"MNIST:           Training samples: {len(MNIST_train_data )}   |   Test samples: {len(MNIST_test_data )}\")\n",
        "print(f\"Fashion-MNIST:   Training samples: {len(fashionMNIST_train_data )}   |   Test samples: {len(fashionMNIST_test_data )}\")"
      ],
      "metadata": {
        "colab": {
          "base_uri": "https://localhost:8080/"
        },
        "id": "5oHWgEeoq_dD",
        "outputId": "f638e9fc-411e-4798-be8c-b3057b448e74"
      },
      "execution_count": 7,
      "outputs": [
        {
          "output_type": "stream",
          "name": "stdout",
          "text": [
            "MNIST:           Training samples: 60000   |   Test samples: 10000\n",
            "Fashion-MNIST:   Training samples: 60000   |   Test samples: 10000\n"
          ]
        }
      ]
    },
    {
      "cell_type": "code",
      "source": [
        "# Get the classes names into a list\n",
        "MNIST_classes = MNIST_train_data.classes\n",
        "fashionMNIST_classes = fashionMNIST_train_data.classes\n",
        "\n",
        "print(MNIST_classes)\n",
        "print(fashionMNIST_classes)"
      ],
      "metadata": {
        "id": "guqwW_QkMYSI",
        "colab": {
          "base_uri": "https://localhost:8080/"
        },
        "outputId": "a5c94d9a-9b91-498d-eb6d-d10d28830751"
      },
      "execution_count": 8,
      "outputs": [
        {
          "output_type": "stream",
          "name": "stdout",
          "text": [
            "['0 - zero', '1 - one', '2 - two', '3 - three', '4 - four', '5 - five', '6 - six', '7 - seven', '8 - eight', '9 - nine']\n",
            "['T-shirt/top', 'Trouser', 'Pullover', 'Dress', 'Coat', 'Sandal', 'Shirt', 'Sneaker', 'Bag', 'Ankle boot']\n"
          ]
        }
      ]
    },
    {
      "cell_type": "code",
      "source": [
        "#### Explore the firs image in each dataset ####\n",
        "\n",
        "# Get the firs training example\n",
        "MNIST_image, MNIST_label= MNIST_train_data[0]\n",
        "fashionMNIST_image, fashionMNIST_label= fashionMNIST_train_data[0]\n",
        "\n",
        "print(f\"MNIST:           Image shape: {MNIST_image.shape}   |   First label: {MNIST_label}\")\n",
        "print(f\"Fashion-MNIST:   Image shape: {fashionMNIST_image.shape}   |   First label: {fashionMNIST_label}\")"
      ],
      "metadata": {
        "colab": {
          "base_uri": "https://localhost:8080/"
        },
        "id": "qaYMEnHunTP9",
        "outputId": "12c09fc0-a202-4345-d35a-1268204f3254"
      },
      "execution_count": 9,
      "outputs": [
        {
          "output_type": "stream",
          "name": "stdout",
          "text": [
            "MNIST:           Image shape: torch.Size([1, 28, 28])   |   First label: 5\n",
            "Fashion-MNIST:   Image shape: torch.Size([1, 28, 28])   |   First label: 9\n"
          ]
        }
      ]
    },
    {
      "cell_type": "markdown",
      "source": [
        "We see that both datasets consist of images of size (1, 28, 28) and belong to 10 different categories. We conclude the exploration by displaying some examples from each dataset. We use the helper function `plot_image_grid` from `helper.py`"
      ],
      "metadata": {
        "id": "Aj9Fza_mong9"
      }
    },
    {
      "cell_type": "code",
      "source": [
        "torch.manual_seed(42)\n",
        "h.plot_images_grid(data=MNIST_train_data, class_names=MNIST_classes, rows=2, cols=3, predictions=None, figsize=(6, 3))"
      ],
      "metadata": {
        "colab": {
          "base_uri": "https://localhost:8080/",
          "height": 306
        },
        "id": "SikRqyAhrQsQ",
        "outputId": "1cf71ff0-b087-41ec-fdcb-094a20c75b0a"
      },
      "execution_count": 10,
      "outputs": [
        {
          "output_type": "display_data",
          "data": {
            "text/plain": [
              "<Figure size 600x300 with 6 Axes>"
            ],
            "image/png": "[encoded data removed]"
          },
          "metadata": {}
        }
      ]
    },
    {
      "cell_type": "code",
      "source": [
        "torch.manual_seed(42)\n",
        "h.plot_images_grid(data=fashionMNIST_train_data, class_names=fashionMNIST_classes, rows=2, cols=3, predictions=None, figsize=(6, 3))"
      ],
      "metadata": {
        "colab": {
          "base_uri": "https://localhost:8080/",
          "height": 306
        },
        "id": "dk6DmwGhsmuQ",
        "outputId": "9388c687-3b26-4f0c-d2dd-ea9dc77e33e7"
      },
      "execution_count": 11,
      "outputs": [
        {
          "output_type": "display_data",
          "data": {
            "text/plain": [
              "<Figure size 600x300 with 6 Axes>"
            ],
            "image/png": "[encoded data removed]"
          },
          "metadata": {}
        }
      ]
    },
    {
      "cell_type": "markdown",
      "source": [
        "# Loss Function\n",
        "\n",
        "For all the models, we use the **CrossEntropyLoss** function from `torch.nn`. Recall that `CrossEntropyLoss` **combines `LogSoftmax` and `NLLLoss` internally**, so our network can simply output **raw logits** without applying a softmax at the end. This makes the implementation simpler and numerically more stable.\n",
        "\n",
        "For evaluation, we use **accuracy** as our metric implemented in `helper.py`.\n"
      ],
      "metadata": {
        "id": "omwXrTVxKhuw"
      }
    },
    {
      "cell_type": "code",
      "source": [
        "loss_fn = nn.CrossEntropyLoss()\n",
        "h.acc_fn = h.accuracy_fn"
      ],
      "metadata": {
        "id": "Dsen6cJJLbyB"
      },
      "execution_count": 12,
      "outputs": []
    },
    {
      "cell_type": "markdown",
      "source": [
        "## Baseline\n",
        "\n",
        "The baseline TinyVGG model consists of **two convolutional blocks**:\n",
        "\n",
        "1. **Convolutional Block 1**\n",
        "   - Conv2d (3x3, 16 filters, stride=1, padding=1).\n",
        "   - Conv2d (3x3, 16 filters, stride=1, padding=1) .\n",
        "   - ReLU activations: Introduce non-linearity.\n",
        "   - MaxPool2d (2x2): Reduces spatial dimensions by half (28x28 → 14x14), summarizing local features.\n",
        "\n",
        "2. **Convolutional Block 2**\n",
        "   - Conv2d (3x3, 16 filters, stride=1, padding=1).\n",
        "   - Conv2d (3x3, 16 filters, stride=1, padding=1).\n",
        "   - ReLU activations.\n",
        "   - MaxPool2d (2x2) Reduces dimensions further (14x14 → 7x7).\n",
        "\n",
        "3. **Classifier**\n",
        "   - Flatten: Converts the 3D feature maps into a 1D vector (16×7×7 = 784 features per sample).\n",
        "   - Linear layer: Maps the flattened features to 10 output classes (for FashionMNIST/MNIST).\n",
        "\n",
        "This simple architecture allows the model to learn hierarchical representations of the images while keeping the number of parameters low. For our baseline, we use the `TinyVGG` class defined in `models.py`.\n",
        "\n",
        "\n"
      ],
      "metadata": {
        "id": "bdyVEL2LmJGy"
      }
    },
    {
      "cell_type": "code",
      "source": [
        "MNIST_baseline_model=models.TinyVGG(in_channels=1,\n",
        "                       hidden_units=[16,16],\n",
        "                       out_features=10,\n",
        "                       dropout=0).to(device)\n",
        "fashionMNIST_baseline_model=models.TinyVGG(in_channels=1,\n",
        "                       hidden_units=[16,16],\n",
        "                       out_features=10,\n",
        "                       dropout=0).to(device)"
      ],
      "metadata": {
        "id": "ejW6RWMcMrr0"
      },
      "execution_count": 13,
      "outputs": []
    },
    {
      "cell_type": "markdown",
      "source": [
        "During training, the data is divided into mini-batches of 32 images each and we use the `SGD` optimizer with a learning rate of `0.1`. For this propuse lets beging by crating our dataloaders and defining our optimizer"
      ],
      "metadata": {
        "id": "1bmLTg7eMsaR"
      }
    },
    {
      "cell_type": "code",
      "source": [
        "BATCH_SIZE= 32\n",
        "\n",
        "# Create DataLoaders\n",
        "MNIST_train_loader = h.create_loader(MNIST_train_data, batch_size=BATCH_SIZE, shuffle=True, name=\"MNIST Train\")\n",
        "MNIST_test_loader  = h.create_loader(MNIST_test_data, batch_size=BATCH_SIZE, shuffle=False, name=\"MNIST Test\")\n",
        "\n",
        "fashionMNIST_train_loader = h.create_loader(fashionMNIST_train_data, batch_size=BATCH_SIZE, shuffle=True, name=\"FashionMNIST Train\")\n",
        "fashionMNIST_test_loader  = h.create_loader(fashionMNIST_test_data, batch_size=BATCH_SIZE, shuffle=False, name=\"FashionMNIST Test\")\n",
        "\n",
        "print(\"--------------------- Dataloaders created -------------------\")"
      ],
      "metadata": {
        "id": "ZVu2ug8mmIaA",
        "colab": {
          "base_uri": "https://localhost:8080/"
        },
        "outputId": "34782834-6534-4405-fe35-46ebe5aab706"
      },
      "execution_count": 14,
      "outputs": [
        {
          "output_type": "stream",
          "name": "stdout",
          "text": [
            "MNIST Train: 1875 batches of 32 images\n",
            "First batch shape - images: torch.Size([32, 1, 28, 28]), labels: torch.Size([32])\n",
            "\n",
            "MNIST Test: 313 batches of 32 images\n",
            "First batch shape - images: torch.Size([32, 1, 28, 28]), labels: torch.Size([32])\n",
            "\n",
            "FashionMNIST Train: 1875 batches of 32 images\n",
            "First batch shape - images: torch.Size([32, 1, 28, 28]), labels: torch.Size([32])\n",
            "\n",
            "FashionMNIST Test: 313 batches of 32 images\n",
            "First batch shape - images: torch.Size([32, 1, 28, 28]), labels: torch.Size([32])\n",
            "\n",
            "--------------------- Dataloaders created -------------------\n"
          ]
        }
      ]
    },
    {
      "cell_type": "code",
      "source": [
        "# Set optimizers\n",
        "MNIST_optimizer = torch.optim.SGD(params=MNIST_baseline_model.parameters(), lr=0.1)\n",
        "fashionMNIST_optimizer = torch.optim.SGD(params=fashionMNIST_baseline_model.parameters(), lr=0.1)\n"
      ],
      "metadata": {
        "id": "BRZbG8FlkcHi"
      },
      "execution_count": 15,
      "outputs": []
    },
    {
      "cell_type": "markdown",
      "source": [
        "### Baseline training"
      ],
      "metadata": {
        "id": "5NxJhRHr7zB0"
      }
    },
    {
      "cell_type": "code",
      "source": [
        "torch.manual_seed(42)\n",
        "h.train_with_wandb(model=MNIST_baseline_model,\n",
        "                 train_loader=MNIST_train_loader,\n",
        "                 test_loader=MNIST_test_loader,\n",
        "                 loss_fn=loss_fn,\n",
        "                 optimizer=MNIST_optimizer,\n",
        "                 accuracy_fn=h.accuracy_fn,\n",
        "                 device=device,\n",
        "                 epochs=5,\n",
        "                 project_name=\"mnist\",\n",
        "                 hidden_units=[16,16],\n",
        "                 dropout=0.0)"
      ],
      "metadata": {
        "colab": {
          "base_uri": "https://localhost:8080/",
          "height": 1000
        },
        "id": "GP028dE7Ngh3",
        "outputId": "7102626a-3258-414c-fbc7-76ae51255bd5"
      },
      "execution_count": 146,
      "outputs": [
        {
          "output_type": "display_data",
          "data": {
            "text/plain": [
              "<IPython.core.display.HTML object>"
            ],
            "text/html": [
              "Waiting for wandb.init()..."
            ]
          },
          "metadata": {}
        },
        {
          "output_type": "display_data",
          "data": {
            "text/plain": [
              "<IPython.core.display.HTML object>"
            ],
            "text/html": [
              "Tracking run with wandb version 0.21.3"
            ]
          },
          "metadata": {}
        },
        {
          "output_type": "display_data",
          "data": {
            "text/plain": [
              "<IPython.core.display.HTML object>"
            ],
            "text/html": [
              "Run data is saved locally in <code>/content/wandb/run-20250904_225706-m2h1sl7n</code>"
            ]
          },
          "metadata": {}
        },
        {
          "output_type": "display_data",
          "data": {
            "text/plain": [
              "<IPython.core.display.HTML object>"
            ],
            "text/html": [
              "Syncing run <strong><a href='https://wandb.ai/jsrodriguez16-personal/mnist/runs/m2h1sl7n' target=\"_blank\">light-grass-21</a></strong> to <a href='https://wandb.ai/jsrodriguez16-personal/mnist' target=\"_blank\">Weights & Biases</a> (<a href='https://wandb.me/developer-guide' target=\"_blank\">docs</a>)<br>"
            ]
          },
          "metadata": {}
        },
        {
          "output_type": "display_data",
          "data": {
            "text/plain": [
              "<IPython.core.display.HTML object>"
            ],
            "text/html": [
              " View project at <a href='https://wandb.ai/jsrodriguez16-personal/mnist' target=\"_blank\">https://wandb.ai/jsrodriguez16-personal/mnist</a>"
            ]
          },
          "metadata": {}
        },
        {
          "output_type": "display_data",
          "data": {
            "text/plain": [
              "<IPython.core.display.HTML object>"
            ],
            "text/html": [
              " View run at <a href='https://wandb.ai/jsrodriguez16-personal/mnist/runs/m2h1sl7n' target=\"_blank\">https://wandb.ai/jsrodriguez16-personal/mnist/runs/m2h1sl7n</a>"
            ]
          },
          "metadata": {}
        },
        {
          "output_type": "stream",
          "name": "stderr",
          "text": [
            "\r  0%|          | 0/5 [00:00<?, ?it/s]"
          ]
        },
        {
          "output_type": "stream",
          "name": "stdout",
          "text": [
            "Epoch: 0 \n",
            "---------\n",
            "Train loss: 0.26446 | Train acc: 91.07%\n"
          ]
        },
        {
          "output_type": "stream",
          "name": "stderr",
          "text": [
            "\r 20%|██        | 1/5 [00:12<00:48, 12.11s/it]"
          ]
        },
        {
          "output_type": "stream",
          "name": "stdout",
          "text": [
            "Test loss: 0.06334 | Test acc: 98.21%\n",
            "\n",
            "Epoch: 1 \n",
            "---------\n",
            "Train loss: 0.06485 | Train acc: 97.96%\n"
          ]
        },
        {
          "output_type": "stream",
          "name": "stderr",
          "text": [
            "\r 40%|████      | 2/5 [00:24<00:36, 12.17s/it]"
          ]
        },
        {
          "output_type": "stream",
          "name": "stdout",
          "text": [
            "Test loss: 0.05468 | Test acc: 98.26%\n",
            "\n",
            "Epoch: 2 \n",
            "---------\n",
            "Train loss: 0.04894 | Train acc: 98.47%\n"
          ]
        },
        {
          "output_type": "stream",
          "name": "stderr",
          "text": [
            "\r 60%|██████    | 3/5 [00:37<00:25, 12.68s/it]"
          ]
        },
        {
          "output_type": "stream",
          "name": "stdout",
          "text": [
            "Test loss: 0.05702 | Test acc: 98.15%\n",
            "\n",
            "Epoch: 3 \n",
            "---------\n",
            "Train loss: 0.04166 | Train acc: 98.69%\n"
          ]
        },
        {
          "output_type": "stream",
          "name": "stderr",
          "text": [
            "\r 80%|████████  | 4/5 [00:50<00:12, 12.66s/it]"
          ]
        },
        {
          "output_type": "stream",
          "name": "stdout",
          "text": [
            "Test loss: 0.04075 | Test acc: 98.79%\n",
            "\n",
            "Epoch: 4 \n",
            "---------\n",
            "Train loss: 0.03514 | Train acc: 98.92%\n"
          ]
        },
        {
          "output_type": "stream",
          "name": "stderr",
          "text": [
            "100%|██████████| 5/5 [01:02<00:00, 12.44s/it]"
          ]
        },
        {
          "output_type": "stream",
          "name": "stdout",
          "text": [
            "Test loss: 0.03604 | Test acc: 98.75%\n",
            "\n"
          ]
        },
        {
          "output_type": "stream",
          "name": "stderr",
          "text": [
            "\n"
          ]
        },
        {
          "output_type": "display_data",
          "data": {
            "text/plain": [
              "<IPython.core.display.HTML object>"
            ],
            "text/html": []
          },
          "metadata": {}
        },
        {
          "output_type": "display_data",
          "data": {
            "text/plain": [
              "<IPython.core.display.HTML object>"
            ],
            "text/html": [
              "<br>    <style><br>        .wandb-row {<br>            display: flex;<br>            flex-direction: row;<br>            flex-wrap: wrap;<br>            justify-content: flex-start;<br>            width: 100%;<br>        }<br>        .wandb-col {<br>            display: flex;<br>            flex-direction: column;<br>            flex-basis: 100%;<br>            flex: 1;<br>            padding: 10px;<br>        }<br>    </style><br><div class=\"wandb-row\"><div class=\"wandb-col\"><h3>Run history:</h3><br/><table class=\"wandb\"><tr><td>epoch</td><td>▁▃▅▆█</td></tr><tr><td>test_acc</td><td>▂▂▁██</td></tr><tr><td>test_loss</td><td>█▆▆▂▁</td></tr><tr><td>train_acc</td><td>▁▇███</td></tr><tr><td>train_loss</td><td>█▂▁▁▁</td></tr></table><br/></div><div class=\"wandb-col\"><h3>Run summary:</h3><br/><table class=\"wandb\"><tr><td>epoch</td><td>4</td></tr><tr><td>test_acc</td><td>0.98752</td></tr><tr><td>test_loss</td><td>0.03604</td></tr><tr><td>train_acc</td><td>0.98918</td></tr><tr><td>train_loss</td><td>0.03514</td></tr></table><br/></div></div>"
            ]
          },
          "metadata": {}
        },
        {
          "output_type": "display_data",
          "data": {
            "text/plain": [
              "<IPython.core.display.HTML object>"
            ],
            "text/html": [
              " View run <strong style=\"color:#cdcd00\">light-grass-21</strong> at: <a href='https://wandb.ai/jsrodriguez16-personal/mnist/runs/m2h1sl7n' target=\"_blank\">https://wandb.ai/jsrodriguez16-personal/mnist/runs/m2h1sl7n</a><br> View project at: <a href='https://wandb.ai/jsrodriguez16-personal/mnist' target=\"_blank\">https://wandb.ai/jsrodriguez16-personal/mnist</a><br>Synced 5 W&B file(s), 0 media file(s), 0 artifact file(s) and 0 other file(s)"
            ]
          },
          "metadata": {}
        },
        {
          "output_type": "display_data",
          "data": {
            "text/plain": [
              "<IPython.core.display.HTML object>"
            ],
            "text/html": [
              "Find logs at: <code>./wandb/run-20250904_225706-m2h1sl7n/logs</code>"
            ]
          },
          "metadata": {}
        }
      ]
    },
    {
      "cell_type": "code",
      "source": [
        "torch.manual_seed(42)\n",
        "h.train_with_wandb(model=fashionMNIST_baseline_model,\n",
        "                 train_loader=fashionMNIST_train_loader,\n",
        "                 test_loader=fashionMNIST_test_loader,\n",
        "                 loss_fn=loss_fn,\n",
        "                 optimizer=fashionMNIST_optimizer,\n",
        "                 accuracy_fn=h.accuracy_fn,\n",
        "                 device=device,\n",
        "                 epochs=5,\n",
        "                 project_name=\"fashion mnist\",\n",
        "                 hidden_units=[16,16],\n",
        "                 dropout=0.0)"
      ],
      "metadata": {
        "colab": {
          "base_uri": "https://localhost:8080/",
          "height": 1000
        },
        "id": "LlzVxBf_hOin",
        "outputId": "5d373573-1b3c-4bfe-cb99-764cb1da28b0"
      },
      "execution_count": 147,
      "outputs": [
        {
          "output_type": "display_data",
          "data": {
            "text/plain": [
              "<IPython.core.display.HTML object>"
            ],
            "text/html": [
              "Waiting for wandb.init()..."
            ]
          },
          "metadata": {}
        },
        {
          "output_type": "display_data",
          "data": {
            "text/plain": [
              "<IPython.core.display.HTML object>"
            ],
            "text/html": [
              "Tracking run with wandb version 0.21.3"
            ]
          },
          "metadata": {}
        },
        {
          "output_type": "display_data",
          "data": {
            "text/plain": [
              "<IPython.core.display.HTML object>"
            ],
            "text/html": [
              "Run data is saved locally in <code>/content/wandb/run-20250904_225810-27hzdz5v</code>"
            ]
          },
          "metadata": {}
        },
        {
          "output_type": "display_data",
          "data": {
            "text/plain": [
              "<IPython.core.display.HTML object>"
            ],
            "text/html": [
              "Syncing run <strong><a href='https://wandb.ai/jsrodriguez16-personal/fashion%20mnist/runs/27hzdz5v' target=\"_blank\">hearty-wildflower-32</a></strong> to <a href='https://wandb.ai/jsrodriguez16-personal/fashion%20mnist' target=\"_blank\">Weights & Biases</a> (<a href='https://wandb.me/developer-guide' target=\"_blank\">docs</a>)<br>"
            ]
          },
          "metadata": {}
        },
        {
          "output_type": "display_data",
          "data": {
            "text/plain": [
              "<IPython.core.display.HTML object>"
            ],
            "text/html": [
              " View project at <a href='https://wandb.ai/jsrodriguez16-personal/fashion%20mnist' target=\"_blank\">https://wandb.ai/jsrodriguez16-personal/fashion%20mnist</a>"
            ]
          },
          "metadata": {}
        },
        {
          "output_type": "display_data",
          "data": {
            "text/plain": [
              "<IPython.core.display.HTML object>"
            ],
            "text/html": [
              " View run at <a href='https://wandb.ai/jsrodriguez16-personal/fashion%20mnist/runs/27hzdz5v' target=\"_blank\">https://wandb.ai/jsrodriguez16-personal/fashion%20mnist/runs/27hzdz5v</a>"
            ]
          },
          "metadata": {}
        },
        {
          "output_type": "stream",
          "name": "stderr",
          "text": [
            "\r  0%|          | 0/5 [00:00<?, ?it/s]"
          ]
        },
        {
          "output_type": "stream",
          "name": "stdout",
          "text": [
            "Epoch: 0 \n",
            "---------\n",
            "Train loss: 0.55303 | Train acc: 80.30%\n"
          ]
        },
        {
          "output_type": "stream",
          "name": "stderr",
          "text": [
            "\r 20%|██        | 1/5 [00:11<00:47, 11.93s/it]"
          ]
        },
        {
          "output_type": "stream",
          "name": "stdout",
          "text": [
            "Test loss: 0.36890 | Test acc: 86.69%\n",
            "\n",
            "Epoch: 1 \n",
            "---------\n",
            "Train loss: 0.32652 | Train acc: 88.31%\n"
          ]
        },
        {
          "output_type": "stream",
          "name": "stderr",
          "text": [
            "\r 40%|████      | 2/5 [00:24<00:36, 12.01s/it]"
          ]
        },
        {
          "output_type": "stream",
          "name": "stdout",
          "text": [
            "Test loss: 0.31692 | Test acc: 88.51%\n",
            "\n",
            "Epoch: 2 \n",
            "---------\n",
            "Train loss: 0.28740 | Train acc: 89.71%\n"
          ]
        },
        {
          "output_type": "stream",
          "name": "stderr",
          "text": [
            "\r 60%|██████    | 3/5 [00:35<00:23, 11.90s/it]"
          ]
        },
        {
          "output_type": "stream",
          "name": "stdout",
          "text": [
            "Test loss: 0.29721 | Test acc: 89.63%\n",
            "\n",
            "Epoch: 3 \n",
            "---------\n",
            "Train loss: 0.26422 | Train acc: 90.48%\n"
          ]
        },
        {
          "output_type": "stream",
          "name": "stderr",
          "text": [
            "\r 80%|████████  | 4/5 [00:47<00:11, 11.85s/it]"
          ]
        },
        {
          "output_type": "stream",
          "name": "stdout",
          "text": [
            "Test loss: 0.28969 | Test acc: 89.34%\n",
            "\n",
            "Epoch: 4 \n",
            "---------\n",
            "Train loss: 0.24958 | Train acc: 90.96%\n"
          ]
        },
        {
          "output_type": "stream",
          "name": "stderr",
          "text": [
            "100%|██████████| 5/5 [00:59<00:00, 11.86s/it]"
          ]
        },
        {
          "output_type": "stream",
          "name": "stdout",
          "text": [
            "Test loss: 0.27416 | Test acc: 90.14%\n",
            "\n"
          ]
        },
        {
          "output_type": "stream",
          "name": "stderr",
          "text": [
            "\n"
          ]
        },
        {
          "output_type": "display_data",
          "data": {
            "text/plain": [
              "<IPython.core.display.HTML object>"
            ],
            "text/html": []
          },
          "metadata": {}
        },
        {
          "output_type": "display_data",
          "data": {
            "text/plain": [
              "<IPython.core.display.HTML object>"
            ],
            "text/html": [
              "<br>    <style><br>        .wandb-row {<br>            display: flex;<br>            flex-direction: row;<br>            flex-wrap: wrap;<br>            justify-content: flex-start;<br>            width: 100%;<br>        }<br>        .wandb-col {<br>            display: flex;<br>            flex-direction: column;<br>            flex-basis: 100%;<br>            flex: 1;<br>            padding: 10px;<br>        }<br>    </style><br><div class=\"wandb-row\"><div class=\"wandb-col\"><h3>Run history:</h3><br/><table class=\"wandb\"><tr><td>epoch</td><td>▁▃▅▆█</td></tr><tr><td>test_acc</td><td>▁▅▇▆█</td></tr><tr><td>test_loss</td><td>█▄▃▂▁</td></tr><tr><td>train_acc</td><td>▁▆▇██</td></tr><tr><td>train_loss</td><td>█▃▂▁▁</td></tr></table><br/></div><div class=\"wandb-col\"><h3>Run summary:</h3><br/><table class=\"wandb\"><tr><td>epoch</td><td>4</td></tr><tr><td>test_acc</td><td>0.90136</td></tr><tr><td>test_loss</td><td>0.27416</td></tr><tr><td>train_acc</td><td>0.90963</td></tr><tr><td>train_loss</td><td>0.24958</td></tr></table><br/></div></div>"
            ]
          },
          "metadata": {}
        },
        {
          "output_type": "display_data",
          "data": {
            "text/plain": [
              "<IPython.core.display.HTML object>"
            ],
            "text/html": [
              " View run <strong style=\"color:#cdcd00\">hearty-wildflower-32</strong> at: <a href='https://wandb.ai/jsrodriguez16-personal/fashion%20mnist/runs/27hzdz5v' target=\"_blank\">https://wandb.ai/jsrodriguez16-personal/fashion%20mnist/runs/27hzdz5v</a><br> View project at: <a href='https://wandb.ai/jsrodriguez16-personal/fashion%20mnist' target=\"_blank\">https://wandb.ai/jsrodriguez16-personal/fashion%20mnist</a><br>Synced 5 W&B file(s), 0 media file(s), 0 artifact file(s) and 0 other file(s)"
            ]
          },
          "metadata": {}
        },
        {
          "output_type": "display_data",
          "data": {
            "text/plain": [
              "<IPython.core.display.HTML object>"
            ],
            "text/html": [
              "Find logs at: <code>./wandb/run-20250904_225810-27hzdz5v/logs</code>"
            ]
          },
          "metadata": {}
        }
      ]
    },
    {
      "cell_type": "markdown",
      "source": [
        "# Experimentation\n"
      ],
      "metadata": {
        "id": "x7Ry-wKlGuwG"
      }
    },
    {
      "cell_type": "markdown",
      "source": [
        "### Training for more epochs\n",
        "We can train our model for more epochs. Let's try to train MNIST for 15 epochs and fashion-Mnist for 20."
      ],
      "metadata": {
        "id": "Wnets2o-7kkd"
      }
    },
    {
      "cell_type": "code",
      "source": [
        "# Define models\n",
        "MNIST_model_1=models.TinyVGG(in_channels=1,\n",
        "                       hidden_units=[16,16],\n",
        "                       out_features=10,\n",
        "                       dropout=0).to(device)\n",
        "fashionMNIST_model_1=models.TinyVGG(in_channels=1,\n",
        "                       hidden_units=[16,16],\n",
        "                       out_features=10,\n",
        "                       dropout=0).to(device)\n",
        "\n",
        "# Set optimizers\n",
        "MNIST_optimizer = torch.optim.SGD(params=MNIST_model_1.parameters(), lr=0.1)\n",
        "fashionMNIST_optimizer = torch.optim.SGD(params=fashionMNIST_model_1.parameters(), lr=0.1)"
      ],
      "metadata": {
        "id": "_Rd35EMKPVKo"
      },
      "execution_count": 16,
      "outputs": []
    },
    {
      "cell_type": "code",
      "source": [
        "torch.manual_seed(42)\n",
        "h.train_with_wandb(model=MNIST_model_1,\n",
        "                 train_loader=MNIST_train_loader,\n",
        "                 test_loader=MNIST_test_loader,\n",
        "                 loss_fn=loss_fn,\n",
        "                 optimizer=MNIST_optimizer,\n",
        "                 accuracy_fn=h.accuracy_fn,\n",
        "                 device=device,\n",
        "                 epochs=15,\n",
        "                 project_name=\"mnist\",\n",
        "                 hidden_units=[16,16],\n",
        "                 dropout=0.0)"
      ],
      "metadata": {
        "colab": {
          "base_uri": "https://localhost:8080/",
          "height": 1000
        },
        "id": "LNLtJUAZP2_f",
        "outputId": "b7d2c248-9e3f-45e3-d36d-50ef09ba781c"
      },
      "execution_count": 17,
      "outputs": [
        {
          "output_type": "display_data",
          "data": {
            "text/plain": [
              "<IPython.core.display.HTML object>"
            ],
            "text/html": [
              "Waiting for wandb.init()..."
            ]
          },
          "metadata": {}
        },
        {
          "output_type": "display_data",
          "data": {
            "text/plain": [
              "<IPython.core.display.HTML object>"
            ],
            "text/html": [
              "Tracking run with wandb version 0.21.3"
            ]
          },
          "metadata": {}
        },
        {
          "output_type": "display_data",
          "data": {
            "text/plain": [
              "<IPython.core.display.HTML object>"
            ],
            "text/html": [
              "Run data is saved locally in <code>/content/wandb/run-20250904_230036-mimrvxbr</code>"
            ]
          },
          "metadata": {}
        },
        {
          "output_type": "display_data",
          "data": {
            "text/plain": [
              "<IPython.core.display.HTML object>"
            ],
            "text/html": [
              "Syncing run <strong><a href='https://wandb.ai/jsrodriguez16-personal/mnist/runs/mimrvxbr' target=\"_blank\">ancient-water-23</a></strong> to <a href='https://wandb.ai/jsrodriguez16-personal/mnist' target=\"_blank\">Weights & Biases</a> (<a href='https://wandb.me/developer-guide' target=\"_blank\">docs</a>)<br>"
            ]
          },
          "metadata": {}
        },
        {
          "output_type": "display_data",
          "data": {
            "text/plain": [
              "<IPython.core.display.HTML object>"
            ],
            "text/html": [
              " View project at <a href='https://wandb.ai/jsrodriguez16-personal/mnist' target=\"_blank\">https://wandb.ai/jsrodriguez16-personal/mnist</a>"
            ]
          },
          "metadata": {}
        },
        {
          "output_type": "display_data",
          "data": {
            "text/plain": [
              "<IPython.core.display.HTML object>"
            ],
            "text/html": [
              " View run at <a href='https://wandb.ai/jsrodriguez16-personal/mnist/runs/mimrvxbr' target=\"_blank\">https://wandb.ai/jsrodriguez16-personal/mnist/runs/mimrvxbr</a>"
            ]
          },
          "metadata": {}
        },
        {
          "output_type": "stream",
          "name": "stderr",
          "text": [
            "\r  0%|          | 0/15 [00:00<?, ?it/s]"
          ]
        },
        {
          "output_type": "stream",
          "name": "stdout",
          "text": [
            "Epoch: 0 \n",
            "---------\n",
            "Train loss: 0.28460 | Train acc: 90.38%\n"
          ]
        },
        {
          "output_type": "stream",
          "name": "stderr",
          "text": [
            "\r  7%|▋         | 1/15 [00:12<02:52, 12.33s/it]"
          ]
        },
        {
          "output_type": "stream",
          "name": "stdout",
          "text": [
            "Test loss: 0.06501 | Test acc: 97.99%\n",
            "\n",
            "Epoch: 1 \n",
            "---------\n",
            "Train loss: 0.06224 | Train acc: 98.13%\n"
          ]
        },
        {
          "output_type": "stream",
          "name": "stderr",
          "text": [
            "\r 13%|█▎        | 2/15 [00:24<02:38, 12.22s/it]"
          ]
        },
        {
          "output_type": "stream",
          "name": "stdout",
          "text": [
            "Test loss: 0.04822 | Test acc: 98.50%\n",
            "\n",
            "Epoch: 2 \n",
            "---------\n",
            "Train loss: 0.04604 | Train acc: 98.58%\n"
          ]
        },
        {
          "output_type": "stream",
          "name": "stderr",
          "text": [
            "\r 20%|██        | 3/15 [00:37<02:31, 12.62s/it]"
          ]
        },
        {
          "output_type": "stream",
          "name": "stdout",
          "text": [
            "Test loss: 0.04305 | Test acc: 98.57%\n",
            "\n",
            "Epoch: 3 \n",
            "---------\n",
            "Train loss: 0.03809 | Train acc: 98.81%\n"
          ]
        },
        {
          "output_type": "stream",
          "name": "stderr",
          "text": [
            "\r 27%|██▋       | 4/15 [00:52<02:27, 13.36s/it]"
          ]
        },
        {
          "output_type": "stream",
          "name": "stdout",
          "text": [
            "Test loss: 0.04200 | Test acc: 98.69%\n",
            "\n",
            "Epoch: 4 \n",
            "---------\n",
            "Train loss: 0.03346 | Train acc: 99.01%\n"
          ]
        },
        {
          "output_type": "stream",
          "name": "stderr",
          "text": [
            "\r 33%|███▎      | 5/15 [01:04<02:10, 13.08s/it]"
          ]
        },
        {
          "output_type": "stream",
          "name": "stdout",
          "text": [
            "Test loss: 0.03890 | Test acc: 98.68%\n",
            "\n",
            "Epoch: 5 \n",
            "---------\n",
            "Train loss: 0.02907 | Train acc: 99.08%\n"
          ]
        },
        {
          "output_type": "stream",
          "name": "stderr",
          "text": [
            "\r 40%|████      | 6/15 [01:17<01:56, 12.93s/it]"
          ]
        },
        {
          "output_type": "stream",
          "name": "stdout",
          "text": [
            "Test loss: 0.03286 | Test acc: 98.90%\n",
            "\n",
            "Epoch: 6 \n",
            "---------\n",
            "Train loss: 0.02545 | Train acc: 99.17%\n"
          ]
        },
        {
          "output_type": "stream",
          "name": "stderr",
          "text": [
            "\r 47%|████▋     | 7/15 [01:29<01:41, 12.64s/it]"
          ]
        },
        {
          "output_type": "stream",
          "name": "stdout",
          "text": [
            "Test loss: 0.03697 | Test acc: 98.64%\n",
            "\n",
            "Epoch: 7 \n",
            "---------\n",
            "Train loss: 0.02370 | Train acc: 99.27%\n"
          ]
        },
        {
          "output_type": "stream",
          "name": "stderr",
          "text": [
            "\r 53%|█████▎    | 8/15 [01:41<01:26, 12.42s/it]"
          ]
        },
        {
          "output_type": "stream",
          "name": "stdout",
          "text": [
            "Test loss: 0.02997 | Test acc: 99.05%\n",
            "\n",
            "Epoch: 8 \n",
            "---------\n",
            "Train loss: 0.02172 | Train acc: 99.33%\n"
          ]
        },
        {
          "output_type": "stream",
          "name": "stderr",
          "text": [
            "\r 60%|██████    | 9/15 [01:53<01:13, 12.28s/it]"
          ]
        },
        {
          "output_type": "stream",
          "name": "stdout",
          "text": [
            "Test loss: 0.03345 | Test acc: 98.97%\n",
            "\n",
            "Epoch: 9 \n",
            "---------\n",
            "Train loss: 0.01940 | Train acc: 99.37%\n"
          ]
        },
        {
          "output_type": "stream",
          "name": "stderr",
          "text": [
            "\r 67%|██████▋   | 10/15 [02:05<01:01, 12.22s/it]"
          ]
        },
        {
          "output_type": "stream",
          "name": "stdout",
          "text": [
            "Test loss: 0.02742 | Test acc: 99.09%\n",
            "\n",
            "Epoch: 10 \n",
            "---------\n",
            "Train loss: 0.01888 | Train acc: 99.39%\n"
          ]
        },
        {
          "output_type": "stream",
          "name": "stderr",
          "text": [
            "\r 73%|███████▎  | 11/15 [02:17<00:48, 12.14s/it]"
          ]
        },
        {
          "output_type": "stream",
          "name": "stdout",
          "text": [
            "Test loss: 0.02746 | Test acc: 99.10%\n",
            "\n",
            "Epoch: 11 \n",
            "---------\n",
            "Train loss: 0.01694 | Train acc: 99.45%\n"
          ]
        },
        {
          "output_type": "stream",
          "name": "stderr",
          "text": [
            "\r 80%|████████  | 12/15 [02:29<00:36, 12.10s/it]"
          ]
        },
        {
          "output_type": "stream",
          "name": "stdout",
          "text": [
            "Test loss: 0.04600 | Test acc: 98.62%\n",
            "\n",
            "Epoch: 12 \n",
            "---------\n",
            "Train loss: 0.01567 | Train acc: 99.49%\n"
          ]
        },
        {
          "output_type": "stream",
          "name": "stderr",
          "text": [
            "\r 87%|████████▋ | 13/15 [02:41<00:24, 12.01s/it]"
          ]
        },
        {
          "output_type": "stream",
          "name": "stdout",
          "text": [
            "Test loss: 0.03696 | Test acc: 98.92%\n",
            "\n",
            "Epoch: 13 \n",
            "---------\n",
            "Train loss: 0.01544 | Train acc: 99.50%\n"
          ]
        },
        {
          "output_type": "stream",
          "name": "stderr",
          "text": [
            "\r 93%|█████████▎| 14/15 [02:53<00:11, 11.99s/it]"
          ]
        },
        {
          "output_type": "stream",
          "name": "stdout",
          "text": [
            "Test loss: 0.02896 | Test acc: 99.16%\n",
            "\n",
            "Epoch: 14 \n",
            "---------\n",
            "Train loss: 0.01266 | Train acc: 99.60%\n"
          ]
        },
        {
          "output_type": "stream",
          "name": "stderr",
          "text": [
            "100%|██████████| 15/15 [03:05<00:00, 12.34s/it]"
          ]
        },
        {
          "output_type": "stream",
          "name": "stdout",
          "text": [
            "Test loss: 0.03320 | Test acc: 99.01%\n",
            "\n"
          ]
        },
        {
          "output_type": "stream",
          "name": "stderr",
          "text": [
            "\n"
          ]
        },
        {
          "output_type": "display_data",
          "data": {
            "text/plain": [
              "<IPython.core.display.HTML object>"
            ],
            "text/html": []
          },
          "metadata": {}
        },
        {
          "output_type": "display_data",
          "data": {
            "text/plain": [
              "<IPython.core.display.HTML object>"
            ],
            "text/html": [
              "<br>    <style><br>        .wandb-row {<br>            display: flex;<br>            flex-direction: row;<br>            flex-wrap: wrap;<br>            justify-content: flex-start;<br>            width: 100%;<br>        }<br>        .wandb-col {<br>            display: flex;<br>            flex-direction: column;<br>            flex-basis: 100%;<br>            flex: 1;<br>            padding: 10px;<br>        }<br>    </style><br><div class=\"wandb-row\"><div class=\"wandb-col\"><h3>Run history:</h3><br/><table class=\"wandb\"><tr><td>epoch</td><td>▁▁▂▃▃▃▄▅▅▅▆▇▇▇█</td></tr><tr><td>test_acc</td><td>▁▄▄▅▅▆▅▇▇██▅▇█▇</td></tr><tr><td>test_loss</td><td>█▅▄▄▃▂▃▁▂▁▁▄▃▁▂</td></tr><tr><td>train_acc</td><td>▁▇▇▇███████████</td></tr><tr><td>train_loss</td><td>█▂▂▂▂▁▁▁▁▁▁▁▁▁▁</td></tr></table><br/></div><div class=\"wandb-col\"><h3>Run summary:</h3><br/><table class=\"wandb\"><tr><td>epoch</td><td>14</td></tr><tr><td>test_acc</td><td>0.99012</td></tr><tr><td>test_loss</td><td>0.0332</td></tr><tr><td>train_acc</td><td>0.996</td></tr><tr><td>train_loss</td><td>0.01266</td></tr></table><br/></div></div>"
            ]
          },
          "metadata": {}
        },
        {
          "output_type": "display_data",
          "data": {
            "text/plain": [
              "<IPython.core.display.HTML object>"
            ],
            "text/html": [
              " View run <strong style=\"color:#cdcd00\">ancient-water-23</strong> at: <a href='https://wandb.ai/jsrodriguez16-personal/mnist/runs/mimrvxbr' target=\"_blank\">https://wandb.ai/jsrodriguez16-personal/mnist/runs/mimrvxbr</a><br> View project at: <a href='https://wandb.ai/jsrodriguez16-personal/mnist' target=\"_blank\">https://wandb.ai/jsrodriguez16-personal/mnist</a><br>Synced 5 W&B file(s), 0 media file(s), 0 artifact file(s) and 0 other file(s)"
            ]
          },
          "metadata": {}
        },
        {
          "output_type": "display_data",
          "data": {
            "text/plain": [
              "<IPython.core.display.HTML object>"
            ],
            "text/html": [
              "Find logs at: <code>./wandb/run-20250904_230036-mimrvxbr/logs</code>"
            ]
          },
          "metadata": {}
        }
      ]
    },
    {
      "cell_type": "code",
      "source": [
        "torch.manual_seed(42)\n",
        "h.train_with_wandb(model=fashionMNIST_model_1,\n",
        "                 train_loader=fashionMNIST_train_loader,\n",
        "                 test_loader=fashionMNIST_test_loader,\n",
        "                 loss_fn=loss_fn,\n",
        "                 optimizer=fashionMNIST_optimizer,\n",
        "                 accuracy_fn=h.accuracy_fn,\n",
        "                 device=device,\n",
        "                 epochs=20,\n",
        "                 project_name=\"fashion mnist\",\n",
        "                 hidden_units=[16,16],\n",
        "                 dropout=0.0)"
      ],
      "metadata": {
        "colab": {
          "base_uri": "https://localhost:8080/",
          "height": 1000
        },
        "id": "P4weDYw_P-mQ",
        "outputId": "ee298e96-aa44-4981-9250-74494cbd7752"
      },
      "execution_count": 18,
      "outputs": [
        {
          "output_type": "display_data",
          "data": {
            "text/plain": [
              "<IPython.core.display.HTML object>"
            ],
            "text/html": [
              "Waiting for wandb.init()..."
            ]
          },
          "metadata": {}
        },
        {
          "output_type": "display_data",
          "data": {
            "text/plain": [
              "<IPython.core.display.HTML object>"
            ],
            "text/html": [
              "Tracking run with wandb version 0.21.3"
            ]
          },
          "metadata": {}
        },
        {
          "output_type": "display_data",
          "data": {
            "text/plain": [
              "<IPython.core.display.HTML object>"
            ],
            "text/html": [
              "Run data is saved locally in <code>/content/wandb/run-20250904_230812-htl8iljo</code>"
            ]
          },
          "metadata": {}
        },
        {
          "output_type": "display_data",
          "data": {
            "text/plain": [
              "<IPython.core.display.HTML object>"
            ],
            "text/html": [
              "Syncing run <strong><a href='https://wandb.ai/jsrodriguez16-personal/fashion%20mnist/runs/htl8iljo' target=\"_blank\">autumn-sun-33</a></strong> to <a href='https://wandb.ai/jsrodriguez16-personal/fashion%20mnist' target=\"_blank\">Weights & Biases</a> (<a href='https://wandb.me/developer-guide' target=\"_blank\">docs</a>)<br>"
            ]
          },
          "metadata": {}
        },
        {
          "output_type": "display_data",
          "data": {
            "text/plain": [
              "<IPython.core.display.HTML object>"
            ],
            "text/html": [
              " View project at <a href='https://wandb.ai/jsrodriguez16-personal/fashion%20mnist' target=\"_blank\">https://wandb.ai/jsrodriguez16-personal/fashion%20mnist</a>"
            ]
          },
          "metadata": {}
        },
        {
          "output_type": "display_data",
          "data": {
            "text/plain": [
              "<IPython.core.display.HTML object>"
            ],
            "text/html": [
              " View run at <a href='https://wandb.ai/jsrodriguez16-personal/fashion%20mnist/runs/htl8iljo' target=\"_blank\">https://wandb.ai/jsrodriguez16-personal/fashion%20mnist/runs/htl8iljo</a>"
            ]
          },
          "metadata": {}
        },
        {
          "output_type": "stream",
          "name": "stderr",
          "text": [
            "\r  0%|          | 0/20 [00:00<?, ?it/s]"
          ]
        },
        {
          "output_type": "stream",
          "name": "stdout",
          "text": [
            "Epoch: 0 \n",
            "---------\n",
            "Train loss: 0.51904 | Train acc: 81.45%\n"
          ]
        },
        {
          "output_type": "stream",
          "name": "stderr",
          "text": [
            "\r  5%|▌         | 1/20 [00:11<03:47, 11.96s/it]"
          ]
        },
        {
          "output_type": "stream",
          "name": "stdout",
          "text": [
            "Test loss: 0.36282 | Test acc: 86.85%\n",
            "\n",
            "Epoch: 1 \n",
            "---------\n",
            "Train loss: 0.33214 | Train acc: 88.09%\n"
          ]
        },
        {
          "output_type": "stream",
          "name": "stderr",
          "text": [
            "\r 10%|█         | 2/20 [00:23<03:34, 11.93s/it]"
          ]
        },
        {
          "output_type": "stream",
          "name": "stdout",
          "text": [
            "Test loss: 0.33120 | Test acc: 88.02%\n",
            "\n",
            "Epoch: 2 \n",
            "---------\n",
            "Train loss: 0.29121 | Train acc: 89.55%\n"
          ]
        },
        {
          "output_type": "stream",
          "name": "stderr",
          "text": [
            "\r 15%|█▌        | 3/20 [00:35<03:23, 11.96s/it]"
          ]
        },
        {
          "output_type": "stream",
          "name": "stdout",
          "text": [
            "Test loss: 0.29642 | Test acc: 89.34%\n",
            "\n",
            "Epoch: 3 \n",
            "---------\n",
            "Train loss: 0.26581 | Train acc: 90.53%\n"
          ]
        },
        {
          "output_type": "stream",
          "name": "stderr",
          "text": [
            "\r 20%|██        | 4/20 [00:47<03:11, 11.97s/it]"
          ]
        },
        {
          "output_type": "stream",
          "name": "stdout",
          "text": [
            "Test loss: 0.28197 | Test acc: 89.77%\n",
            "\n",
            "Epoch: 4 \n",
            "---------\n",
            "Train loss: 0.25079 | Train acc: 90.99%\n"
          ]
        },
        {
          "output_type": "stream",
          "name": "stderr",
          "text": [
            "\r 25%|██▌       | 5/20 [00:59<03:00, 12.02s/it]"
          ]
        },
        {
          "output_type": "stream",
          "name": "stdout",
          "text": [
            "Test loss: 0.27781 | Test acc: 89.77%\n",
            "\n",
            "Epoch: 5 \n",
            "---------\n",
            "Train loss: 0.24080 | Train acc: 91.38%\n"
          ]
        },
        {
          "output_type": "stream",
          "name": "stderr",
          "text": [
            "\r 30%|███       | 6/20 [01:12<02:48, 12.03s/it]"
          ]
        },
        {
          "output_type": "stream",
          "name": "stdout",
          "text": [
            "Test loss: 0.27455 | Test acc: 90.11%\n",
            "\n",
            "Epoch: 6 \n",
            "---------\n",
            "Train loss: 0.23205 | Train acc: 91.76%\n"
          ]
        },
        {
          "output_type": "stream",
          "name": "stderr",
          "text": [
            "\r 35%|███▌      | 7/20 [01:24<02:36, 12.06s/it]"
          ]
        },
        {
          "output_type": "stream",
          "name": "stdout",
          "text": [
            "Test loss: 0.27314 | Test acc: 90.27%\n",
            "\n",
            "Epoch: 7 \n",
            "---------\n",
            "Train loss: 0.22425 | Train acc: 91.92%\n"
          ]
        },
        {
          "output_type": "stream",
          "name": "stderr",
          "text": [
            "\r 40%|████      | 8/20 [01:36<02:24, 12.06s/it]"
          ]
        },
        {
          "output_type": "stream",
          "name": "stdout",
          "text": [
            "Test loss: 0.26705 | Test acc: 90.28%\n",
            "\n",
            "Epoch: 8 \n",
            "---------\n",
            "Train loss: 0.21742 | Train acc: 92.11%\n"
          ]
        },
        {
          "output_type": "stream",
          "name": "stderr",
          "text": [
            "\r 45%|████▌     | 9/20 [01:48<02:12, 12.06s/it]"
          ]
        },
        {
          "output_type": "stream",
          "name": "stdout",
          "text": [
            "Test loss: 0.26340 | Test acc: 90.59%\n",
            "\n",
            "Epoch: 9 \n",
            "---------\n",
            "Train loss: 0.21129 | Train acc: 92.47%\n"
          ]
        },
        {
          "output_type": "stream",
          "name": "stderr",
          "text": [
            "\r 50%|█████     | 10/20 [02:00<02:01, 12.12s/it]"
          ]
        },
        {
          "output_type": "stream",
          "name": "stdout",
          "text": [
            "Test loss: 0.26804 | Test acc: 90.75%\n",
            "\n",
            "Epoch: 10 \n",
            "---------\n",
            "Train loss: 0.20852 | Train acc: 92.49%\n"
          ]
        },
        {
          "output_type": "stream",
          "name": "stderr",
          "text": [
            "\r 55%|█████▌    | 11/20 [02:12<01:48, 12.09s/it]"
          ]
        },
        {
          "output_type": "stream",
          "name": "stdout",
          "text": [
            "Test loss: 0.26740 | Test acc: 90.69%\n",
            "\n",
            "Epoch: 11 \n",
            "---------\n",
            "Train loss: 0.20225 | Train acc: 92.68%\n"
          ]
        },
        {
          "output_type": "stream",
          "name": "stderr",
          "text": [
            "\r 60%|██████    | 12/20 [02:24<01:36, 12.08s/it]"
          ]
        },
        {
          "output_type": "stream",
          "name": "stdout",
          "text": [
            "Test loss: 0.26524 | Test acc: 90.84%\n",
            "\n",
            "Epoch: 12 \n",
            "---------\n",
            "Train loss: 0.19779 | Train acc: 92.78%\n"
          ]
        },
        {
          "output_type": "stream",
          "name": "stderr",
          "text": [
            "\r 65%|██████▌   | 13/20 [02:36<01:24, 12.07s/it]"
          ]
        },
        {
          "output_type": "stream",
          "name": "stdout",
          "text": [
            "Test loss: 0.26114 | Test acc: 91.34%\n",
            "\n",
            "Epoch: 13 \n",
            "---------\n",
            "Train loss: 0.19545 | Train acc: 92.92%\n"
          ]
        },
        {
          "output_type": "stream",
          "name": "stderr",
          "text": [
            "\r 70%|███████   | 14/20 [02:48<01:12, 12.06s/it]"
          ]
        },
        {
          "output_type": "stream",
          "name": "stdout",
          "text": [
            "Test loss: 0.26193 | Test acc: 90.86%\n",
            "\n",
            "Epoch: 14 \n",
            "---------\n",
            "Train loss: 0.19168 | Train acc: 92.97%\n"
          ]
        },
        {
          "output_type": "stream",
          "name": "stderr",
          "text": [
            "\r 75%|███████▌  | 15/20 [03:00<01:00, 12.08s/it]"
          ]
        },
        {
          "output_type": "stream",
          "name": "stdout",
          "text": [
            "Test loss: 0.28905 | Test acc: 90.19%\n",
            "\n",
            "Epoch: 15 \n",
            "---------\n",
            "Train loss: 0.19028 | Train acc: 93.12%\n"
          ]
        },
        {
          "output_type": "stream",
          "name": "stderr",
          "text": [
            "\r 80%|████████  | 16/20 [03:12<00:48, 12.09s/it]"
          ]
        },
        {
          "output_type": "stream",
          "name": "stdout",
          "text": [
            "Test loss: 0.27652 | Test acc: 90.35%\n",
            "\n",
            "Epoch: 16 \n",
            "---------\n",
            "Train loss: 0.18975 | Train acc: 93.19%\n"
          ]
        },
        {
          "output_type": "stream",
          "name": "stderr",
          "text": [
            "\r 85%|████████▌ | 17/20 [03:25<00:36, 12.11s/it]"
          ]
        },
        {
          "output_type": "stream",
          "name": "stdout",
          "text": [
            "Test loss: 0.28389 | Test acc: 90.53%\n",
            "\n",
            "Epoch: 17 \n",
            "---------\n",
            "Train loss: 0.18462 | Train acc: 93.31%\n"
          ]
        },
        {
          "output_type": "stream",
          "name": "stderr",
          "text": [
            "\r 90%|█████████ | 18/20 [03:37<00:24, 12.09s/it]"
          ]
        },
        {
          "output_type": "stream",
          "name": "stdout",
          "text": [
            "Test loss: 0.26841 | Test acc: 90.69%\n",
            "\n",
            "Epoch: 18 \n",
            "---------\n",
            "Train loss: 0.18507 | Train acc: 93.27%\n"
          ]
        },
        {
          "output_type": "stream",
          "name": "stderr",
          "text": [
            "\r 95%|█████████▌| 19/20 [03:49<00:12, 12.07s/it]"
          ]
        },
        {
          "output_type": "stream",
          "name": "stdout",
          "text": [
            "Test loss: 0.26800 | Test acc: 91.24%\n",
            "\n",
            "Epoch: 19 \n",
            "---------\n",
            "Train loss: 0.18355 | Train acc: 93.35%\n"
          ]
        },
        {
          "output_type": "stream",
          "name": "stderr",
          "text": [
            "100%|██████████| 20/20 [04:01<00:00, 12.05s/it]"
          ]
        },
        {
          "output_type": "stream",
          "name": "stdout",
          "text": [
            "Test loss: 0.29510 | Test acc: 89.62%\n",
            "\n"
          ]
        },
        {
          "output_type": "stream",
          "name": "stderr",
          "text": [
            "\n"
          ]
        },
        {
          "output_type": "display_data",
          "data": {
            "text/plain": [
              "<IPython.core.display.HTML object>"
            ],
            "text/html": []
          },
          "metadata": {}
        },
        {
          "output_type": "display_data",
          "data": {
            "text/plain": [
              "<IPython.core.display.HTML object>"
            ],
            "text/html": [
              "<br>    <style><br>        .wandb-row {<br>            display: flex;<br>            flex-direction: row;<br>            flex-wrap: wrap;<br>            justify-content: flex-start;<br>            width: 100%;<br>        }<br>        .wandb-col {<br>            display: flex;<br>            flex-direction: column;<br>            flex-basis: 100%;<br>            flex: 1;<br>            padding: 10px;<br>        }<br>    </style><br><div class=\"wandb-row\"><div class=\"wandb-col\"><h3>Run history:</h3><br/><table class=\"wandb\"><tr><td>epoch</td><td>▁▁▂▂▂▃▃▄▄▄▅▅▅▆▆▇▇▇██</td></tr><tr><td>test_acc</td><td>▁▃▅▆▆▆▆▆▇▇▇▇█▇▆▆▇▇█▅</td></tr><tr><td>test_loss</td><td>█▆▃▂▂▂▂▁▁▁▁▁▁▁▃▂▃▂▁▃</td></tr><tr><td>train_acc</td><td>▁▅▆▆▇▇▇▇▇▇▇█████████</td></tr><tr><td>train_loss</td><td>█▄▃▃▂▂▂▂▂▂▂▁▁▁▁▁▁▁▁▁</td></tr></table><br/></div><div class=\"wandb-col\"><h3>Run summary:</h3><br/><table class=\"wandb\"><tr><td>epoch</td><td>19</td></tr><tr><td>test_acc</td><td>0.89617</td></tr><tr><td>test_loss</td><td>0.2951</td></tr><tr><td>train_acc</td><td>0.93347</td></tr><tr><td>train_loss</td><td>0.18355</td></tr></table><br/></div></div>"
            ]
          },
          "metadata": {}
        },
        {
          "output_type": "display_data",
          "data": {
            "text/plain": [
              "<IPython.core.display.HTML object>"
            ],
            "text/html": [
              " View run <strong style=\"color:#cdcd00\">autumn-sun-33</strong> at: <a href='https://wandb.ai/jsrodriguez16-personal/fashion%20mnist/runs/htl8iljo' target=\"_blank\">https://wandb.ai/jsrodriguez16-personal/fashion%20mnist/runs/htl8iljo</a><br> View project at: <a href='https://wandb.ai/jsrodriguez16-personal/fashion%20mnist' target=\"_blank\">https://wandb.ai/jsrodriguez16-personal/fashion%20mnist</a><br>Synced 5 W&B file(s), 0 media file(s), 0 artifact file(s) and 0 other file(s)"
            ]
          },
          "metadata": {}
        },
        {
          "output_type": "display_data",
          "data": {
            "text/plain": [
              "<IPython.core.display.HTML object>"
            ],
            "text/html": [
              "Find logs at: <code>./wandb/run-20250904_230812-htl8iljo/logs</code>"
            ]
          },
          "metadata": {}
        }
      ]
    },
    {
      "cell_type": "markdown",
      "source": [
        "We see that the MNIST model got an accuracy of `99.01` when the baseline_model is trained for `15` epochs."
      ],
      "metadata": {
        "id": "_228GQWwTz7S"
      }
    },
    {
      "cell_type": "markdown",
      "source": [
        "### Changing the optimizer for the Fashion MNIST Model\n",
        "We will use the Adam optimizer with a learning rate of `0.001` and train for `20` epochs."
      ],
      "metadata": {
        "id": "-w-DQCJjVFi5"
      }
    },
    {
      "cell_type": "code",
      "source": [
        "# Define models\n",
        "fashionMNIST_model_1=models.TinyVGG(in_channels=1,\n",
        "                       hidden_units=[16,16],\n",
        "                       out_features=10,\n",
        "                       dropout=0).to(device)\n",
        "\n",
        "# Set optimizers\n",
        "fashionMNIST_optimizer = torch.optim.Adam(params=fashionMNIST_model_1.parameters(), lr=0.001)\n",
        "\n",
        "torch.manual_seed(42)\n",
        "h.train_with_wandb(model=fashionMNIST_model_1,\n",
        "                 train_loader=fashionMNIST_train_loader,\n",
        "                 test_loader=fashionMNIST_test_loader,\n",
        "                 loss_fn=loss_fn,\n",
        "                 optimizer=fashionMNIST_optimizer,\n",
        "                 accuracy_fn=h.accuracy_fn,\n",
        "                 device=device,\n",
        "                 epochs=10,\n",
        "                 project_name=\"fashion mnist\",\n",
        "                 hidden_units=[16,16],\n",
        "                 dropout=0.0)"
      ],
      "metadata": {
        "colab": {
          "base_uri": "https://localhost:8080/",
          "height": 1000
        },
        "id": "IunTyGB5VDLw",
        "outputId": "134fbc23-baee-4d3b-d91b-6f5cc8ed858b"
      },
      "execution_count": 19,
      "outputs": [
        {
          "output_type": "display_data",
          "data": {
            "text/plain": [
              "<IPython.core.display.HTML object>"
            ],
            "text/html": [
              "creating run (0.0s)"
            ]
          },
          "metadata": {}
        },
        {
          "output_type": "display_data",
          "data": {
            "text/plain": [
              "<IPython.core.display.HTML object>"
            ],
            "text/html": [
              "Tracking run with wandb version 0.21.3"
            ]
          },
          "metadata": {}
        },
        {
          "output_type": "display_data",
          "data": {
            "text/plain": [
              "<IPython.core.display.HTML object>"
            ],
            "text/html": [
              "Run data is saved locally in <code>/content/wandb/run-20250904_231215-e5z6zoe2</code>"
            ]
          },
          "metadata": {}
        },
        {
          "output_type": "display_data",
          "data": {
            "text/plain": [
              "<IPython.core.display.HTML object>"
            ],
            "text/html": [
              "Syncing run <strong><a href='https://wandb.ai/jsrodriguez16-personal/fashion%20mnist/runs/e5z6zoe2' target=\"_blank\">atomic-silence-34</a></strong> to <a href='https://wandb.ai/jsrodriguez16-personal/fashion%20mnist' target=\"_blank\">Weights & Biases</a> (<a href='https://wandb.me/developer-guide' target=\"_blank\">docs</a>)<br>"
            ]
          },
          "metadata": {}
        },
        {
          "output_type": "display_data",
          "data": {
            "text/plain": [
              "<IPython.core.display.HTML object>"
            ],
            "text/html": [
              " View project at <a href='https://wandb.ai/jsrodriguez16-personal/fashion%20mnist' target=\"_blank\">https://wandb.ai/jsrodriguez16-personal/fashion%20mnist</a>"
            ]
          },
          "metadata": {}
        },
        {
          "output_type": "display_data",
          "data": {
            "text/plain": [
              "<IPython.core.display.HTML object>"
            ],
            "text/html": [
              " View run at <a href='https://wandb.ai/jsrodriguez16-personal/fashion%20mnist/runs/e5z6zoe2' target=\"_blank\">https://wandb.ai/jsrodriguez16-personal/fashion%20mnist/runs/e5z6zoe2</a>"
            ]
          },
          "metadata": {}
        },
        {
          "output_type": "stream",
          "name": "stderr",
          "text": [
            "\r  0%|          | 0/10 [00:00<?, ?it/s]"
          ]
        },
        {
          "output_type": "stream",
          "name": "stdout",
          "text": [
            "Epoch: 0 \n",
            "---------\n",
            "Train loss: 0.48801 | Train acc: 82.18%\n"
          ]
        },
        {
          "output_type": "stream",
          "name": "stderr",
          "text": [
            "\r 10%|█         | 1/10 [00:12<01:53, 12.60s/it]"
          ]
        },
        {
          "output_type": "stream",
          "name": "stdout",
          "text": [
            "Test loss: 0.37784 | Test acc: 86.55%\n",
            "\n",
            "Epoch: 1 \n",
            "---------\n",
            "Train loss: 0.32509 | Train acc: 88.33%\n"
          ]
        },
        {
          "output_type": "stream",
          "name": "stderr",
          "text": [
            "\r 20%|██        | 2/10 [00:25<01:41, 12.63s/it]"
          ]
        },
        {
          "output_type": "stream",
          "name": "stdout",
          "text": [
            "Test loss: 0.32631 | Test acc: 87.88%\n",
            "\n",
            "Epoch: 2 \n",
            "---------\n",
            "Train loss: 0.28055 | Train acc: 89.90%\n"
          ]
        },
        {
          "output_type": "stream",
          "name": "stderr",
          "text": [
            "\r 30%|███       | 3/10 [00:37<01:28, 12.60s/it]"
          ]
        },
        {
          "output_type": "stream",
          "name": "stdout",
          "text": [
            "Test loss: 0.29558 | Test acc: 89.02%\n",
            "\n",
            "Epoch: 3 \n",
            "---------\n",
            "Train loss: 0.25249 | Train acc: 90.90%\n"
          ]
        },
        {
          "output_type": "stream",
          "name": "stderr",
          "text": [
            "\r 40%|████      | 4/10 [00:50<01:15, 12.64s/it]"
          ]
        },
        {
          "output_type": "stream",
          "name": "stdout",
          "text": [
            "Test loss: 0.27945 | Test acc: 90.08%\n",
            "\n",
            "Epoch: 4 \n",
            "---------\n",
            "Train loss: 0.23265 | Train acc: 91.53%\n"
          ]
        },
        {
          "output_type": "stream",
          "name": "stderr",
          "text": [
            "\r 50%|█████     | 5/10 [01:03<01:02, 12.60s/it]"
          ]
        },
        {
          "output_type": "stream",
          "name": "stdout",
          "text": [
            "Test loss: 0.25598 | Test acc: 90.90%\n",
            "\n",
            "Epoch: 5 \n",
            "---------\n",
            "Train loss: 0.21846 | Train acc: 92.01%\n"
          ]
        },
        {
          "output_type": "stream",
          "name": "stderr",
          "text": [
            "\r 60%|██████    | 6/10 [01:15<00:50, 12.59s/it]"
          ]
        },
        {
          "output_type": "stream",
          "name": "stdout",
          "text": [
            "Test loss: 0.25012 | Test acc: 90.84%\n",
            "\n",
            "Epoch: 6 \n",
            "---------\n",
            "Train loss: 0.20737 | Train acc: 92.61%\n"
          ]
        },
        {
          "output_type": "stream",
          "name": "stderr",
          "text": [
            "\r 70%|███████   | 7/10 [01:28<00:37, 12.58s/it]"
          ]
        },
        {
          "output_type": "stream",
          "name": "stdout",
          "text": [
            "Test loss: 0.24975 | Test acc: 90.76%\n",
            "\n",
            "Epoch: 7 \n",
            "---------\n",
            "Train loss: 0.19763 | Train acc: 92.86%\n"
          ]
        },
        {
          "output_type": "stream",
          "name": "stderr",
          "text": [
            "\r 80%|████████  | 8/10 [01:40<00:25, 12.58s/it]"
          ]
        },
        {
          "output_type": "stream",
          "name": "stdout",
          "text": [
            "Test loss: 0.24083 | Test acc: 91.42%\n",
            "\n",
            "Epoch: 8 \n",
            "---------\n",
            "Train loss: 0.19099 | Train acc: 93.01%\n"
          ]
        },
        {
          "output_type": "stream",
          "name": "stderr",
          "text": [
            "\r 90%|█████████ | 9/10 [01:53<00:12, 12.58s/it]"
          ]
        },
        {
          "output_type": "stream",
          "name": "stdout",
          "text": [
            "Test loss: 0.24929 | Test acc: 91.09%\n",
            "\n",
            "Epoch: 9 \n",
            "---------\n",
            "Train loss: 0.18122 | Train acc: 93.34%\n"
          ]
        },
        {
          "output_type": "stream",
          "name": "stderr",
          "text": [
            "100%|██████████| 10/10 [02:05<00:00, 12.59s/it]"
          ]
        },
        {
          "output_type": "stream",
          "name": "stdout",
          "text": [
            "Test loss: 0.26018 | Test acc: 91.10%\n",
            "\n"
          ]
        },
        {
          "output_type": "stream",
          "name": "stderr",
          "text": [
            "\n"
          ]
        },
        {
          "output_type": "display_data",
          "data": {
            "text/plain": [
              "<IPython.core.display.HTML object>"
            ],
            "text/html": []
          },
          "metadata": {}
        },
        {
          "output_type": "display_data",
          "data": {
            "text/plain": [
              "<IPython.core.display.HTML object>"
            ],
            "text/html": [
              "<br>    <style><br>        .wandb-row {<br>            display: flex;<br>            flex-direction: row;<br>            flex-wrap: wrap;<br>            justify-content: flex-start;<br>            width: 100%;<br>        }<br>        .wandb-col {<br>            display: flex;<br>            flex-direction: column;<br>            flex-basis: 100%;<br>            flex: 1;<br>            padding: 10px;<br>        }<br>    </style><br><div class=\"wandb-row\"><div class=\"wandb-col\"><h3>Run history:</h3><br/><table class=\"wandb\"><tr><td>epoch</td><td>▁▂▃▃▄▅▆▆▇█</td></tr><tr><td>test_acc</td><td>▁▃▅▆▇▇▇███</td></tr><tr><td>test_loss</td><td>█▅▄▃▂▁▁▁▁▂</td></tr><tr><td>train_acc</td><td>▁▅▆▆▇▇████</td></tr><tr><td>train_loss</td><td>█▄▃▃▂▂▂▁▁▁</td></tr></table><br/></div><div class=\"wandb-col\"><h3>Run summary:</h3><br/><table class=\"wandb\"><tr><td>epoch</td><td>9</td></tr><tr><td>test_acc</td><td>0.91104</td></tr><tr><td>test_loss</td><td>0.26018</td></tr><tr><td>train_acc</td><td>0.93338</td></tr><tr><td>train_loss</td><td>0.18122</td></tr></table><br/></div></div>"
            ]
          },
          "metadata": {}
        },
        {
          "output_type": "display_data",
          "data": {
            "text/plain": [
              "<IPython.core.display.HTML object>"
            ],
            "text/html": [
              " View run <strong style=\"color:#cdcd00\">atomic-silence-34</strong> at: <a href='https://wandb.ai/jsrodriguez16-personal/fashion%20mnist/runs/e5z6zoe2' target=\"_blank\">https://wandb.ai/jsrodriguez16-personal/fashion%20mnist/runs/e5z6zoe2</a><br> View project at: <a href='https://wandb.ai/jsrodriguez16-personal/fashion%20mnist' target=\"_blank\">https://wandb.ai/jsrodriguez16-personal/fashion%20mnist</a><br>Synced 5 W&B file(s), 0 media file(s), 0 artifact file(s) and 0 other file(s)"
            ]
          },
          "metadata": {}
        },
        {
          "output_type": "display_data",
          "data": {
            "text/plain": [
              "<IPython.core.display.HTML object>"
            ],
            "text/html": [
              "Find logs at: <code>./wandb/run-20250904_231215-e5z6zoe2/logs</code>"
            ]
          },
          "metadata": {}
        }
      ]
    },
    {
      "cell_type": "markdown",
      "source": [
        "We note that the Adam optimizer performs better than SGD, and training for 10 epochs is sufficient to achieve a stable convergence."
      ],
      "metadata": {
        "id": "btoV6n2WZReD"
      }
    },
    {
      "cell_type": "markdown",
      "source": [
        "### Adding dropout and increasing hidden units\n",
        "Now we are going to experiment by adding dropout and increasing the number of hidden units in our TinyVGG model to see how these changes affect its performance on the MNIST and Fashion-MNIST datasets."
      ],
      "metadata": {
        "id": "OuEdAGLzZqJz"
      }
    },
    {
      "cell_type": "code",
      "source": [
        "MNIST_model_1=models.TinyVGG(in_channels=1,\n",
        "                       hidden_units=[32,32],\n",
        "                       out_features=10,\n",
        "                       dropout=0.2).to(device)\n",
        "MNIST_optimizer = torch.optim.Adam(params=MNIST_model_1.parameters(), lr=0.001)"
      ],
      "metadata": {
        "id": "GCWwIHZn4CC7"
      },
      "execution_count": 20,
      "outputs": []
    },
    {
      "cell_type": "code",
      "source": [
        "torch.manual_seed(42)\n",
        "h.train_with_wandb(model=MNIST_model_1,\n",
        "                 train_loader=MNIST_train_loader,\n",
        "                 test_loader=MNIST_test_loader,\n",
        "                 loss_fn=loss_fn,\n",
        "                 optimizer=MNIST_optimizer,\n",
        "                 accuracy_fn=h.accuracy_fn,\n",
        "                 device=device,\n",
        "                 epochs=25,\n",
        "                 project_name=\"mnist\",\n",
        "                 hidden_units=[32,32],\n",
        "                 dropout=0.2)"
      ],
      "metadata": {
        "colab": {
          "base_uri": "https://localhost:8080/",
          "height": 1000
        },
        "id": "eMuLAWWnoK24",
        "outputId": "ab555bd6-a134-4b19-d9e8-7ddbada9630f"
      },
      "execution_count": 21,
      "outputs": [
        {
          "output_type": "display_data",
          "data": {
            "text/plain": [
              "<IPython.core.display.HTML object>"
            ],
            "text/html": [
              "creating run (0.0s)"
            ]
          },
          "metadata": {}
        },
        {
          "output_type": "display_data",
          "data": {
            "text/plain": [
              "<IPython.core.display.HTML object>"
            ],
            "text/html": [
              "Tracking run with wandb version 0.21.3"
            ]
          },
          "metadata": {}
        },
        {
          "output_type": "display_data",
          "data": {
            "text/plain": [
              "<IPython.core.display.HTML object>"
            ],
            "text/html": [
              "Run data is saved locally in <code>/content/wandb/run-20250904_231423-jgov8m5x</code>"
            ]
          },
          "metadata": {}
        },
        {
          "output_type": "display_data",
          "data": {
            "text/plain": [
              "<IPython.core.display.HTML object>"
            ],
            "text/html": [
              "Syncing run <strong><a href='https://wandb.ai/jsrodriguez16-personal/mnist/runs/jgov8m5x' target=\"_blank\">graceful-spaceship-24</a></strong> to <a href='https://wandb.ai/jsrodriguez16-personal/mnist' target=\"_blank\">Weights & Biases</a> (<a href='https://wandb.me/developer-guide' target=\"_blank\">docs</a>)<br>"
            ]
          },
          "metadata": {}
        },
        {
          "output_type": "display_data",
          "data": {
            "text/plain": [
              "<IPython.core.display.HTML object>"
            ],
            "text/html": [
              " View project at <a href='https://wandb.ai/jsrodriguez16-personal/mnist' target=\"_blank\">https://wandb.ai/jsrodriguez16-personal/mnist</a>"
            ]
          },
          "metadata": {}
        },
        {
          "output_type": "display_data",
          "data": {
            "text/plain": [
              "<IPython.core.display.HTML object>"
            ],
            "text/html": [
              " View run at <a href='https://wandb.ai/jsrodriguez16-personal/mnist/runs/jgov8m5x' target=\"_blank\">https://wandb.ai/jsrodriguez16-personal/mnist/runs/jgov8m5x</a>"
            ]
          },
          "metadata": {}
        },
        {
          "output_type": "stream",
          "name": "stderr",
          "text": [
            "\r  0%|          | 0/25 [00:00<?, ?it/s]"
          ]
        },
        {
          "output_type": "stream",
          "name": "stdout",
          "text": [
            "Epoch: 0 \n",
            "---------\n",
            "Train loss: 0.40386 | Train acc: 83.22%\n"
          ]
        },
        {
          "output_type": "stream",
          "name": "stderr",
          "text": [
            "\r  4%|▍         | 1/25 [00:13<05:14, 13.10s/it]"
          ]
        },
        {
          "output_type": "stream",
          "name": "stdout",
          "text": [
            "Test loss: 0.05325 | Test acc: 98.43%\n",
            "\n",
            "Epoch: 1 \n",
            "---------\n",
            "Train loss: 0.26741 | Train acc: 87.36%\n"
          ]
        },
        {
          "output_type": "stream",
          "name": "stderr",
          "text": [
            "\r  8%|▊         | 2/25 [00:26<05:00, 13.06s/it]"
          ]
        },
        {
          "output_type": "stream",
          "name": "stdout",
          "text": [
            "Test loss: 0.03516 | Test acc: 98.78%\n",
            "\n",
            "Epoch: 2 \n",
            "---------\n",
            "Train loss: 0.25429 | Train acc: 87.43%\n"
          ]
        },
        {
          "output_type": "stream",
          "name": "stderr",
          "text": [
            "\r 12%|█▏        | 3/25 [00:39<04:47, 13.06s/it]"
          ]
        },
        {
          "output_type": "stream",
          "name": "stdout",
          "text": [
            "Test loss: 0.03027 | Test acc: 99.04%\n",
            "\n",
            "Epoch: 3 \n",
            "---------\n",
            "Train loss: 0.24067 | Train acc: 87.64%\n"
          ]
        },
        {
          "output_type": "stream",
          "name": "stderr",
          "text": [
            "\r 16%|█▌        | 4/25 [00:52<04:34, 13.06s/it]"
          ]
        },
        {
          "output_type": "stream",
          "name": "stdout",
          "text": [
            "Test loss: 0.02489 | Test acc: 99.13%\n",
            "\n",
            "Epoch: 4 \n",
            "---------\n",
            "Train loss: 0.23402 | Train acc: 88.03%\n"
          ]
        },
        {
          "output_type": "stream",
          "name": "stderr",
          "text": [
            "\r 20%|██        | 5/25 [01:05<04:21, 13.06s/it]"
          ]
        },
        {
          "output_type": "stream",
          "name": "stdout",
          "text": [
            "Test loss: 0.02200 | Test acc: 99.26%\n",
            "\n",
            "Epoch: 5 \n",
            "---------\n",
            "Train loss: 0.23360 | Train acc: 87.68%\n"
          ]
        },
        {
          "output_type": "stream",
          "name": "stderr",
          "text": [
            "\r 24%|██▍       | 6/25 [01:18<04:07, 13.04s/it]"
          ]
        },
        {
          "output_type": "stream",
          "name": "stdout",
          "text": [
            "Test loss: 0.02214 | Test acc: 99.31%\n",
            "\n",
            "Epoch: 6 \n",
            "---------\n",
            "Train loss: 0.22586 | Train acc: 88.02%\n"
          ]
        },
        {
          "output_type": "stream",
          "name": "stderr",
          "text": [
            "\r 28%|██▊       | 7/25 [01:31<03:54, 13.03s/it]"
          ]
        },
        {
          "output_type": "stream",
          "name": "stdout",
          "text": [
            "Test loss: 0.02149 | Test acc: 99.34%\n",
            "\n",
            "Epoch: 7 \n",
            "---------\n",
            "Train loss: 0.22420 | Train acc: 88.08%\n"
          ]
        },
        {
          "output_type": "stream",
          "name": "stderr",
          "text": [
            "\r 32%|███▏      | 8/25 [01:44<03:41, 13.04s/it]"
          ]
        },
        {
          "output_type": "stream",
          "name": "stdout",
          "text": [
            "Test loss: 0.02559 | Test acc: 99.20%\n",
            "\n",
            "Epoch: 8 \n",
            "---------\n",
            "Train loss: 0.22162 | Train acc: 88.09%\n"
          ]
        },
        {
          "output_type": "stream",
          "name": "stderr",
          "text": [
            "\r 36%|███▌      | 9/25 [01:57<03:28, 13.03s/it]"
          ]
        },
        {
          "output_type": "stream",
          "name": "stdout",
          "text": [
            "Test loss: 0.02470 | Test acc: 99.17%\n",
            "\n",
            "Epoch: 9 \n",
            "---------\n",
            "Train loss: 0.21846 | Train acc: 88.22%\n"
          ]
        },
        {
          "output_type": "stream",
          "name": "stderr",
          "text": [
            "\r 40%|████      | 10/25 [02:10<03:15, 13.04s/it]"
          ]
        },
        {
          "output_type": "stream",
          "name": "stdout",
          "text": [
            "Test loss: 0.02067 | Test acc: 99.32%\n",
            "\n",
            "Epoch: 10 \n",
            "---------\n",
            "Train loss: 0.21872 | Train acc: 88.23%\n"
          ]
        },
        {
          "output_type": "stream",
          "name": "stderr",
          "text": [
            "\r 44%|████▍     | 11/25 [02:23<03:02, 13.05s/it]"
          ]
        },
        {
          "output_type": "stream",
          "name": "stdout",
          "text": [
            "Test loss: 0.02267 | Test acc: 99.36%\n",
            "\n",
            "Epoch: 11 \n",
            "---------\n",
            "Train loss: 0.21717 | Train acc: 88.25%\n"
          ]
        },
        {
          "output_type": "stream",
          "name": "stderr",
          "text": [
            "\r 48%|████▊     | 12/25 [02:36<02:49, 13.02s/it]"
          ]
        },
        {
          "output_type": "stream",
          "name": "stdout",
          "text": [
            "Test loss: 0.02544 | Test acc: 99.22%\n",
            "\n",
            "Epoch: 12 \n",
            "---------\n",
            "Train loss: 0.21445 | Train acc: 88.21%\n"
          ]
        },
        {
          "output_type": "stream",
          "name": "stderr",
          "text": [
            "\r 52%|█████▏    | 13/25 [02:49<02:36, 13.01s/it]"
          ]
        },
        {
          "output_type": "stream",
          "name": "stdout",
          "text": [
            "Test loss: 0.02278 | Test acc: 99.41%\n",
            "\n",
            "Epoch: 13 \n",
            "---------\n",
            "Train loss: 0.21116 | Train acc: 88.37%\n"
          ]
        },
        {
          "output_type": "stream",
          "name": "stderr",
          "text": [
            "\r 56%|█████▌    | 14/25 [03:02<02:23, 13.01s/it]"
          ]
        },
        {
          "output_type": "stream",
          "name": "stdout",
          "text": [
            "Test loss: 0.01951 | Test acc: 99.39%\n",
            "\n",
            "Epoch: 14 \n",
            "---------\n",
            "Train loss: 0.20639 | Train acc: 88.64%\n"
          ]
        },
        {
          "output_type": "stream",
          "name": "stderr",
          "text": [
            "\r 60%|██████    | 15/25 [03:15<02:10, 13.04s/it]"
          ]
        },
        {
          "output_type": "stream",
          "name": "stdout",
          "text": [
            "Test loss: 0.02273 | Test acc: 99.40%\n",
            "\n",
            "Epoch: 15 \n",
            "---------\n",
            "Train loss: 0.21022 | Train acc: 88.40%\n"
          ]
        },
        {
          "output_type": "stream",
          "name": "stderr",
          "text": [
            "\r 64%|██████▍   | 16/25 [03:28<01:57, 13.05s/it]"
          ]
        },
        {
          "output_type": "stream",
          "name": "stdout",
          "text": [
            "Test loss: 0.02633 | Test acc: 99.33%\n",
            "\n",
            "Epoch: 16 \n",
            "---------\n",
            "Train loss: 0.21180 | Train acc: 88.44%\n"
          ]
        },
        {
          "output_type": "stream",
          "name": "stderr",
          "text": [
            "\r 68%|██████▊   | 17/25 [03:41<01:44, 13.08s/it]"
          ]
        },
        {
          "output_type": "stream",
          "name": "stdout",
          "text": [
            "Test loss: 0.01968 | Test acc: 99.40%\n",
            "\n",
            "Epoch: 17 \n",
            "---------\n",
            "Train loss: 0.20534 | Train acc: 88.56%\n"
          ]
        },
        {
          "output_type": "stream",
          "name": "stderr",
          "text": [
            "\r 72%|███████▏  | 18/25 [03:54<01:31, 13.10s/it]"
          ]
        },
        {
          "output_type": "stream",
          "name": "stdout",
          "text": [
            "Test loss: 0.02351 | Test acc: 99.32%\n",
            "\n",
            "Epoch: 18 \n",
            "---------\n",
            "Train loss: 0.20811 | Train acc: 88.35%\n"
          ]
        },
        {
          "output_type": "stream",
          "name": "stderr",
          "text": [
            "\r 76%|███████▌  | 19/25 [04:07<01:18, 13.07s/it]"
          ]
        },
        {
          "output_type": "stream",
          "name": "stdout",
          "text": [
            "Test loss: 0.02216 | Test acc: 99.36%\n",
            "\n",
            "Epoch: 19 \n",
            "---------\n",
            "Train loss: 0.20888 | Train acc: 88.32%\n"
          ]
        },
        {
          "output_type": "stream",
          "name": "stderr",
          "text": [
            "\r 80%|████████  | 20/25 [04:20<01:05, 13.05s/it]"
          ]
        },
        {
          "output_type": "stream",
          "name": "stdout",
          "text": [
            "Test loss: 0.02388 | Test acc: 99.37%\n",
            "\n",
            "Epoch: 20 \n",
            "---------\n",
            "Train loss: 0.20709 | Train acc: 88.51%\n"
          ]
        },
        {
          "output_type": "stream",
          "name": "stderr",
          "text": [
            "\r 84%|████████▍ | 21/25 [04:34<00:52, 13.06s/it]"
          ]
        },
        {
          "output_type": "stream",
          "name": "stdout",
          "text": [
            "Test loss: 0.02375 | Test acc: 99.35%\n",
            "\n",
            "Epoch: 21 \n",
            "---------\n",
            "Train loss: 0.20650 | Train acc: 88.54%\n"
          ]
        },
        {
          "output_type": "stream",
          "name": "stderr",
          "text": [
            "\r 88%|████████▊ | 22/25 [04:47<00:39, 13.05s/it]"
          ]
        },
        {
          "output_type": "stream",
          "name": "stdout",
          "text": [
            "Test loss: 0.01892 | Test acc: 99.44%\n",
            "\n",
            "Epoch: 22 \n",
            "---------\n",
            "Train loss: 0.20831 | Train acc: 88.32%\n"
          ]
        },
        {
          "output_type": "stream",
          "name": "stderr",
          "text": [
            "\r 92%|█████████▏| 23/25 [05:00<00:26, 13.04s/it]"
          ]
        },
        {
          "output_type": "stream",
          "name": "stdout",
          "text": [
            "Test loss: 0.02517 | Test acc: 99.34%\n",
            "\n",
            "Epoch: 23 \n",
            "---------\n",
            "Train loss: 0.20388 | Train acc: 88.59%\n"
          ]
        },
        {
          "output_type": "stream",
          "name": "stderr",
          "text": [
            "\r 96%|█████████▌| 24/25 [05:13<00:13, 13.05s/it]"
          ]
        },
        {
          "output_type": "stream",
          "name": "stdout",
          "text": [
            "Test loss: 0.01928 | Test acc: 99.43%\n",
            "\n",
            "Epoch: 24 \n",
            "---------\n",
            "Train loss: 0.20379 | Train acc: 88.65%\n"
          ]
        },
        {
          "output_type": "stream",
          "name": "stderr",
          "text": [
            "100%|██████████| 25/25 [05:26<00:00, 13.05s/it]"
          ]
        },
        {
          "output_type": "stream",
          "name": "stdout",
          "text": [
            "Test loss: 0.02124 | Test acc: 99.46%\n",
            "\n"
          ]
        },
        {
          "output_type": "stream",
          "name": "stderr",
          "text": [
            "\n"
          ]
        },
        {
          "output_type": "display_data",
          "data": {
            "text/plain": [
              "<IPython.core.display.HTML object>"
            ],
            "text/html": []
          },
          "metadata": {}
        },
        {
          "output_type": "display_data",
          "data": {
            "text/plain": [
              "<IPython.core.display.HTML object>"
            ],
            "text/html": [
              "<br>    <style><br>        .wandb-row {<br>            display: flex;<br>            flex-direction: row;<br>            flex-wrap: wrap;<br>            justify-content: flex-start;<br>            width: 100%;<br>        }<br>        .wandb-col {<br>            display: flex;<br>            flex-direction: column;<br>            flex-basis: 100%;<br>            flex: 1;<br>            padding: 10px;<br>        }<br>    </style><br><div class=\"wandb-row\"><div class=\"wandb-col\"><h3>Run history:</h3><br/><table class=\"wandb\"><tr><td>epoch</td><td>▁▁▂▂▂▂▃▃▃▄▄▄▅▅▅▅▆▆▆▇▇▇▇██</td></tr><tr><td>test_acc</td><td>▁▃▅▆▇▇▇▆▆▇▇▆███▇█▇▇▇▇█▇██</td></tr><tr><td>test_loss</td><td>█▄▃▂▂▂▂▂▂▁▂▂▂▁▂▃▁▂▂▂▂▁▂▁▁</td></tr><tr><td>train_acc</td><td>▁▆▆▇▇▇▇▇▇▇▇▇▇████████████</td></tr><tr><td>train_loss</td><td>█▃▃▂▂▂▂▂▂▂▂▁▁▁▁▁▁▁▁▁▁▁▁▁▁</td></tr></table><br/></div><div class=\"wandb-col\"><h3>Run summary:</h3><br/><table class=\"wandb\"><tr><td>epoch</td><td>24</td></tr><tr><td>test_acc</td><td>0.99461</td></tr><tr><td>test_loss</td><td>0.02124</td></tr><tr><td>train_acc</td><td>0.88648</td></tr><tr><td>train_loss</td><td>0.20379</td></tr></table><br/></div></div>"
            ]
          },
          "metadata": {}
        },
        {
          "output_type": "display_data",
          "data": {
            "text/plain": [
              "<IPython.core.display.HTML object>"
            ],
            "text/html": [
              " View run <strong style=\"color:#cdcd00\">graceful-spaceship-24</strong> at: <a href='https://wandb.ai/jsrodriguez16-personal/mnist/runs/jgov8m5x' target=\"_blank\">https://wandb.ai/jsrodriguez16-personal/mnist/runs/jgov8m5x</a><br> View project at: <a href='https://wandb.ai/jsrodriguez16-personal/mnist' target=\"_blank\">https://wandb.ai/jsrodriguez16-personal/mnist</a><br>Synced 5 W&B file(s), 0 media file(s), 0 artifact file(s) and 0 other file(s)"
            ]
          },
          "metadata": {}
        },
        {
          "output_type": "display_data",
          "data": {
            "text/plain": [
              "<IPython.core.display.HTML object>"
            ],
            "text/html": [
              "Find logs at: <code>./wandb/run-20250904_231423-jgov8m5x/logs</code>"
            ]
          },
          "metadata": {}
        }
      ]
    },
    {
      "cell_type": "markdown",
      "source": [
        "We can plot the progress. We include a plot from mathplotlib and an interactive plot per epoch."
      ],
      "metadata": {
        "id": "KEcSaKu5Ej5f"
      }
    },
    {
      "cell_type": "code",
      "source": [
        "h.plot_wandb_run_metrics(entity=\"jsrodriguez16-personal\",\n",
        "                       project=\"mnist\",\n",
        "                       run_id=\"jgov8m5x\")"
      ],
      "metadata": {
        "colab": {
          "base_uri": "https://localhost:8080/",
          "height": 1000
        },
        "id": "Az_TxKrhC0c9",
        "outputId": "6f5256be-1045-4792-ef18-846e5619222b"
      },
      "execution_count": 40,
      "outputs": [
        {
          "output_type": "display_data",
          "data": {
            "text/plain": [
              "<Figure size 1200x500 with 2 Axes>"
            ],
            "image/png": "[encoded data removed]"
          },
          "metadata": {}
        },
        {
          "output_type": "display_data",
          "data": {
            "text/html": [
              "<html>\n",
              "<head><meta charset=\"utf-8\" /></head>\n",
              "<body>\n",
              "    <div>            <script src=\"https://cdnjs.cloudflare.com/ajax/libs/mathjax/2.7.5/MathJax.js?config=TeX-AMS-MML_SVG\"></script><script type=\"text/javascript\">if (window.MathJax && window.MathJax.Hub && window.MathJax.Hub.Config) {window.MathJax.Hub.Config({SVG: {font: \"STIX-Web\"}});}</script>                <script type=\"text/javascript\">window.PlotlyConfig = {MathJaxConfig: 'local'};</script>\n",
              "        <script charset=\"utf-8\" src=\"https://cdn.plot.ly/plotly-2.35.2.min.js\"></script>                <div id=\"00d41232-1394-44c0-b3a3-e6959f11fce8\" class=\"plotly-graph-div\" style=\"height:525px; width:100%;\"></div>            <script type=\"text/javascript\">                                    window.PLOTLYENV=window.PLOTLYENV || {};                                    if (document.getElementById(\"00d41232-1394-44c0-b3a3-e6959f11fce8\")) {                    Plotly.newPlot(                        \"00d41232-1394-44c0-b3a3-e6959f11fce8\",                        [{\"hovertemplate\":\"variable=train_acc\\u003cbr\\u003eEpoch=%{x}\\u003cbr\\u003eAccuracy=%{y}\\u003cextra\\u003e\\u003c\\u002fextra\\u003e\",\"legendgroup\":\"train_acc\",\"line\":{\"color\":\"#636efa\",\"dash\":\"solid\"},\"marker\":{\"symbol\":\"circle\"},\"mode\":\"lines\",\"name\":\"train_acc\",\"orientation\":\"v\",\"showlegend\":true,\"x\":[0,1,2,3,4,5,6,7,8,9,10,11,12,13,14,15,16,17,18,19,20,21,22,23,24],\"xaxis\":\"x\",\"y\":[0.8322,0.8736,0.8743,0.8764333333333333,0.8803,0.8767666666666667,0.88015,0.8807833333333334,0.8808833333333334,0.8821666666666667,0.8823166666666666,0.8825,0.8820833333333333,0.8837166666666667,0.8863666666666666,0.8840166666666667,0.8844166666666666,0.88565,0.8835,0.8831833333333333,0.8851333333333333,0.8853833333333333,0.8831833333333333,0.8859333333333334,0.8864833333333333],\"yaxis\":\"y\",\"type\":\"scatter\"},{\"hovertemplate\":\"variable=test_acc\\u003cbr\\u003eEpoch=%{x}\\u003cbr\\u003eAccuracy=%{y}\\u003cextra\\u003e\\u003c\\u002fextra\\u003e\",\"legendgroup\":\"test_acc\",\"line\":{\"color\":\"#EF553B\",\"dash\":\"solid\"},\"marker\":{\"symbol\":\"circle\"},\"mode\":\"lines\",\"name\":\"test_acc\",\"orientation\":\"v\",\"showlegend\":true,\"x\":[0,1,2,3,4,5,6,7,8,9,10,11,12,13,14,15,16,17,18,19,20,21,22,23,24],\"xaxis\":\"x\",\"y\":[0.9843250798722045,0.9878194888178914,0.9904153354632588,0.9913138977635783,0.992611821086262,0.9931110223642172,0.9934105431309904,0.9920127795527156,0.9917132587859425,0.9932108626198083,0.9936102236421726,0.9922124600638977,0.9941094249201278,0.9939097444089456,0.9940095846645367,0.9933107028753994,0.9940095846645367,0.9932108626198083,0.9936102236421726,0.9937100638977636,0.9935103833865815,0.994408945686901,0.9934105431309904,0.9943091054313099,0.9946086261980831],\"yaxis\":\"y\",\"type\":\"scatter\"}],                        {\"template\":{\"data\":{\"histogram2dcontour\":[{\"type\":\"histogram2dcontour\",\"colorbar\":{\"outlinewidth\":0,\"ticks\":\"\"},\"colorscale\":[[0.0,\"#0d0887\"],[0.1111111111111111,\"#46039f\"],[0.2222222222222222,\"#7201a8\"],[0.3333333333333333,\"#9c179e\"],[0.4444444444444444,\"#bd3786\"],[0.5555555555555556,\"#d8576b\"],[0.6666666666666666,\"#ed7953\"],[0.7777777777777778,\"#fb9f3a\"],[0.8888888888888888,\"#fdca26\"],[1.0,\"#f0f921\"]]}],\"choropleth\":[{\"type\":\"choropleth\",\"colorbar\":{\"outlinewidth\":0,\"ticks\":\"\"}}],\"histogram2d\":[{\"type\":\"histogram2d\",\"colorbar\":{\"outlinewidth\":0,\"ticks\":\"\"},\"colorscale\":[[0.0,\"#0d0887\"],[0.1111111111111111,\"#46039f\"],[0.2222222222222222,\"#7201a8\"],[0.3333333333333333,\"#9c179e\"],[0.4444444444444444,\"#bd3786\"],[0.5555555555555556,\"#d8576b\"],[0.6666666666666666,\"#ed7953\"],[0.7777777777777778,\"#fb9f3a\"],[0.8888888888888888,\"#fdca26\"],[1.0,\"#f0f921\"]]}],\"heatmap\":[{\"type\":\"heatmap\",\"colorbar\":{\"outlinewidth\":0,\"ticks\":\"\"},\"colorscale\":[[0.0,\"#0d0887\"],[0.1111111111111111,\"#46039f\"],[0.2222222222222222,\"#7201a8\"],[0.3333333333333333,\"#9c179e\"],[0.4444444444444444,\"#bd3786\"],[0.5555555555555556,\"#d8576b\"],[0.6666666666666666,\"#ed7953\"],[0.7777777777777778,\"#fb9f3a\"],[0.8888888888888888,\"#fdca26\"],[1.0,\"#f0f921\"]]}],\"heatmapgl\":[{\"type\":\"heatmapgl\",\"colorbar\":{\"outlinewidth\":0,\"ticks\":\"\"},\"colorscale\":[[0.0,\"#0d0887\"],[0.1111111111111111,\"#46039f\"],[0.2222222222222222,\"#7201a8\"],[0.3333333333333333,\"#9c179e\"],[0.4444444444444444,\"#bd3786\"],[0.5555555555555556,\"#d8576b\"],[0.6666666666666666,\"#ed7953\"],[0.7777777777777778,\"#fb9f3a\"],[0.8888888888888888,\"#fdca26\"],[1.0,\"#f0f921\"]]}],\"contourcarpet\":[{\"type\":\"contourcarpet\",\"colorbar\":{\"outlinewidth\":0,\"ticks\":\"\"}}],\"contour\":[{\"type\":\"contour\",\"colorbar\":{\"outlinewidth\":0,\"ticks\":\"\"},\"colorscale\":[[0.0,\"#0d0887\"],[0.1111111111111111,\"#46039f\"],[0.2222222222222222,\"#7201a8\"],[0.3333333333333333,\"#9c179e\"],[0.4444444444444444,\"#bd3786\"],[0.5555555555555556,\"#d8576b\"],[0.6666666666666666,\"#ed7953\"],[0.7777777777777778,\"#fb9f3a\"],[0.8888888888888888,\"#fdca26\"],[1.0,\"#f0f921\"]]}],\"surface\":[{\"type\":\"surface\",\"colorbar\":{\"outlinewidth\":0,\"ticks\":\"\"},\"colorscale\":[[0.0,\"#0d0887\"],[0.1111111111111111,\"#46039f\"],[0.2222222222222222,\"#7201a8\"],[0.3333333333333333,\"#9c179e\"],[0.4444444444444444,\"#bd3786\"],[0.5555555555555556,\"#d8576b\"],[0.6666666666666666,\"#ed7953\"],[0.7777777777777778,\"#fb9f3a\"],[0.8888888888888888,\"#fdca26\"],[1.0,\"#f0f921\"]]}],\"mesh3d\":[{\"type\":\"mesh3d\",\"colorbar\":{\"outlinewidth\":0,\"ticks\":\"\"}}],\"scatter\":[{\"fillpattern\":{\"fillmode\":\"overlay\",\"size\":10,\"solidity\":0.2},\"type\":\"scatter\"}],\"parcoords\":[{\"type\":\"parcoords\",\"line\":{\"colorbar\":{\"outlinewidth\":0,\"ticks\":\"\"}}}],\"scatterpolargl\":[{\"type\":\"scatterpolargl\",\"marker\":{\"colorbar\":{\"outlinewidth\":0,\"ticks\":\"\"}}}],\"bar\":[{\"error_x\":{\"color\":\"#2a3f5f\"},\"error_y\":{\"color\":\"#2a3f5f\"},\"marker\":{\"line\":{\"color\":\"#E5ECF6\",\"width\":0.5},\"pattern\":{\"fillmode\":\"overlay\",\"size\":10,\"solidity\":0.2}},\"type\":\"bar\"}],\"scattergeo\":[{\"type\":\"scattergeo\",\"marker\":{\"colorbar\":{\"outlinewidth\":0,\"ticks\":\"\"}}}],\"scatterpolar\":[{\"type\":\"scatterpolar\",\"marker\":{\"colorbar\":{\"outlinewidth\":0,\"ticks\":\"\"}}}],\"histogram\":[{\"marker\":{\"pattern\":{\"fillmode\":\"overlay\",\"size\":10,\"solidity\":0.2}},\"type\":\"histogram\"}],\"scattergl\":[{\"type\":\"scattergl\",\"marker\":{\"colorbar\":{\"outlinewidth\":0,\"ticks\":\"\"}}}],\"scatter3d\":[{\"type\":\"scatter3d\",\"line\":{\"colorbar\":{\"outlinewidth\":0,\"ticks\":\"\"}},\"marker\":{\"colorbar\":{\"outlinewidth\":0,\"ticks\":\"\"}}}],\"scattermapbox\":[{\"type\":\"scattermapbox\",\"marker\":{\"colorbar\":{\"outlinewidth\":0,\"ticks\":\"\"}}}],\"scatterternary\":[{\"type\":\"scatterternary\",\"marker\":{\"colorbar\":{\"outlinewidth\":0,\"ticks\":\"\"}}}],\"scattercarpet\":[{\"type\":\"scattercarpet\",\"marker\":{\"colorbar\":{\"outlinewidth\":0,\"ticks\":\"\"}}}],\"carpet\":[{\"aaxis\":{\"endlinecolor\":\"#2a3f5f\",\"gridcolor\":\"white\",\"linecolor\":\"white\",\"minorgridcolor\":\"white\",\"startlinecolor\":\"#2a3f5f\"},\"baxis\":{\"endlinecolor\":\"#2a3f5f\",\"gridcolor\":\"white\",\"linecolor\":\"white\",\"minorgridcolor\":\"white\",\"startlinecolor\":\"#2a3f5f\"},\"type\":\"carpet\"}],\"table\":[{\"cells\":{\"fill\":{\"color\":\"#EBF0F8\"},\"line\":{\"color\":\"white\"}},\"header\":{\"fill\":{\"color\":\"#C8D4E3\"},\"line\":{\"color\":\"white\"}},\"type\":\"table\"}],\"barpolar\":[{\"marker\":{\"line\":{\"color\":\"#E5ECF6\",\"width\":0.5},\"pattern\":{\"fillmode\":\"overlay\",\"size\":10,\"solidity\":0.2}},\"type\":\"barpolar\"}],\"pie\":[{\"automargin\":true,\"type\":\"pie\"}]},\"layout\":{\"autotypenumbers\":\"strict\",\"colorway\":[\"#636efa\",\"#EF553B\",\"#00cc96\",\"#ab63fa\",\"#FFA15A\",\"#19d3f3\",\"#FF6692\",\"#B6E880\",\"#FF97FF\",\"#FECB52\"],\"font\":{\"color\":\"#2a3f5f\"},\"hovermode\":\"closest\",\"hoverlabel\":{\"align\":\"left\"},\"paper_bgcolor\":\"white\",\"plot_bgcolor\":\"#E5ECF6\",\"polar\":{\"bgcolor\":\"#E5ECF6\",\"angularaxis\":{\"gridcolor\":\"white\",\"linecolor\":\"white\",\"ticks\":\"\"},\"radialaxis\":{\"gridcolor\":\"white\",\"linecolor\":\"white\",\"ticks\":\"\"}},\"ternary\":{\"bgcolor\":\"#E5ECF6\",\"aaxis\":{\"gridcolor\":\"white\",\"linecolor\":\"white\",\"ticks\":\"\"},\"baxis\":{\"gridcolor\":\"white\",\"linecolor\":\"white\",\"ticks\":\"\"},\"caxis\":{\"gridcolor\":\"white\",\"linecolor\":\"white\",\"ticks\":\"\"}},\"coloraxis\":{\"colorbar\":{\"outlinewidth\":0,\"ticks\":\"\"}},\"colorscale\":{\"sequential\":[[0.0,\"#0d0887\"],[0.1111111111111111,\"#46039f\"],[0.2222222222222222,\"#7201a8\"],[0.3333333333333333,\"#9c179e\"],[0.4444444444444444,\"#bd3786\"],[0.5555555555555556,\"#d8576b\"],[0.6666666666666666,\"#ed7953\"],[0.7777777777777778,\"#fb9f3a\"],[0.8888888888888888,\"#fdca26\"],[1.0,\"#f0f921\"]],\"sequentialminus\":[[0.0,\"#0d0887\"],[0.1111111111111111,\"#46039f\"],[0.2222222222222222,\"#7201a8\"],[0.3333333333333333,\"#9c179e\"],[0.4444444444444444,\"#bd3786\"],[0.5555555555555556,\"#d8576b\"],[0.6666666666666666,\"#ed7953\"],[0.7777777777777778,\"#fb9f3a\"],[0.8888888888888888,\"#fdca26\"],[1.0,\"#f0f921\"]],\"diverging\":[[0,\"#8e0152\"],[0.1,\"#c51b7d\"],[0.2,\"#de77ae\"],[0.3,\"#f1b6da\"],[0.4,\"#fde0ef\"],[0.5,\"#f7f7f7\"],[0.6,\"#e6f5d0\"],[0.7,\"#b8e186\"],[0.8,\"#7fbc41\"],[0.9,\"#4d9221\"],[1,\"#276419\"]]},\"xaxis\":{\"gridcolor\":\"white\",\"linecolor\":\"white\",\"ticks\":\"\",\"title\":{\"standoff\":15},\"zerolinecolor\":\"white\",\"automargin\":true,\"zerolinewidth\":2},\"yaxis\":{\"gridcolor\":\"white\",\"linecolor\":\"white\",\"ticks\":\"\",\"title\":{\"standoff\":15},\"zerolinecolor\":\"white\",\"automargin\":true,\"zerolinewidth\":2},\"scene\":{\"xaxis\":{\"backgroundcolor\":\"#E5ECF6\",\"gridcolor\":\"white\",\"linecolor\":\"white\",\"showbackground\":true,\"ticks\":\"\",\"zerolinecolor\":\"white\",\"gridwidth\":2},\"yaxis\":{\"backgroundcolor\":\"#E5ECF6\",\"gridcolor\":\"white\",\"linecolor\":\"white\",\"showbackground\":true,\"ticks\":\"\",\"zerolinecolor\":\"white\",\"gridwidth\":2},\"zaxis\":{\"backgroundcolor\":\"#E5ECF6\",\"gridcolor\":\"white\",\"linecolor\":\"white\",\"showbackground\":true,\"ticks\":\"\",\"zerolinecolor\":\"white\",\"gridwidth\":2}},\"shapedefaults\":{\"line\":{\"color\":\"#2a3f5f\"}},\"annotationdefaults\":{\"arrowcolor\":\"#2a3f5f\",\"arrowhead\":0,\"arrowwidth\":1},\"geo\":{\"bgcolor\":\"white\",\"landcolor\":\"#E5ECF6\",\"subunitcolor\":\"white\",\"showland\":true,\"showlakes\":true,\"lakecolor\":\"white\"},\"title\":{\"x\":0.05},\"mapbox\":{\"style\":\"light\"}}},\"xaxis\":{\"anchor\":\"y\",\"domain\":[0.0,1.0],\"title\":{\"text\":\"Epoch\"}},\"yaxis\":{\"anchor\":\"x\",\"domain\":[0.0,1.0],\"title\":{\"text\":\"Accuracy\"}},\"legend\":{\"title\":{\"text\":\"variable\"},\"tracegroupgap\":0},\"title\":{\"text\":\"Accuracy per Epoch\"}},                        {\"responsive\": true}                    ).then(function(){\n",
              "                            \n",
              "var gd = document.getElementById('00d41232-1394-44c0-b3a3-e6959f11fce8');\n",
              "var x = new MutationObserver(function (mutations, observer) {{\n",
              "        var display = window.getComputedStyle(gd).display;\n",
              "        if (!display || display === 'none') {{\n",
              "            console.log([gd, 'removed!']);\n",
              "            Plotly.purge(gd);\n",
              "            observer.disconnect();\n",
              "        }}\n",
              "}});\n",
              "\n",
              "// Listen for the removal of the full notebook cells\n",
              "var notebookContainer = gd.closest('#notebook-container');\n",
              "if (notebookContainer) {{\n",
              "    x.observe(notebookContainer, {childList: true});\n",
              "}}\n",
              "\n",
              "// Listen for the clearing of the current output cell\n",
              "var outputEl = gd.closest('.output');\n",
              "if (outputEl) {{\n",
              "    x.observe(outputEl, {childList: true});\n",
              "}}\n",
              "\n",
              "                        })                };                            </script>        </div>\n",
              "</body>\n",
              "</html>"
            ]
          },
          "metadata": {}
        },
        {
          "output_type": "display_data",
          "data": {
            "text/html": [
              "<html>\n",
              "<head><meta charset=\"utf-8\" /></head>\n",
              "<body>\n",
              "    <div>            <script src=\"https://cdnjs.cloudflare.com/ajax/libs/mathjax/2.7.5/MathJax.js?config=TeX-AMS-MML_SVG\"></script><script type=\"text/javascript\">if (window.MathJax && window.MathJax.Hub && window.MathJax.Hub.Config) {window.MathJax.Hub.Config({SVG: {font: \"STIX-Web\"}});}</script>                <script type=\"text/javascript\">window.PlotlyConfig = {MathJaxConfig: 'local'};</script>\n",
              "        <script charset=\"utf-8\" src=\"https://cdn.plot.ly/plotly-2.35.2.min.js\"></script>                <div id=\"0086cf21-b0dd-4c5f-aa25-6442eb690218\" class=\"plotly-graph-div\" style=\"height:525px; width:100%;\"></div>            <script type=\"text/javascript\">                                    window.PLOTLYENV=window.PLOTLYENV || {};                                    if (document.getElementById(\"0086cf21-b0dd-4c5f-aa25-6442eb690218\")) {                    Plotly.newPlot(                        \"0086cf21-b0dd-4c5f-aa25-6442eb690218\",                        [{\"hovertemplate\":\"variable=train_loss\\u003cbr\\u003eEpoch=%{x}\\u003cbr\\u003eLoss=%{y}\\u003cextra\\u003e\\u003c\\u002fextra\\u003e\",\"legendgroup\":\"train_loss\",\"line\":{\"color\":\"#636efa\",\"dash\":\"solid\"},\"marker\":{\"symbol\":\"circle\"},\"mode\":\"lines\",\"name\":\"train_loss\",\"orientation\":\"v\",\"showlegend\":true,\"x\":[0,1,2,3,4,5,6,7,8,9,10,11,12,13,14,15,16,17,18,19,20,21,22,23,24],\"xaxis\":\"x\",\"y\":[0.40386173005104065,0.2674117829648157,0.2542915860335032,0.24066683468793829,0.23402414367770155,0.23360176905691624,0.22585529094760617,0.2242035148277879,0.22162441522218287,0.21845788258165122,0.21872407884870967,0.21717255936252575,0.21445098839694013,0.21116021709676522,0.20639194683111078,0.21022424473265808,0.21180432145794234,0.20533688160385938,0.2081051514155542,0.2088844558322259,0.20709119396011036,0.20649703839191547,0.20831057211309673,0.20387570389807225,0.20378884237402428],\"yaxis\":\"y\",\"type\":\"scatter\"},{\"hovertemplate\":\"variable=test_loss\\u003cbr\\u003eEpoch=%{x}\\u003cbr\\u003eLoss=%{y}\\u003cextra\\u003e\\u003c\\u002fextra\\u003e\",\"legendgroup\":\"test_loss\",\"line\":{\"color\":\"#EF553B\",\"dash\":\"solid\"},\"marker\":{\"symbol\":\"circle\"},\"mode\":\"lines\",\"name\":\"test_loss\",\"orientation\":\"v\",\"showlegend\":true,\"x\":[0,1,2,3,4,5,6,7,8,9,10,11,12,13,14,15,16,17,18,19,20,21,22,23,24],\"xaxis\":\"x\",\"y\":[0.05325237115359339,0.03516361647340939,0.030274676618507936,0.024890209600291126,0.022001887977167033,0.02214227953032451,0.02148858252320315,0.025588455471676163,0.024698268866687634,0.020673805745810896,0.02266587937620207,0.025438112229105612,0.022777410457830338,0.01950859652460771,0.02273469303652598,0.026329660711578485,0.019684377183899312,0.02351041889231455,0.0221608110479817,0.023884108573521544,0.023754048867849698,0.01891659551354343,0.02516504424380578,0.01927766588165897,0.02123690600145261],\"yaxis\":\"y\",\"type\":\"scatter\"}],                        {\"template\":{\"data\":{\"histogram2dcontour\":[{\"type\":\"histogram2dcontour\",\"colorbar\":{\"outlinewidth\":0,\"ticks\":\"\"},\"colorscale\":[[0.0,\"#0d0887\"],[0.1111111111111111,\"#46039f\"],[0.2222222222222222,\"#7201a8\"],[0.3333333333333333,\"#9c179e\"],[0.4444444444444444,\"#bd3786\"],[0.5555555555555556,\"#d8576b\"],[0.6666666666666666,\"#ed7953\"],[0.7777777777777778,\"#fb9f3a\"],[0.8888888888888888,\"#fdca26\"],[1.0,\"#f0f921\"]]}],\"choropleth\":[{\"type\":\"choropleth\",\"colorbar\":{\"outlinewidth\":0,\"ticks\":\"\"}}],\"histogram2d\":[{\"type\":\"histogram2d\",\"colorbar\":{\"outlinewidth\":0,\"ticks\":\"\"},\"colorscale\":[[0.0,\"#0d0887\"],[0.1111111111111111,\"#46039f\"],[0.2222222222222222,\"#7201a8\"],[0.3333333333333333,\"#9c179e\"],[0.4444444444444444,\"#bd3786\"],[0.5555555555555556,\"#d8576b\"],[0.6666666666666666,\"#ed7953\"],[0.7777777777777778,\"#fb9f3a\"],[0.8888888888888888,\"#fdca26\"],[1.0,\"#f0f921\"]]}],\"heatmap\":[{\"type\":\"heatmap\",\"colorbar\":{\"outlinewidth\":0,\"ticks\":\"\"},\"colorscale\":[[0.0,\"#0d0887\"],[0.1111111111111111,\"#46039f\"],[0.2222222222222222,\"#7201a8\"],[0.3333333333333333,\"#9c179e\"],[0.4444444444444444,\"#bd3786\"],[0.5555555555555556,\"#d8576b\"],[0.6666666666666666,\"#ed7953\"],[0.7777777777777778,\"#fb9f3a\"],[0.8888888888888888,\"#fdca26\"],[1.0,\"#f0f921\"]]}],\"heatmapgl\":[{\"type\":\"heatmapgl\",\"colorbar\":{\"outlinewidth\":0,\"ticks\":\"\"},\"colorscale\":[[0.0,\"#0d0887\"],[0.1111111111111111,\"#46039f\"],[0.2222222222222222,\"#7201a8\"],[0.3333333333333333,\"#9c179e\"],[0.4444444444444444,\"#bd3786\"],[0.5555555555555556,\"#d8576b\"],[0.6666666666666666,\"#ed7953\"],[0.7777777777777778,\"#fb9f3a\"],[0.8888888888888888,\"#fdca26\"],[1.0,\"#f0f921\"]]}],\"contourcarpet\":[{\"type\":\"contourcarpet\",\"colorbar\":{\"outlinewidth\":0,\"ticks\":\"\"}}],\"contour\":[{\"type\":\"contour\",\"colorbar\":{\"outlinewidth\":0,\"ticks\":\"\"},\"colorscale\":[[0.0,\"#0d0887\"],[0.1111111111111111,\"#46039f\"],[0.2222222222222222,\"#7201a8\"],[0.3333333333333333,\"#9c179e\"],[0.4444444444444444,\"#bd3786\"],[0.5555555555555556,\"#d8576b\"],[0.6666666666666666,\"#ed7953\"],[0.7777777777777778,\"#fb9f3a\"],[0.8888888888888888,\"#fdca26\"],[1.0,\"#f0f921\"]]}],\"surface\":[{\"type\":\"surface\",\"colorbar\":{\"outlinewidth\":0,\"ticks\":\"\"},\"colorscale\":[[0.0,\"#0d0887\"],[0.1111111111111111,\"#46039f\"],[0.2222222222222222,\"#7201a8\"],[0.3333333333333333,\"#9c179e\"],[0.4444444444444444,\"#bd3786\"],[0.5555555555555556,\"#d8576b\"],[0.6666666666666666,\"#ed7953\"],[0.7777777777777778,\"#fb9f3a\"],[0.8888888888888888,\"#fdca26\"],[1.0,\"#f0f921\"]]}],\"mesh3d\":[{\"type\":\"mesh3d\",\"colorbar\":{\"outlinewidth\":0,\"ticks\":\"\"}}],\"scatter\":[{\"fillpattern\":{\"fillmode\":\"overlay\",\"size\":10,\"solidity\":0.2},\"type\":\"scatter\"}],\"parcoords\":[{\"type\":\"parcoords\",\"line\":{\"colorbar\":{\"outlinewidth\":0,\"ticks\":\"\"}}}],\"scatterpolargl\":[{\"type\":\"scatterpolargl\",\"marker\":{\"colorbar\":{\"outlinewidth\":0,\"ticks\":\"\"}}}],\"bar\":[{\"error_x\":{\"color\":\"#2a3f5f\"},\"error_y\":{\"color\":\"#2a3f5f\"},\"marker\":{\"line\":{\"color\":\"#E5ECF6\",\"width\":0.5},\"pattern\":{\"fillmode\":\"overlay\",\"size\":10,\"solidity\":0.2}},\"type\":\"bar\"}],\"scattergeo\":[{\"type\":\"scattergeo\",\"marker\":{\"colorbar\":{\"outlinewidth\":0,\"ticks\":\"\"}}}],\"scatterpolar\":[{\"type\":\"scatterpolar\",\"marker\":{\"colorbar\":{\"outlinewidth\":0,\"ticks\":\"\"}}}],\"histogram\":[{\"marker\":{\"pattern\":{\"fillmode\":\"overlay\",\"size\":10,\"solidity\":0.2}},\"type\":\"histogram\"}],\"scattergl\":[{\"type\":\"scattergl\",\"marker\":{\"colorbar\":{\"outlinewidth\":0,\"ticks\":\"\"}}}],\"scatter3d\":[{\"type\":\"scatter3d\",\"line\":{\"colorbar\":{\"outlinewidth\":0,\"ticks\":\"\"}},\"marker\":{\"colorbar\":{\"outlinewidth\":0,\"ticks\":\"\"}}}],\"scattermapbox\":[{\"type\":\"scattermapbox\",\"marker\":{\"colorbar\":{\"outlinewidth\":0,\"ticks\":\"\"}}}],\"scatterternary\":[{\"type\":\"scatterternary\",\"marker\":{\"colorbar\":{\"outlinewidth\":0,\"ticks\":\"\"}}}],\"scattercarpet\":[{\"type\":\"scattercarpet\",\"marker\":{\"colorbar\":{\"outlinewidth\":0,\"ticks\":\"\"}}}],\"carpet\":[{\"aaxis\":{\"endlinecolor\":\"#2a3f5f\",\"gridcolor\":\"white\",\"linecolor\":\"white\",\"minorgridcolor\":\"white\",\"startlinecolor\":\"#2a3f5f\"},\"baxis\":{\"endlinecolor\":\"#2a3f5f\",\"gridcolor\":\"white\",\"linecolor\":\"white\",\"minorgridcolor\":\"white\",\"startlinecolor\":\"#2a3f5f\"},\"type\":\"carpet\"}],\"table\":[{\"cells\":{\"fill\":{\"color\":\"#EBF0F8\"},\"line\":{\"color\":\"white\"}},\"header\":{\"fill\":{\"color\":\"#C8D4E3\"},\"line\":{\"color\":\"white\"}},\"type\":\"table\"}],\"barpolar\":[{\"marker\":{\"line\":{\"color\":\"#E5ECF6\",\"width\":0.5},\"pattern\":{\"fillmode\":\"overlay\",\"size\":10,\"solidity\":0.2}},\"type\":\"barpolar\"}],\"pie\":[{\"automargin\":true,\"type\":\"pie\"}]},\"layout\":{\"autotypenumbers\":\"strict\",\"colorway\":[\"#636efa\",\"#EF553B\",\"#00cc96\",\"#ab63fa\",\"#FFA15A\",\"#19d3f3\",\"#FF6692\",\"#B6E880\",\"#FF97FF\",\"#FECB52\"],\"font\":{\"color\":\"#2a3f5f\"},\"hovermode\":\"closest\",\"hoverlabel\":{\"align\":\"left\"},\"paper_bgcolor\":\"white\",\"plot_bgcolor\":\"#E5ECF6\",\"polar\":{\"bgcolor\":\"#E5ECF6\",\"angularaxis\":{\"gridcolor\":\"white\",\"linecolor\":\"white\",\"ticks\":\"\"},\"radialaxis\":{\"gridcolor\":\"white\",\"linecolor\":\"white\",\"ticks\":\"\"}},\"ternary\":{\"bgcolor\":\"#E5ECF6\",\"aaxis\":{\"gridcolor\":\"white\",\"linecolor\":\"white\",\"ticks\":\"\"},\"baxis\":{\"gridcolor\":\"white\",\"linecolor\":\"white\",\"ticks\":\"\"},\"caxis\":{\"gridcolor\":\"white\",\"linecolor\":\"white\",\"ticks\":\"\"}},\"coloraxis\":{\"colorbar\":{\"outlinewidth\":0,\"ticks\":\"\"}},\"colorscale\":{\"sequential\":[[0.0,\"#0d0887\"],[0.1111111111111111,\"#46039f\"],[0.2222222222222222,\"#7201a8\"],[0.3333333333333333,\"#9c179e\"],[0.4444444444444444,\"#bd3786\"],[0.5555555555555556,\"#d8576b\"],[0.6666666666666666,\"#ed7953\"],[0.7777777777777778,\"#fb9f3a\"],[0.8888888888888888,\"#fdca26\"],[1.0,\"#f0f921\"]],\"sequentialminus\":[[0.0,\"#0d0887\"],[0.1111111111111111,\"#46039f\"],[0.2222222222222222,\"#7201a8\"],[0.3333333333333333,\"#9c179e\"],[0.4444444444444444,\"#bd3786\"],[0.5555555555555556,\"#d8576b\"],[0.6666666666666666,\"#ed7953\"],[0.7777777777777778,\"#fb9f3a\"],[0.8888888888888888,\"#fdca26\"],[1.0,\"#f0f921\"]],\"diverging\":[[0,\"#8e0152\"],[0.1,\"#c51b7d\"],[0.2,\"#de77ae\"],[0.3,\"#f1b6da\"],[0.4,\"#fde0ef\"],[0.5,\"#f7f7f7\"],[0.6,\"#e6f5d0\"],[0.7,\"#b8e186\"],[0.8,\"#7fbc41\"],[0.9,\"#4d9221\"],[1,\"#276419\"]]},\"xaxis\":{\"gridcolor\":\"white\",\"linecolor\":\"white\",\"ticks\":\"\",\"title\":{\"standoff\":15},\"zerolinecolor\":\"white\",\"automargin\":true,\"zerolinewidth\":2},\"yaxis\":{\"gridcolor\":\"white\",\"linecolor\":\"white\",\"ticks\":\"\",\"title\":{\"standoff\":15},\"zerolinecolor\":\"white\",\"automargin\":true,\"zerolinewidth\":2},\"scene\":{\"xaxis\":{\"backgroundcolor\":\"#E5ECF6\",\"gridcolor\":\"white\",\"linecolor\":\"white\",\"showbackground\":true,\"ticks\":\"\",\"zerolinecolor\":\"white\",\"gridwidth\":2},\"yaxis\":{\"backgroundcolor\":\"#E5ECF6\",\"gridcolor\":\"white\",\"linecolor\":\"white\",\"showbackground\":true,\"ticks\":\"\",\"zerolinecolor\":\"white\",\"gridwidth\":2},\"zaxis\":{\"backgroundcolor\":\"#E5ECF6\",\"gridcolor\":\"white\",\"linecolor\":\"white\",\"showbackground\":true,\"ticks\":\"\",\"zerolinecolor\":\"white\",\"gridwidth\":2}},\"shapedefaults\":{\"line\":{\"color\":\"#2a3f5f\"}},\"annotationdefaults\":{\"arrowcolor\":\"#2a3f5f\",\"arrowhead\":0,\"arrowwidth\":1},\"geo\":{\"bgcolor\":\"white\",\"landcolor\":\"#E5ECF6\",\"subunitcolor\":\"white\",\"showland\":true,\"showlakes\":true,\"lakecolor\":\"white\"},\"title\":{\"x\":0.05},\"mapbox\":{\"style\":\"light\"}}},\"xaxis\":{\"anchor\":\"y\",\"domain\":[0.0,1.0],\"title\":{\"text\":\"Epoch\"}},\"yaxis\":{\"anchor\":\"x\",\"domain\":[0.0,1.0],\"title\":{\"text\":\"Loss\"}},\"legend\":{\"title\":{\"text\":\"variable\"},\"tracegroupgap\":0},\"title\":{\"text\":\"Loss per Epoch\"}},                        {\"responsive\": true}                    ).then(function(){\n",
              "                            \n",
              "var gd = document.getElementById('0086cf21-b0dd-4c5f-aa25-6442eb690218');\n",
              "var x = new MutationObserver(function (mutations, observer) {{\n",
              "        var display = window.getComputedStyle(gd).display;\n",
              "        if (!display || display === 'none') {{\n",
              "            console.log([gd, 'removed!']);\n",
              "            Plotly.purge(gd);\n",
              "            observer.disconnect();\n",
              "        }}\n",
              "}});\n",
              "\n",
              "// Listen for the removal of the full notebook cells\n",
              "var notebookContainer = gd.closest('#notebook-container');\n",
              "if (notebookContainer) {{\n",
              "    x.observe(notebookContainer, {childList: true});\n",
              "}}\n",
              "\n",
              "// Listen for the clearing of the current output cell\n",
              "var outputEl = gd.closest('.output');\n",
              "if (outputEl) {{\n",
              "    x.observe(outputEl, {childList: true});\n",
              "}}\n",
              "\n",
              "                        })                };                            </script>        </div>\n",
              "</body>\n",
              "</html>"
            ]
          },
          "metadata": {}
        },
        {
          "output_type": "stream",
          "name": "stdout",
          "text": [
            "View run in W&B: https://wandb.ai/jsrodriguez16-personal/mnist/runs/jgov8m5x\n",
            "View project in W&B: https://wandb.ai/jsrodriguez16-personal/mnist\n"
          ]
        }
      ]
    },
    {
      "cell_type": "code",
      "source": [
        "# Define model\n",
        "fashionMNIST_model_2=models.TinyVGG(in_channels=1,\n",
        "                       hidden_units=[32,32],\n",
        "                       out_features=10,\n",
        "                       dropout=0.2).to(device)\n",
        "# Set optimizer\n",
        "fashionMNIST_optimizer = torch.optim.Adam(params=fashionMNIST_model_2.parameters(), lr=0.001)\n"
      ],
      "metadata": {
        "id": "dto9unQFZ7rD"
      },
      "execution_count": 22,
      "outputs": []
    },
    {
      "cell_type": "code",
      "source": [
        "torch.manual_seed(42)\n",
        "h.train_with_wandb(model=fashionMNIST_model_2,\n",
        "                 train_loader=fashionMNIST_train_loader,\n",
        "                 test_loader=fashionMNIST_test_loader,\n",
        "                 loss_fn=loss_fn,\n",
        "                 optimizer=fashionMNIST_optimizer,\n",
        "                 accuracy_fn=h.accuracy_fn,\n",
        "                 device=device,\n",
        "                 epochs=30,\n",
        "                 project_name=\"fashion mnist\",\n",
        "                 hidden_units=[32,32],\n",
        "                 dropout=0.2)"
      ],
      "metadata": {
        "colab": {
          "base_uri": "https://localhost:8080/",
          "height": 1000
        },
        "id": "Ytjpz4yPokKB",
        "outputId": "46b66cb4-1d62-4800-9f06-bc36cec926f9"
      },
      "execution_count": 23,
      "outputs": [
        {
          "output_type": "display_data",
          "data": {
            "text/plain": [
              "<IPython.core.display.HTML object>"
            ],
            "text/html": [
              "Waiting for wandb.init()..."
            ]
          },
          "metadata": {}
        },
        {
          "output_type": "display_data",
          "data": {
            "text/plain": [
              "<IPython.core.display.HTML object>"
            ],
            "text/html": [
              "Tracking run with wandb version 0.21.3"
            ]
          },
          "metadata": {}
        },
        {
          "output_type": "display_data",
          "data": {
            "text/plain": [
              "<IPython.core.display.HTML object>"
            ],
            "text/html": [
              "Run data is saved locally in <code>/content/wandb/run-20250904_231952-9q10j6a6</code>"
            ]
          },
          "metadata": {}
        },
        {
          "output_type": "display_data",
          "data": {
            "text/plain": [
              "<IPython.core.display.HTML object>"
            ],
            "text/html": [
              "Syncing run <strong><a href='https://wandb.ai/jsrodriguez16-personal/fashion%20mnist/runs/9q10j6a6' target=\"_blank\">trim-wood-35</a></strong> to <a href='https://wandb.ai/jsrodriguez16-personal/fashion%20mnist' target=\"_blank\">Weights & Biases</a> (<a href='https://wandb.me/developer-guide' target=\"_blank\">docs</a>)<br>"
            ]
          },
          "metadata": {}
        },
        {
          "output_type": "display_data",
          "data": {
            "text/plain": [
              "<IPython.core.display.HTML object>"
            ],
            "text/html": [
              " View project at <a href='https://wandb.ai/jsrodriguez16-personal/fashion%20mnist' target=\"_blank\">https://wandb.ai/jsrodriguez16-personal/fashion%20mnist</a>"
            ]
          },
          "metadata": {}
        },
        {
          "output_type": "display_data",
          "data": {
            "text/plain": [
              "<IPython.core.display.HTML object>"
            ],
            "text/html": [
              " View run at <a href='https://wandb.ai/jsrodriguez16-personal/fashion%20mnist/runs/9q10j6a6' target=\"_blank\">https://wandb.ai/jsrodriguez16-personal/fashion%20mnist/runs/9q10j6a6</a>"
            ]
          },
          "metadata": {}
        },
        {
          "output_type": "stream",
          "name": "stderr",
          "text": [
            "\r  0%|          | 0/30 [00:00<?, ?it/s]"
          ]
        },
        {
          "output_type": "stream",
          "name": "stdout",
          "text": [
            "Epoch: 0 \n",
            "---------\n",
            "Train loss: 0.70521 | Train acc: 72.47%\n"
          ]
        },
        {
          "output_type": "stream",
          "name": "stderr",
          "text": [
            "\r  3%|▎         | 1/30 [00:13<06:22, 13.18s/it]"
          ]
        },
        {
          "output_type": "stream",
          "name": "stdout",
          "text": [
            "Test loss: 0.35517 | Test acc: 87.79%\n",
            "\n",
            "Epoch: 1 \n",
            "---------\n",
            "Train loss: 0.53921 | Train acc: 78.14%\n"
          ]
        },
        {
          "output_type": "stream",
          "name": "stderr",
          "text": [
            "\r  7%|▋         | 2/30 [00:26<06:07, 13.11s/it]"
          ]
        },
        {
          "output_type": "stream",
          "name": "stdout",
          "text": [
            "Test loss: 0.31317 | Test acc: 88.35%\n",
            "\n",
            "Epoch: 2 \n",
            "---------\n",
            "Train loss: 0.50182 | Train acc: 79.24%\n"
          ]
        },
        {
          "output_type": "stream",
          "name": "stderr",
          "text": [
            "\r 10%|█         | 3/30 [00:39<05:54, 13.12s/it]"
          ]
        },
        {
          "output_type": "stream",
          "name": "stdout",
          "text": [
            "Test loss: 0.26580 | Test acc: 90.41%\n",
            "\n",
            "Epoch: 3 \n",
            "---------\n",
            "Train loss: 0.47190 | Train acc: 80.22%\n"
          ]
        },
        {
          "output_type": "stream",
          "name": "stderr",
          "text": [
            "\r 13%|█▎        | 4/30 [00:52<05:41, 13.13s/it]"
          ]
        },
        {
          "output_type": "stream",
          "name": "stdout",
          "text": [
            "Test loss: 0.25279 | Test acc: 90.73%\n",
            "\n",
            "Epoch: 4 \n",
            "---------\n",
            "Train loss: 0.45548 | Train acc: 80.79%\n"
          ]
        },
        {
          "output_type": "stream",
          "name": "stderr",
          "text": [
            "\r 17%|█▋        | 5/30 [01:05<05:27, 13.08s/it]"
          ]
        },
        {
          "output_type": "stream",
          "name": "stdout",
          "text": [
            "Test loss: 0.24220 | Test acc: 91.28%\n",
            "\n",
            "Epoch: 5 \n",
            "---------\n",
            "Train loss: 0.44950 | Train acc: 80.92%\n"
          ]
        },
        {
          "output_type": "stream",
          "name": "stderr",
          "text": [
            "\r 20%|██        | 6/30 [01:18<05:13, 13.08s/it]"
          ]
        },
        {
          "output_type": "stream",
          "name": "stdout",
          "text": [
            "Test loss: 0.23698 | Test acc: 91.37%\n",
            "\n",
            "Epoch: 6 \n",
            "---------\n",
            "Train loss: 0.43858 | Train acc: 81.29%\n"
          ]
        },
        {
          "output_type": "stream",
          "name": "stderr",
          "text": [
            "\r 23%|██▎       | 7/30 [01:31<05:00, 13.06s/it]"
          ]
        },
        {
          "output_type": "stream",
          "name": "stdout",
          "text": [
            "Test loss: 0.22742 | Test acc: 91.93%\n",
            "\n",
            "Epoch: 7 \n",
            "---------\n",
            "Train loss: 0.43194 | Train acc: 81.47%\n"
          ]
        },
        {
          "output_type": "stream",
          "name": "stderr",
          "text": [
            "\r 27%|██▋       | 8/30 [01:44<04:47, 13.06s/it]"
          ]
        },
        {
          "output_type": "stream",
          "name": "stdout",
          "text": [
            "Test loss: 0.22668 | Test acc: 91.60%\n",
            "\n",
            "Epoch: 8 \n",
            "---------\n",
            "Train loss: 0.42355 | Train acc: 81.66%\n"
          ]
        },
        {
          "output_type": "stream",
          "name": "stderr",
          "text": [
            "\r 30%|███       | 9/30 [01:57<04:33, 13.03s/it]"
          ]
        },
        {
          "output_type": "stream",
          "name": "stdout",
          "text": [
            "Test loss: 0.22507 | Test acc: 91.73%\n",
            "\n",
            "Epoch: 9 \n",
            "---------\n",
            "Train loss: 0.41499 | Train acc: 82.08%\n"
          ]
        },
        {
          "output_type": "stream",
          "name": "stderr",
          "text": [
            "\r 33%|███▎      | 10/30 [02:10<04:20, 13.01s/it]"
          ]
        },
        {
          "output_type": "stream",
          "name": "stdout",
          "text": [
            "Test loss: 0.23645 | Test acc: 91.56%\n",
            "\n",
            "Epoch: 10 \n",
            "---------\n",
            "Train loss: 0.41558 | Train acc: 81.82%\n"
          ]
        },
        {
          "output_type": "stream",
          "name": "stderr",
          "text": [
            "\r 37%|███▋      | 11/30 [02:23<04:06, 13.00s/it]"
          ]
        },
        {
          "output_type": "stream",
          "name": "stdout",
          "text": [
            "Test loss: 0.22076 | Test acc: 92.25%\n",
            "\n",
            "Epoch: 11 \n",
            "---------\n",
            "Train loss: 0.40563 | Train acc: 82.30%\n"
          ]
        },
        {
          "output_type": "stream",
          "name": "stderr",
          "text": [
            "\r 40%|████      | 12/30 [02:36<03:54, 13.02s/it]"
          ]
        },
        {
          "output_type": "stream",
          "name": "stdout",
          "text": [
            "Test loss: 0.22893 | Test acc: 91.93%\n",
            "\n",
            "Epoch: 12 \n",
            "---------\n",
            "Train loss: 0.39655 | Train acc: 82.67%\n"
          ]
        },
        {
          "output_type": "stream",
          "name": "stderr",
          "text": [
            "\r 43%|████▎     | 13/30 [02:49<03:41, 13.02s/it]"
          ]
        },
        {
          "output_type": "stream",
          "name": "stdout",
          "text": [
            "Test loss: 0.23794 | Test acc: 91.44%\n",
            "\n",
            "Epoch: 13 \n",
            "---------\n",
            "Train loss: 0.39676 | Train acc: 82.38%\n"
          ]
        },
        {
          "output_type": "stream",
          "name": "stderr",
          "text": [
            "\r 47%|████▋     | 14/30 [03:02<03:28, 13.00s/it]"
          ]
        },
        {
          "output_type": "stream",
          "name": "stdout",
          "text": [
            "Test loss: 0.21669 | Test acc: 92.37%\n",
            "\n",
            "Epoch: 14 \n",
            "---------\n",
            "Train loss: 0.39647 | Train acc: 82.56%\n"
          ]
        },
        {
          "output_type": "stream",
          "name": "stderr",
          "text": [
            "\r 50%|█████     | 15/30 [03:15<03:15, 13.01s/it]"
          ]
        },
        {
          "output_type": "stream",
          "name": "stdout",
          "text": [
            "Test loss: 0.22188 | Test acc: 92.06%\n",
            "\n",
            "Epoch: 15 \n",
            "---------\n",
            "Train loss: 0.39476 | Train acc: 82.54%\n"
          ]
        },
        {
          "output_type": "stream",
          "name": "stderr",
          "text": [
            "\r 53%|█████▎    | 16/30 [03:28<03:02, 13.05s/it]"
          ]
        },
        {
          "output_type": "stream",
          "name": "stdout",
          "text": [
            "Test loss: 0.21633 | Test acc: 92.33%\n",
            "\n",
            "Epoch: 16 \n",
            "---------\n",
            "Train loss: 0.38708 | Train acc: 82.83%\n"
          ]
        },
        {
          "output_type": "stream",
          "name": "stderr",
          "text": [
            "\r 57%|█████▋    | 17/30 [03:41<02:49, 13.06s/it]"
          ]
        },
        {
          "output_type": "stream",
          "name": "stdout",
          "text": [
            "Test loss: 0.22082 | Test acc: 92.13%\n",
            "\n",
            "Epoch: 17 \n",
            "---------\n",
            "Train loss: 0.38445 | Train acc: 82.59%\n"
          ]
        },
        {
          "output_type": "stream",
          "name": "stderr",
          "text": [
            "\r 60%|██████    | 18/30 [03:54<02:36, 13.06s/it]"
          ]
        },
        {
          "output_type": "stream",
          "name": "stdout",
          "text": [
            "Test loss: 0.22103 | Test acc: 92.53%\n",
            "\n",
            "Epoch: 18 \n",
            "---------\n",
            "Train loss: 0.38450 | Train acc: 82.80%\n"
          ]
        },
        {
          "output_type": "stream",
          "name": "stderr",
          "text": [
            "\r 63%|██████▎   | 19/30 [04:08<02:23, 13.09s/it]"
          ]
        },
        {
          "output_type": "stream",
          "name": "stdout",
          "text": [
            "Test loss: 0.21665 | Test acc: 92.49%\n",
            "\n",
            "Epoch: 19 \n",
            "---------\n",
            "Train loss: 0.38139 | Train acc: 82.99%\n"
          ]
        },
        {
          "output_type": "stream",
          "name": "stderr",
          "text": [
            "\r 67%|██████▋   | 20/30 [04:21<02:10, 13.09s/it]"
          ]
        },
        {
          "output_type": "stream",
          "name": "stdout",
          "text": [
            "Test loss: 0.23763 | Test acc: 91.88%\n",
            "\n",
            "Epoch: 20 \n",
            "---------\n",
            "Train loss: 0.38356 | Train acc: 82.67%\n"
          ]
        },
        {
          "output_type": "stream",
          "name": "stderr",
          "text": [
            "\r 70%|███████   | 21/30 [04:34<01:58, 13.12s/it]"
          ]
        },
        {
          "output_type": "stream",
          "name": "stdout",
          "text": [
            "Test loss: 0.21626 | Test acc: 92.48%\n",
            "\n",
            "Epoch: 21 \n",
            "---------\n",
            "Train loss: 0.38000 | Train acc: 82.93%\n"
          ]
        },
        {
          "output_type": "stream",
          "name": "stderr",
          "text": [
            "\r 73%|███████▎  | 22/30 [04:47<01:45, 13.14s/it]"
          ]
        },
        {
          "output_type": "stream",
          "name": "stdout",
          "text": [
            "Test loss: 0.23023 | Test acc: 92.35%\n",
            "\n",
            "Epoch: 22 \n",
            "---------\n",
            "Train loss: 0.37931 | Train acc: 83.00%\n"
          ]
        },
        {
          "output_type": "stream",
          "name": "stderr",
          "text": [
            "\r 77%|███████▋  | 23/30 [05:00<01:31, 13.14s/it]"
          ]
        },
        {
          "output_type": "stream",
          "name": "stdout",
          "text": [
            "Test loss: 0.21596 | Test acc: 92.42%\n",
            "\n",
            "Epoch: 23 \n",
            "---------\n",
            "Train loss: 0.37602 | Train acc: 82.99%\n"
          ]
        },
        {
          "output_type": "stream",
          "name": "stderr",
          "text": [
            "\r 80%|████████  | 24/30 [05:13<01:18, 13.12s/it]"
          ]
        },
        {
          "output_type": "stream",
          "name": "stdout",
          "text": [
            "Test loss: 0.21736 | Test acc: 92.51%\n",
            "\n",
            "Epoch: 24 \n",
            "---------\n",
            "Train loss: 0.37226 | Train acc: 83.25%\n"
          ]
        },
        {
          "output_type": "stream",
          "name": "stderr",
          "text": [
            "\r 83%|████████▎ | 25/30 [05:26<01:05, 13.13s/it]"
          ]
        },
        {
          "output_type": "stream",
          "name": "stdout",
          "text": [
            "Test loss: 0.21598 | Test acc: 92.77%\n",
            "\n",
            "Epoch: 25 \n",
            "---------\n",
            "Train loss: 0.37353 | Train acc: 83.19%\n"
          ]
        },
        {
          "output_type": "stream",
          "name": "stderr",
          "text": [
            "\r 87%|████████▋ | 26/30 [05:40<00:52, 13.16s/it]"
          ]
        },
        {
          "output_type": "stream",
          "name": "stdout",
          "text": [
            "Test loss: 0.23431 | Test acc: 91.76%\n",
            "\n",
            "Epoch: 26 \n",
            "---------\n",
            "Train loss: 0.37490 | Train acc: 83.21%\n"
          ]
        },
        {
          "output_type": "stream",
          "name": "stderr",
          "text": [
            "\r 90%|█████████ | 27/30 [05:53<00:39, 13.14s/it]"
          ]
        },
        {
          "output_type": "stream",
          "name": "stdout",
          "text": [
            "Test loss: 0.21914 | Test acc: 92.57%\n",
            "\n",
            "Epoch: 27 \n",
            "---------\n",
            "Train loss: 0.36515 | Train acc: 83.40%\n"
          ]
        },
        {
          "output_type": "stream",
          "name": "stderr",
          "text": [
            "\r 93%|█████████▎| 28/30 [06:14<00:31, 15.65s/it]"
          ]
        },
        {
          "output_type": "stream",
          "name": "stdout",
          "text": [
            "Test loss: 0.21699 | Test acc: 92.50%\n",
            "\n",
            "Epoch: 28 \n",
            "---------\n",
            "Train loss: 0.36466 | Train acc: 83.41%\n"
          ]
        },
        {
          "output_type": "stream",
          "name": "stderr",
          "text": [
            "\r 97%|█████████▋| 29/30 [06:32<00:16, 16.42s/it]"
          ]
        },
        {
          "output_type": "stream",
          "name": "stdout",
          "text": [
            "Test loss: 0.21755 | Test acc: 92.44%\n",
            "\n",
            "Epoch: 29 \n",
            "---------\n",
            "Train loss: 0.36631 | Train acc: 83.41%\n"
          ]
        },
        {
          "output_type": "stream",
          "name": "stderr",
          "text": [
            "100%|██████████| 30/30 [06:49<00:00, 13.64s/it]"
          ]
        },
        {
          "output_type": "stream",
          "name": "stdout",
          "text": [
            "Test loss: 0.22409 | Test acc: 92.33%\n",
            "\n"
          ]
        },
        {
          "output_type": "stream",
          "name": "stderr",
          "text": [
            "\n"
          ]
        },
        {
          "output_type": "display_data",
          "data": {
            "text/plain": [
              "<IPython.core.display.HTML object>"
            ],
            "text/html": []
          },
          "metadata": {}
        },
        {
          "output_type": "display_data",
          "data": {
            "text/plain": [
              "<IPython.core.display.HTML object>"
            ],
            "text/html": [
              "<br>    <style><br>        .wandb-row {<br>            display: flex;<br>            flex-direction: row;<br>            flex-wrap: wrap;<br>            justify-content: flex-start;<br>            width: 100%;<br>        }<br>        .wandb-col {<br>            display: flex;<br>            flex-direction: column;<br>            flex-basis: 100%;<br>            flex: 1;<br>            padding: 10px;<br>        }<br>    </style><br><div class=\"wandb-row\"><div class=\"wandb-col\"><h3>Run history:</h3><br/><table class=\"wandb\"><tr><td>epoch</td><td>▁▁▁▂▂▂▂▃▃▃▃▄▄▄▄▅▅▅▅▆▆▆▆▇▇▇▇███</td></tr><tr><td>test_acc</td><td>▁▂▅▅▆▆▇▆▇▆▇▇▆▇▇▇▇██▇█▇███▇███▇</td></tr><tr><td>test_loss</td><td>█▆▄▃▂▂▂▂▁▂▁▂▂▁▁▁▁▁▁▂▁▂▁▁▁▂▁▁▁▁</td></tr><tr><td>train_acc</td><td>▁▅▅▆▆▆▇▇▇▇▇▇█▇▇▇█▇████████████</td></tr><tr><td>train_loss</td><td>█▅▄▃▃▃▃▂▂▂▂▂▂▂▂▂▁▁▁▁▁▁▁▁▁▁▁▁▁▁</td></tr></table><br/></div><div class=\"wandb-col\"><h3>Run summary:</h3><br/><table class=\"wandb\"><tr><td>epoch</td><td>29</td></tr><tr><td>test_acc</td><td>0.92332</td></tr><tr><td>test_loss</td><td>0.22409</td></tr><tr><td>train_acc</td><td>0.83405</td></tr><tr><td>train_loss</td><td>0.36631</td></tr></table><br/></div></div>"
            ]
          },
          "metadata": {}
        },
        {
          "output_type": "display_data",
          "data": {
            "text/plain": [
              "<IPython.core.display.HTML object>"
            ],
            "text/html": [
              " View run <strong style=\"color:#cdcd00\">trim-wood-35</strong> at: <a href='https://wandb.ai/jsrodriguez16-personal/fashion%20mnist/runs/9q10j6a6' target=\"_blank\">https://wandb.ai/jsrodriguez16-personal/fashion%20mnist/runs/9q10j6a6</a><br> View project at: <a href='https://wandb.ai/jsrodriguez16-personal/fashion%20mnist' target=\"_blank\">https://wandb.ai/jsrodriguez16-personal/fashion%20mnist</a><br>Synced 5 W&B file(s), 0 media file(s), 0 artifact file(s) and 0 other file(s)"
            ]
          },
          "metadata": {}
        },
        {
          "output_type": "display_data",
          "data": {
            "text/plain": [
              "<IPython.core.display.HTML object>"
            ],
            "text/html": [
              "Find logs at: <code>./wandb/run-20250904_231952-9q10j6a6/logs</code>"
            ]
          },
          "metadata": {}
        }
      ]
    },
    {
      "cell_type": "code",
      "source": [
        "h.plot_wandb_run_metrics(entity=\"jsrodriguez16-personal\",\n",
        "                       project=\"fashion mnist\",\n",
        "                       run_id=\"9q10j6a6\")"
      ],
      "metadata": {
        "colab": {
          "base_uri": "https://localhost:8080/",
          "height": 1000
        },
        "id": "rabMWTMtE2mH",
        "outputId": "57131b99-e486-4c79-9d4f-023d892be146"
      },
      "execution_count": 42,
      "outputs": [
        {
          "output_type": "display_data",
          "data": {
            "text/plain": [
              "<Figure size 1200x500 with 2 Axes>"
            ],
            "image/png": "[encoded data removed]"
          },
          "metadata": {}
        },
        {
          "output_type": "display_data",
          "data": {
            "text/html": [
              "<html>\n",
              "<head><meta charset=\"utf-8\" /></head>\n",
              "<body>\n",
              "    <div>            <script src=\"https://cdnjs.cloudflare.com/ajax/libs/mathjax/2.7.5/MathJax.js?config=TeX-AMS-MML_SVG\"></script><script type=\"text/javascript\">if (window.MathJax && window.MathJax.Hub && window.MathJax.Hub.Config) {window.MathJax.Hub.Config({SVG: {font: \"STIX-Web\"}});}</script>                <script type=\"text/javascript\">window.PlotlyConfig = {MathJaxConfig: 'local'};</script>\n",
              "        <script charset=\"utf-8\" src=\"https://cdn.plot.ly/plotly-2.35.2.min.js\"></script>                <div id=\"ce254a9f-e8a7-4f4c-b90f-14bc9a351568\" class=\"plotly-graph-div\" style=\"height:525px; width:100%;\"></div>            <script type=\"text/javascript\">                                    window.PLOTLYENV=window.PLOTLYENV || {};                                    if (document.getElementById(\"ce254a9f-e8a7-4f4c-b90f-14bc9a351568\")) {                    Plotly.newPlot(                        \"ce254a9f-e8a7-4f4c-b90f-14bc9a351568\",                        [{\"hovertemplate\":\"variable=train_acc\\u003cbr\\u003eEpoch=%{x}\\u003cbr\\u003eAccuracy=%{y}\\u003cextra\\u003e\\u003c\\u002fextra\\u003e\",\"legendgroup\":\"train_acc\",\"line\":{\"color\":\"#636efa\",\"dash\":\"solid\"},\"marker\":{\"symbol\":\"circle\"},\"mode\":\"lines\",\"name\":\"train_acc\",\"orientation\":\"v\",\"showlegend\":true,\"x\":[0,1,2,3,4,5,6,7,8,9,10,11,12,13,14,15,16,17,18,19,20,21,22,23,24,25,26,27,28,29],\"xaxis\":\"x\",\"y\":[0.72465,0.7813833333333333,0.7923833333333333,0.8021666666666667,0.8079166666666666,0.8091833333333334,0.8129166666666666,0.8147333333333333,0.8166166666666667,0.8208,0.8182,0.8229666666666666,0.8266666666666667,0.82385,0.8255833333333333,0.8254333333333334,0.8283,0.8258666666666666,0.8280333333333333,0.8298833333333333,0.8266666666666667,0.8293333333333334,0.83005,0.82995,0.8324833333333334,0.83195,0.8321,0.8339666666666666,0.8341166666666666,0.83405],\"yaxis\":\"y\",\"type\":\"scatter\"},{\"hovertemplate\":\"variable=test_acc\\u003cbr\\u003eEpoch=%{x}\\u003cbr\\u003eAccuracy=%{y}\\u003cextra\\u003e\\u003c\\u002fextra\\u003e\",\"legendgroup\":\"test_acc\",\"line\":{\"color\":\"#EF553B\",\"dash\":\"solid\"},\"marker\":{\"symbol\":\"circle\"},\"mode\":\"lines\",\"name\":\"test_acc\",\"orientation\":\"v\",\"showlegend\":true,\"x\":[0,1,2,3,4,5,6,7,8,9,10,11,12,13,14,15,16,17,18,19,20,21,22,23,24,25,26,27,28,29],\"xaxis\":\"x\",\"y\":[0.8778953674121406,0.8834864217252396,0.9040535143769968,0.9073482428115016,0.9128394568690096,0.9137380191693291,0.9193290734824281,0.9160343450479234,0.917332268370607,0.9156349840255591,0.9225239616613419,0.9193290734824281,0.9144369009584664,0.9237220447284346,0.9206269968051118,0.9233226837060703,0.9213258785942492,0.9253194888178914,0.9249201277955271,0.9188298722044729,0.9248202875399361,0.9235223642172524,0.9242212460063898,0.9251198083067093,0.9277156549520766,0.9176317891373802,0.9257188498402555,0.9250199680511182,0.9244209265175719,0.9233226837060703],\"yaxis\":\"y\",\"type\":\"scatter\"}],                        {\"template\":{\"data\":{\"histogram2dcontour\":[{\"type\":\"histogram2dcontour\",\"colorbar\":{\"outlinewidth\":0,\"ticks\":\"\"},\"colorscale\":[[0.0,\"#0d0887\"],[0.1111111111111111,\"#46039f\"],[0.2222222222222222,\"#7201a8\"],[0.3333333333333333,\"#9c179e\"],[0.4444444444444444,\"#bd3786\"],[0.5555555555555556,\"#d8576b\"],[0.6666666666666666,\"#ed7953\"],[0.7777777777777778,\"#fb9f3a\"],[0.8888888888888888,\"#fdca26\"],[1.0,\"#f0f921\"]]}],\"choropleth\":[{\"type\":\"choropleth\",\"colorbar\":{\"outlinewidth\":0,\"ticks\":\"\"}}],\"histogram2d\":[{\"type\":\"histogram2d\",\"colorbar\":{\"outlinewidth\":0,\"ticks\":\"\"},\"colorscale\":[[0.0,\"#0d0887\"],[0.1111111111111111,\"#46039f\"],[0.2222222222222222,\"#7201a8\"],[0.3333333333333333,\"#9c179e\"],[0.4444444444444444,\"#bd3786\"],[0.5555555555555556,\"#d8576b\"],[0.6666666666666666,\"#ed7953\"],[0.7777777777777778,\"#fb9f3a\"],[0.8888888888888888,\"#fdca26\"],[1.0,\"#f0f921\"]]}],\"heatmap\":[{\"type\":\"heatmap\",\"colorbar\":{\"outlinewidth\":0,\"ticks\":\"\"},\"colorscale\":[[0.0,\"#0d0887\"],[0.1111111111111111,\"#46039f\"],[0.2222222222222222,\"#7201a8\"],[0.3333333333333333,\"#9c179e\"],[0.4444444444444444,\"#bd3786\"],[0.5555555555555556,\"#d8576b\"],[0.6666666666666666,\"#ed7953\"],[0.7777777777777778,\"#fb9f3a\"],[0.8888888888888888,\"#fdca26\"],[1.0,\"#f0f921\"]]}],\"heatmapgl\":[{\"type\":\"heatmapgl\",\"colorbar\":{\"outlinewidth\":0,\"ticks\":\"\"},\"colorscale\":[[0.0,\"#0d0887\"],[0.1111111111111111,\"#46039f\"],[0.2222222222222222,\"#7201a8\"],[0.3333333333333333,\"#9c179e\"],[0.4444444444444444,\"#bd3786\"],[0.5555555555555556,\"#d8576b\"],[0.6666666666666666,\"#ed7953\"],[0.7777777777777778,\"#fb9f3a\"],[0.8888888888888888,\"#fdca26\"],[1.0,\"#f0f921\"]]}],\"contourcarpet\":[{\"type\":\"contourcarpet\",\"colorbar\":{\"outlinewidth\":0,\"ticks\":\"\"}}],\"contour\":[{\"type\":\"contour\",\"colorbar\":{\"outlinewidth\":0,\"ticks\":\"\"},\"colorscale\":[[0.0,\"#0d0887\"],[0.1111111111111111,\"#46039f\"],[0.2222222222222222,\"#7201a8\"],[0.3333333333333333,\"#9c179e\"],[0.4444444444444444,\"#bd3786\"],[0.5555555555555556,\"#d8576b\"],[0.6666666666666666,\"#ed7953\"],[0.7777777777777778,\"#fb9f3a\"],[0.8888888888888888,\"#fdca26\"],[1.0,\"#f0f921\"]]}],\"surface\":[{\"type\":\"surface\",\"colorbar\":{\"outlinewidth\":0,\"ticks\":\"\"},\"colorscale\":[[0.0,\"#0d0887\"],[0.1111111111111111,\"#46039f\"],[0.2222222222222222,\"#7201a8\"],[0.3333333333333333,\"#9c179e\"],[0.4444444444444444,\"#bd3786\"],[0.5555555555555556,\"#d8576b\"],[0.6666666666666666,\"#ed7953\"],[0.7777777777777778,\"#fb9f3a\"],[0.8888888888888888,\"#fdca26\"],[1.0,\"#f0f921\"]]}],\"mesh3d\":[{\"type\":\"mesh3d\",\"colorbar\":{\"outlinewidth\":0,\"ticks\":\"\"}}],\"scatter\":[{\"fillpattern\":{\"fillmode\":\"overlay\",\"size\":10,\"solidity\":0.2},\"type\":\"scatter\"}],\"parcoords\":[{\"type\":\"parcoords\",\"line\":{\"colorbar\":{\"outlinewidth\":0,\"ticks\":\"\"}}}],\"scatterpolargl\":[{\"type\":\"scatterpolargl\",\"marker\":{\"colorbar\":{\"outlinewidth\":0,\"ticks\":\"\"}}}],\"bar\":[{\"error_x\":{\"color\":\"#2a3f5f\"},\"error_y\":{\"color\":\"#2a3f5f\"},\"marker\":{\"line\":{\"color\":\"#E5ECF6\",\"width\":0.5},\"pattern\":{\"fillmode\":\"overlay\",\"size\":10,\"solidity\":0.2}},\"type\":\"bar\"}],\"scattergeo\":[{\"type\":\"scattergeo\",\"marker\":{\"colorbar\":{\"outlinewidth\":0,\"ticks\":\"\"}}}],\"scatterpolar\":[{\"type\":\"scatterpolar\",\"marker\":{\"colorbar\":{\"outlinewidth\":0,\"ticks\":\"\"}}}],\"histogram\":[{\"marker\":{\"pattern\":{\"fillmode\":\"overlay\",\"size\":10,\"solidity\":0.2}},\"type\":\"histogram\"}],\"scattergl\":[{\"type\":\"scattergl\",\"marker\":{\"colorbar\":{\"outlinewidth\":0,\"ticks\":\"\"}}}],\"scatter3d\":[{\"type\":\"scatter3d\",\"line\":{\"colorbar\":{\"outlinewidth\":0,\"ticks\":\"\"}},\"marker\":{\"colorbar\":{\"outlinewidth\":0,\"ticks\":\"\"}}}],\"scattermapbox\":[{\"type\":\"scattermapbox\",\"marker\":{\"colorbar\":{\"outlinewidth\":0,\"ticks\":\"\"}}}],\"scatterternary\":[{\"type\":\"scatterternary\",\"marker\":{\"colorbar\":{\"outlinewidth\":0,\"ticks\":\"\"}}}],\"scattercarpet\":[{\"type\":\"scattercarpet\",\"marker\":{\"colorbar\":{\"outlinewidth\":0,\"ticks\":\"\"}}}],\"carpet\":[{\"aaxis\":{\"endlinecolor\":\"#2a3f5f\",\"gridcolor\":\"white\",\"linecolor\":\"white\",\"minorgridcolor\":\"white\",\"startlinecolor\":\"#2a3f5f\"},\"baxis\":{\"endlinecolor\":\"#2a3f5f\",\"gridcolor\":\"white\",\"linecolor\":\"white\",\"minorgridcolor\":\"white\",\"startlinecolor\":\"#2a3f5f\"},\"type\":\"carpet\"}],\"table\":[{\"cells\":{\"fill\":{\"color\":\"#EBF0F8\"},\"line\":{\"color\":\"white\"}},\"header\":{\"fill\":{\"color\":\"#C8D4E3\"},\"line\":{\"color\":\"white\"}},\"type\":\"table\"}],\"barpolar\":[{\"marker\":{\"line\":{\"color\":\"#E5ECF6\",\"width\":0.5},\"pattern\":{\"fillmode\":\"overlay\",\"size\":10,\"solidity\":0.2}},\"type\":\"barpolar\"}],\"pie\":[{\"automargin\":true,\"type\":\"pie\"}]},\"layout\":{\"autotypenumbers\":\"strict\",\"colorway\":[\"#636efa\",\"#EF553B\",\"#00cc96\",\"#ab63fa\",\"#FFA15A\",\"#19d3f3\",\"#FF6692\",\"#B6E880\",\"#FF97FF\",\"#FECB52\"],\"font\":{\"color\":\"#2a3f5f\"},\"hovermode\":\"closest\",\"hoverlabel\":{\"align\":\"left\"},\"paper_bgcolor\":\"white\",\"plot_bgcolor\":\"#E5ECF6\",\"polar\":{\"bgcolor\":\"#E5ECF6\",\"angularaxis\":{\"gridcolor\":\"white\",\"linecolor\":\"white\",\"ticks\":\"\"},\"radialaxis\":{\"gridcolor\":\"white\",\"linecolor\":\"white\",\"ticks\":\"\"}},\"ternary\":{\"bgcolor\":\"#E5ECF6\",\"aaxis\":{\"gridcolor\":\"white\",\"linecolor\":\"white\",\"ticks\":\"\"},\"baxis\":{\"gridcolor\":\"white\",\"linecolor\":\"white\",\"ticks\":\"\"},\"caxis\":{\"gridcolor\":\"white\",\"linecolor\":\"white\",\"ticks\":\"\"}},\"coloraxis\":{\"colorbar\":{\"outlinewidth\":0,\"ticks\":\"\"}},\"colorscale\":{\"sequential\":[[0.0,\"#0d0887\"],[0.1111111111111111,\"#46039f\"],[0.2222222222222222,\"#7201a8\"],[0.3333333333333333,\"#9c179e\"],[0.4444444444444444,\"#bd3786\"],[0.5555555555555556,\"#d8576b\"],[0.6666666666666666,\"#ed7953\"],[0.7777777777777778,\"#fb9f3a\"],[0.8888888888888888,\"#fdca26\"],[1.0,\"#f0f921\"]],\"sequentialminus\":[[0.0,\"#0d0887\"],[0.1111111111111111,\"#46039f\"],[0.2222222222222222,\"#7201a8\"],[0.3333333333333333,\"#9c179e\"],[0.4444444444444444,\"#bd3786\"],[0.5555555555555556,\"#d8576b\"],[0.6666666666666666,\"#ed7953\"],[0.7777777777777778,\"#fb9f3a\"],[0.8888888888888888,\"#fdca26\"],[1.0,\"#f0f921\"]],\"diverging\":[[0,\"#8e0152\"],[0.1,\"#c51b7d\"],[0.2,\"#de77ae\"],[0.3,\"#f1b6da\"],[0.4,\"#fde0ef\"],[0.5,\"#f7f7f7\"],[0.6,\"#e6f5d0\"],[0.7,\"#b8e186\"],[0.8,\"#7fbc41\"],[0.9,\"#4d9221\"],[1,\"#276419\"]]},\"xaxis\":{\"gridcolor\":\"white\",\"linecolor\":\"white\",\"ticks\":\"\",\"title\":{\"standoff\":15},\"zerolinecolor\":\"white\",\"automargin\":true,\"zerolinewidth\":2},\"yaxis\":{\"gridcolor\":\"white\",\"linecolor\":\"white\",\"ticks\":\"\",\"title\":{\"standoff\":15},\"zerolinecolor\":\"white\",\"automargin\":true,\"zerolinewidth\":2},\"scene\":{\"xaxis\":{\"backgroundcolor\":\"#E5ECF6\",\"gridcolor\":\"white\",\"linecolor\":\"white\",\"showbackground\":true,\"ticks\":\"\",\"zerolinecolor\":\"white\",\"gridwidth\":2},\"yaxis\":{\"backgroundcolor\":\"#E5ECF6\",\"gridcolor\":\"white\",\"linecolor\":\"white\",\"showbackground\":true,\"ticks\":\"\",\"zerolinecolor\":\"white\",\"gridwidth\":2},\"zaxis\":{\"backgroundcolor\":\"#E5ECF6\",\"gridcolor\":\"white\",\"linecolor\":\"white\",\"showbackground\":true,\"ticks\":\"\",\"zerolinecolor\":\"white\",\"gridwidth\":2}},\"shapedefaults\":{\"line\":{\"color\":\"#2a3f5f\"}},\"annotationdefaults\":{\"arrowcolor\":\"#2a3f5f\",\"arrowhead\":0,\"arrowwidth\":1},\"geo\":{\"bgcolor\":\"white\",\"landcolor\":\"#E5ECF6\",\"subunitcolor\":\"white\",\"showland\":true,\"showlakes\":true,\"lakecolor\":\"white\"},\"title\":{\"x\":0.05},\"mapbox\":{\"style\":\"light\"}}},\"xaxis\":{\"anchor\":\"y\",\"domain\":[0.0,1.0],\"title\":{\"text\":\"Epoch\"}},\"yaxis\":{\"anchor\":\"x\",\"domain\":[0.0,1.0],\"title\":{\"text\":\"Accuracy\"}},\"legend\":{\"title\":{\"text\":\"variable\"},\"tracegroupgap\":0},\"title\":{\"text\":\"Accuracy per Epoch\"}},                        {\"responsive\": true}                    ).then(function(){\n",
              "                            \n",
              "var gd = document.getElementById('ce254a9f-e8a7-4f4c-b90f-14bc9a351568');\n",
              "var x = new MutationObserver(function (mutations, observer) {{\n",
              "        var display = window.getComputedStyle(gd).display;\n",
              "        if (!display || display === 'none') {{\n",
              "            console.log([gd, 'removed!']);\n",
              "            Plotly.purge(gd);\n",
              "            observer.disconnect();\n",
              "        }}\n",
              "}});\n",
              "\n",
              "// Listen for the removal of the full notebook cells\n",
              "var notebookContainer = gd.closest('#notebook-container');\n",
              "if (notebookContainer) {{\n",
              "    x.observe(notebookContainer, {childList: true});\n",
              "}}\n",
              "\n",
              "// Listen for the clearing of the current output cell\n",
              "var outputEl = gd.closest('.output');\n",
              "if (outputEl) {{\n",
              "    x.observe(outputEl, {childList: true});\n",
              "}}\n",
              "\n",
              "                        })                };                            </script>        </div>\n",
              "</body>\n",
              "</html>"
            ]
          },
          "metadata": {}
        },
        {
          "output_type": "display_data",
          "data": {
            "text/html": [
              "<html>\n",
              "<head><meta charset=\"utf-8\" /></head>\n",
              "<body>\n",
              "    <div>            <script src=\"https://cdnjs.cloudflare.com/ajax/libs/mathjax/2.7.5/MathJax.js?config=TeX-AMS-MML_SVG\"></script><script type=\"text/javascript\">if (window.MathJax && window.MathJax.Hub && window.MathJax.Hub.Config) {window.MathJax.Hub.Config({SVG: {font: \"STIX-Web\"}});}</script>                <script type=\"text/javascript\">window.PlotlyConfig = {MathJaxConfig: 'local'};</script>\n",
              "        <script charset=\"utf-8\" src=\"https://cdn.plot.ly/plotly-2.35.2.min.js\"></script>                <div id=\"dd9da710-a545-4381-9898-f61d6391748e\" class=\"plotly-graph-div\" style=\"height:525px; width:100%;\"></div>            <script type=\"text/javascript\">                                    window.PLOTLYENV=window.PLOTLYENV || {};                                    if (document.getElementById(\"dd9da710-a545-4381-9898-f61d6391748e\")) {                    Plotly.newPlot(                        \"dd9da710-a545-4381-9898-f61d6391748e\",                        [{\"hovertemplate\":\"variable=train_loss\\u003cbr\\u003eEpoch=%{x}\\u003cbr\\u003eLoss=%{y}\\u003cextra\\u003e\\u003c\\u002fextra\\u003e\",\"legendgroup\":\"train_loss\",\"line\":{\"color\":\"#636efa\",\"dash\":\"solid\"},\"marker\":{\"symbol\":\"circle\"},\"mode\":\"lines\",\"name\":\"train_loss\",\"orientation\":\"v\",\"showlegend\":true,\"x\":[0,1,2,3,4,5,6,7,8,9,10,11,12,13,14,15,16,17,18,19,20,21,22,23,24,25,26,27,28,29],\"xaxis\":\"x\",\"y\":[0.7052093350330989,0.5392111324071884,0.5018248857895533,0.4718950531482696,0.45547530109087625,0.4495007441163063,0.4385809774875641,0.43194013395706815,0.42354814508756,0.4149917994777362,0.4155791526039441,0.4056250217080116,0.39655071678558984,0.3967604149699211,0.39646546495954194,0.39475945147275926,0.3870814692139626,0.3844533814231555,0.38449727254311244,0.3813934812883536,0.3835608234683673,0.37999923801024754,0.3793132021387418,0.3760177745401859,0.37225684436162315,0.3735322411020597,0.3749021478096644,0.3651543187737465,0.36466043416062993,0.3663083867331346],\"yaxis\":\"y\",\"type\":\"scatter\"},{\"hovertemplate\":\"variable=test_loss\\u003cbr\\u003eEpoch=%{x}\\u003cbr\\u003eLoss=%{y}\\u003cextra\\u003e\\u003c\\u002fextra\\u003e\",\"legendgroup\":\"test_loss\",\"line\":{\"color\":\"#EF553B\",\"dash\":\"solid\"},\"marker\":{\"symbol\":\"circle\"},\"mode\":\"lines\",\"name\":\"test_loss\",\"orientation\":\"v\",\"showlegend\":true,\"x\":[0,1,2,3,4,5,6,7,8,9,10,11,12,13,14,15,16,17,18,19,20,21,22,23,24,25,26,27,28,29],\"xaxis\":\"x\",\"y\":[0.3551661658782167,0.31317081632086646,0.2657996175078729,0.2527866247660531,0.24219837553870563,0.23698319453662767,0.22741925659271095,0.22668491474117713,0.22507348445990977,0.23645112687460007,0.22075579347559057,0.22893169793053367,0.23793965578674317,0.21669422276318073,0.2218800141913489,0.21633169574799915,0.2208196076507957,0.2210284817499665,0.21665247774626406,0.23762553549273469,0.2162636593460275,0.23022644673756804,0.21595623930945945,0.2173594680730813,0.21598046124814607,0.23430503403154995,0.21913894902641018,0.2169903714727527,0.21754608967433722,0.22409382607704534],\"yaxis\":\"y\",\"type\":\"scatter\"}],                        {\"template\":{\"data\":{\"histogram2dcontour\":[{\"type\":\"histogram2dcontour\",\"colorbar\":{\"outlinewidth\":0,\"ticks\":\"\"},\"colorscale\":[[0.0,\"#0d0887\"],[0.1111111111111111,\"#46039f\"],[0.2222222222222222,\"#7201a8\"],[0.3333333333333333,\"#9c179e\"],[0.4444444444444444,\"#bd3786\"],[0.5555555555555556,\"#d8576b\"],[0.6666666666666666,\"#ed7953\"],[0.7777777777777778,\"#fb9f3a\"],[0.8888888888888888,\"#fdca26\"],[1.0,\"#f0f921\"]]}],\"choropleth\":[{\"type\":\"choropleth\",\"colorbar\":{\"outlinewidth\":0,\"ticks\":\"\"}}],\"histogram2d\":[{\"type\":\"histogram2d\",\"colorbar\":{\"outlinewidth\":0,\"ticks\":\"\"},\"colorscale\":[[0.0,\"#0d0887\"],[0.1111111111111111,\"#46039f\"],[0.2222222222222222,\"#7201a8\"],[0.3333333333333333,\"#9c179e\"],[0.4444444444444444,\"#bd3786\"],[0.5555555555555556,\"#d8576b\"],[0.6666666666666666,\"#ed7953\"],[0.7777777777777778,\"#fb9f3a\"],[0.8888888888888888,\"#fdca26\"],[1.0,\"#f0f921\"]]}],\"heatmap\":[{\"type\":\"heatmap\",\"colorbar\":{\"outlinewidth\":0,\"ticks\":\"\"},\"colorscale\":[[0.0,\"#0d0887\"],[0.1111111111111111,\"#46039f\"],[0.2222222222222222,\"#7201a8\"],[0.3333333333333333,\"#9c179e\"],[0.4444444444444444,\"#bd3786\"],[0.5555555555555556,\"#d8576b\"],[0.6666666666666666,\"#ed7953\"],[0.7777777777777778,\"#fb9f3a\"],[0.8888888888888888,\"#fdca26\"],[1.0,\"#f0f921\"]]}],\"heatmapgl\":[{\"type\":\"heatmapgl\",\"colorbar\":{\"outlinewidth\":0,\"ticks\":\"\"},\"colorscale\":[[0.0,\"#0d0887\"],[0.1111111111111111,\"#46039f\"],[0.2222222222222222,\"#7201a8\"],[0.3333333333333333,\"#9c179e\"],[0.4444444444444444,\"#bd3786\"],[0.5555555555555556,\"#d8576b\"],[0.6666666666666666,\"#ed7953\"],[0.7777777777777778,\"#fb9f3a\"],[0.8888888888888888,\"#fdca26\"],[1.0,\"#f0f921\"]]}],\"contourcarpet\":[{\"type\":\"contourcarpet\",\"colorbar\":{\"outlinewidth\":0,\"ticks\":\"\"}}],\"contour\":[{\"type\":\"contour\",\"colorbar\":{\"outlinewidth\":0,\"ticks\":\"\"},\"colorscale\":[[0.0,\"#0d0887\"],[0.1111111111111111,\"#46039f\"],[0.2222222222222222,\"#7201a8\"],[0.3333333333333333,\"#9c179e\"],[0.4444444444444444,\"#bd3786\"],[0.5555555555555556,\"#d8576b\"],[0.6666666666666666,\"#ed7953\"],[0.7777777777777778,\"#fb9f3a\"],[0.8888888888888888,\"#fdca26\"],[1.0,\"#f0f921\"]]}],\"surface\":[{\"type\":\"surface\",\"colorbar\":{\"outlinewidth\":0,\"ticks\":\"\"},\"colorscale\":[[0.0,\"#0d0887\"],[0.1111111111111111,\"#46039f\"],[0.2222222222222222,\"#7201a8\"],[0.3333333333333333,\"#9c179e\"],[0.4444444444444444,\"#bd3786\"],[0.5555555555555556,\"#d8576b\"],[0.6666666666666666,\"#ed7953\"],[0.7777777777777778,\"#fb9f3a\"],[0.8888888888888888,\"#fdca26\"],[1.0,\"#f0f921\"]]}],\"mesh3d\":[{\"type\":\"mesh3d\",\"colorbar\":{\"outlinewidth\":0,\"ticks\":\"\"}}],\"scatter\":[{\"fillpattern\":{\"fillmode\":\"overlay\",\"size\":10,\"solidity\":0.2},\"type\":\"scatter\"}],\"parcoords\":[{\"type\":\"parcoords\",\"line\":{\"colorbar\":{\"outlinewidth\":0,\"ticks\":\"\"}}}],\"scatterpolargl\":[{\"type\":\"scatterpolargl\",\"marker\":{\"colorbar\":{\"outlinewidth\":0,\"ticks\":\"\"}}}],\"bar\":[{\"error_x\":{\"color\":\"#2a3f5f\"},\"error_y\":{\"color\":\"#2a3f5f\"},\"marker\":{\"line\":{\"color\":\"#E5ECF6\",\"width\":0.5},\"pattern\":{\"fillmode\":\"overlay\",\"size\":10,\"solidity\":0.2}},\"type\":\"bar\"}],\"scattergeo\":[{\"type\":\"scattergeo\",\"marker\":{\"colorbar\":{\"outlinewidth\":0,\"ticks\":\"\"}}}],\"scatterpolar\":[{\"type\":\"scatterpolar\",\"marker\":{\"colorbar\":{\"outlinewidth\":0,\"ticks\":\"\"}}}],\"histogram\":[{\"marker\":{\"pattern\":{\"fillmode\":\"overlay\",\"size\":10,\"solidity\":0.2}},\"type\":\"histogram\"}],\"scattergl\":[{\"type\":\"scattergl\",\"marker\":{\"colorbar\":{\"outlinewidth\":0,\"ticks\":\"\"}}}],\"scatter3d\":[{\"type\":\"scatter3d\",\"line\":{\"colorbar\":{\"outlinewidth\":0,\"ticks\":\"\"}},\"marker\":{\"colorbar\":{\"outlinewidth\":0,\"ticks\":\"\"}}}],\"scattermapbox\":[{\"type\":\"scattermapbox\",\"marker\":{\"colorbar\":{\"outlinewidth\":0,\"ticks\":\"\"}}}],\"scatterternary\":[{\"type\":\"scatterternary\",\"marker\":{\"colorbar\":{\"outlinewidth\":0,\"ticks\":\"\"}}}],\"scattercarpet\":[{\"type\":\"scattercarpet\",\"marker\":{\"colorbar\":{\"outlinewidth\":0,\"ticks\":\"\"}}}],\"carpet\":[{\"aaxis\":{\"endlinecolor\":\"#2a3f5f\",\"gridcolor\":\"white\",\"linecolor\":\"white\",\"minorgridcolor\":\"white\",\"startlinecolor\":\"#2a3f5f\"},\"baxis\":{\"endlinecolor\":\"#2a3f5f\",\"gridcolor\":\"white\",\"linecolor\":\"white\",\"minorgridcolor\":\"white\",\"startlinecolor\":\"#2a3f5f\"},\"type\":\"carpet\"}],\"table\":[{\"cells\":{\"fill\":{\"color\":\"#EBF0F8\"},\"line\":{\"color\":\"white\"}},\"header\":{\"fill\":{\"color\":\"#C8D4E3\"},\"line\":{\"color\":\"white\"}},\"type\":\"table\"}],\"barpolar\":[{\"marker\":{\"line\":{\"color\":\"#E5ECF6\",\"width\":0.5},\"pattern\":{\"fillmode\":\"overlay\",\"size\":10,\"solidity\":0.2}},\"type\":\"barpolar\"}],\"pie\":[{\"automargin\":true,\"type\":\"pie\"}]},\"layout\":{\"autotypenumbers\":\"strict\",\"colorway\":[\"#636efa\",\"#EF553B\",\"#00cc96\",\"#ab63fa\",\"#FFA15A\",\"#19d3f3\",\"#FF6692\",\"#B6E880\",\"#FF97FF\",\"#FECB52\"],\"font\":{\"color\":\"#2a3f5f\"},\"hovermode\":\"closest\",\"hoverlabel\":{\"align\":\"left\"},\"paper_bgcolor\":\"white\",\"plot_bgcolor\":\"#E5ECF6\",\"polar\":{\"bgcolor\":\"#E5ECF6\",\"angularaxis\":{\"gridcolor\":\"white\",\"linecolor\":\"white\",\"ticks\":\"\"},\"radialaxis\":{\"gridcolor\":\"white\",\"linecolor\":\"white\",\"ticks\":\"\"}},\"ternary\":{\"bgcolor\":\"#E5ECF6\",\"aaxis\":{\"gridcolor\":\"white\",\"linecolor\":\"white\",\"ticks\":\"\"},\"baxis\":{\"gridcolor\":\"white\",\"linecolor\":\"white\",\"ticks\":\"\"},\"caxis\":{\"gridcolor\":\"white\",\"linecolor\":\"white\",\"ticks\":\"\"}},\"coloraxis\":{\"colorbar\":{\"outlinewidth\":0,\"ticks\":\"\"}},\"colorscale\":{\"sequential\":[[0.0,\"#0d0887\"],[0.1111111111111111,\"#46039f\"],[0.2222222222222222,\"#7201a8\"],[0.3333333333333333,\"#9c179e\"],[0.4444444444444444,\"#bd3786\"],[0.5555555555555556,\"#d8576b\"],[0.6666666666666666,\"#ed7953\"],[0.7777777777777778,\"#fb9f3a\"],[0.8888888888888888,\"#fdca26\"],[1.0,\"#f0f921\"]],\"sequentialminus\":[[0.0,\"#0d0887\"],[0.1111111111111111,\"#46039f\"],[0.2222222222222222,\"#7201a8\"],[0.3333333333333333,\"#9c179e\"],[0.4444444444444444,\"#bd3786\"],[0.5555555555555556,\"#d8576b\"],[0.6666666666666666,\"#ed7953\"],[0.7777777777777778,\"#fb9f3a\"],[0.8888888888888888,\"#fdca26\"],[1.0,\"#f0f921\"]],\"diverging\":[[0,\"#8e0152\"],[0.1,\"#c51b7d\"],[0.2,\"#de77ae\"],[0.3,\"#f1b6da\"],[0.4,\"#fde0ef\"],[0.5,\"#f7f7f7\"],[0.6,\"#e6f5d0\"],[0.7,\"#b8e186\"],[0.8,\"#7fbc41\"],[0.9,\"#4d9221\"],[1,\"#276419\"]]},\"xaxis\":{\"gridcolor\":\"white\",\"linecolor\":\"white\",\"ticks\":\"\",\"title\":{\"standoff\":15},\"zerolinecolor\":\"white\",\"automargin\":true,\"zerolinewidth\":2},\"yaxis\":{\"gridcolor\":\"white\",\"linecolor\":\"white\",\"ticks\":\"\",\"title\":{\"standoff\":15},\"zerolinecolor\":\"white\",\"automargin\":true,\"zerolinewidth\":2},\"scene\":{\"xaxis\":{\"backgroundcolor\":\"#E5ECF6\",\"gridcolor\":\"white\",\"linecolor\":\"white\",\"showbackground\":true,\"ticks\":\"\",\"zerolinecolor\":\"white\",\"gridwidth\":2},\"yaxis\":{\"backgroundcolor\":\"#E5ECF6\",\"gridcolor\":\"white\",\"linecolor\":\"white\",\"showbackground\":true,\"ticks\":\"\",\"zerolinecolor\":\"white\",\"gridwidth\":2},\"zaxis\":{\"backgroundcolor\":\"#E5ECF6\",\"gridcolor\":\"white\",\"linecolor\":\"white\",\"showbackground\":true,\"ticks\":\"\",\"zerolinecolor\":\"white\",\"gridwidth\":2}},\"shapedefaults\":{\"line\":{\"color\":\"#2a3f5f\"}},\"annotationdefaults\":{\"arrowcolor\":\"#2a3f5f\",\"arrowhead\":0,\"arrowwidth\":1},\"geo\":{\"bgcolor\":\"white\",\"landcolor\":\"#E5ECF6\",\"subunitcolor\":\"white\",\"showland\":true,\"showlakes\":true,\"lakecolor\":\"white\"},\"title\":{\"x\":0.05},\"mapbox\":{\"style\":\"light\"}}},\"xaxis\":{\"anchor\":\"y\",\"domain\":[0.0,1.0],\"title\":{\"text\":\"Epoch\"}},\"yaxis\":{\"anchor\":\"x\",\"domain\":[0.0,1.0],\"title\":{\"text\":\"Loss\"}},\"legend\":{\"title\":{\"text\":\"variable\"},\"tracegroupgap\":0},\"title\":{\"text\":\"Loss per Epoch\"}},                        {\"responsive\": true}                    ).then(function(){\n",
              "                            \n",
              "var gd = document.getElementById('dd9da710-a545-4381-9898-f61d6391748e');\n",
              "var x = new MutationObserver(function (mutations, observer) {{\n",
              "        var display = window.getComputedStyle(gd).display;\n",
              "        if (!display || display === 'none') {{\n",
              "            console.log([gd, 'removed!']);\n",
              "            Plotly.purge(gd);\n",
              "            observer.disconnect();\n",
              "        }}\n",
              "}});\n",
              "\n",
              "// Listen for the removal of the full notebook cells\n",
              "var notebookContainer = gd.closest('#notebook-container');\n",
              "if (notebookContainer) {{\n",
              "    x.observe(notebookContainer, {childList: true});\n",
              "}}\n",
              "\n",
              "// Listen for the clearing of the current output cell\n",
              "var outputEl = gd.closest('.output');\n",
              "if (outputEl) {{\n",
              "    x.observe(outputEl, {childList: true});\n",
              "}}\n",
              "\n",
              "                        })                };                            </script>        </div>\n",
              "</body>\n",
              "</html>"
            ]
          },
          "metadata": {}
        },
        {
          "output_type": "stream",
          "name": "stdout",
          "text": [
            "View run in W&B: https://wandb.ai/jsrodriguez16-personal/fashion+mnist/runs/9q10j6a6\n",
            "View project in W&B: https://wandb.ai/jsrodriguez16-personal/fashion mnist\n"
          ]
        }
      ]
    },
    {
      "cell_type": "markdown",
      "source": [
        "We see that there is a significative improvement when we increase the number of hidden units and add dropout to avoid overfitting."
      ],
      "metadata": {
        "id": "oibXkmmocqay"
      }
    },
    {
      "cell_type": "markdown",
      "source": [
        "## Saving our models\n"
      ],
      "metadata": {
        "id": "wMgb7fyA2xo7"
      }
    },
    {
      "cell_type": "markdown",
      "source": [
        "We can save our modles using our helper function."
      ],
      "metadata": {
        "id": "1GTC8yzPnsiK"
      }
    },
    {
      "cell_type": "code",
      "source": [
        "h.save_model_dict(model=MNIST_model_1,\n",
        "                model_name=\"mnist_model.pth\",\n",
        "                path=\"models\")"
      ],
      "metadata": {
        "colab": {
          "base_uri": "https://localhost:8080/"
        },
        "id": "jnZHY8Tf30Ey",
        "outputId": "c9764ad1-c05f-4f18-b515-416637f9f86b"
      },
      "execution_count": 43,
      "outputs": [
        {
          "output_type": "stream",
          "name": "stdout",
          "text": [
            "Saving model to: models/mnist_model.pth\n"
          ]
        }
      ]
    },
    {
      "cell_type": "code",
      "source": [
        "h.save_model_dict(model=fashionMNIST_model_2,\n",
        "                model_name=\"fashionMnist_model.pth\",\n",
        "                path=\"models\")"
      ],
      "metadata": {
        "colab": {
          "base_uri": "https://localhost:8080/"
        },
        "id": "YmN5GT7t30Si",
        "outputId": "38ca15f7-414a-4fd4-bd8a-be33b03f1bae"
      },
      "execution_count": 44,
      "outputs": [
        {
          "output_type": "stream",
          "name": "stdout",
          "text": [
            "Saving model to: models/fashionMnist_model.pth\n"
          ]
        }
      ]
    },
    {
      "cell_type": "markdown",
      "source": [
        "# Getting results in a pandas DataFrame\n",
        "We can import all the experiments performed in Weights & Biases and sort them by test accuracy to select the best model.  \n",
        "Note that there are multiple experiments not shown in this notebook, and some experiments may be repeated.  \n",
        "There is also room for further experimentation by changing the batch size, learning rate, or adding more hidden layers to the model.  \n",
        "However, to keep this notebook simple, we do not perform additional experiments here.\n",
        "\n"
      ],
      "metadata": {
        "id": "jYxEPdhpmYjf"
      }
    },
    {
      "cell_type": "code",
      "source": [
        "\n",
        "MNIST_experiments_df =  h.get_experiments_from_wandb(\"jsrodriguez16-personal\", 'mnist')\n",
        "MNIST_experiments_df.sort_values(by=\"test_acc\", ascending=False)"
      ],
      "metadata": {
        "id": "hxOlSf6vm51J",
        "colab": {
          "base_uri": "https://localhost:8080/",
          "height": 677
        },
        "outputId": "35930b2f-7acb-4366-903c-756734ad545e"
      },
      "execution_count": 26,
      "outputs": [
        {
          "output_type": "execute_result",
          "data": {
            "text/plain": [
              "                     name  epochs  batch_size optimizer     lr  train_acc  \\\n",
              "19  graceful-spaceship-24      25          32      Adam  0.001   0.886483   \n",
              "11          super-surf-16      15          32      Adam  0.001   0.886367   \n",
              "14        exalted-oath-19      14          32      Adam  0.001   0.883783   \n",
              "15    worldly-mountain-20      25          32      Adam  0.001   0.887083   \n",
              "13         swift-water-18      15          32      Adam  0.001   0.886183   \n",
              "6            icy-field-11      15          32       SGD  0.100   0.996133   \n",
              "10         dandy-river-15      15          32       SGD  0.100   0.995500   \n",
              "18       ancient-water-23      15          32       SGD  0.100   0.996000   \n",
              "8    celestial-silence-13      15          32       SGD  0.100   0.994650   \n",
              "4           genial-hill-9      10          32       SGD  0.100   0.994367   \n",
              "12          lemon-hill-17       5          32       SGD  0.100   0.988767   \n",
              "0           toasty-pine-3       5          32       SGD  0.100   0.988667   \n",
              "16         light-grass-21       5          32       SGD  0.100   0.989183   \n",
              "9            true-rain-14       5          32       SGD  0.100   0.988883   \n",
              "7        dazzling-rain-12       5          32       SGD  0.100   0.989550   \n",
              "3        expert-glitter-7      10          32       SGD  0.100   0.983967   \n",
              "1    feasible-spaceship-5      10          32       SGD  0.100   0.102183   \n",
              "2        glamorous-dust-6      10          32       SGD  0.100   0.099000   \n",
              "5            trim-wood-10      10          32       SGD  0.100        NaN   \n",
              "17       divine-flower-22      15          32       SGD  0.100        NaN   \n",
              "\n",
              "    train_loss  test_acc  test_loss hidden_units  \\\n",
              "19    0.203789  0.994609   0.021237         None   \n",
              "11    0.205776  0.994509   0.021940         None   \n",
              "14    0.210982  0.994209   0.022613         None   \n",
              "15    0.201794  0.994209   0.024337         None   \n",
              "13    0.206367  0.993411   0.019741         None   \n",
              "6     0.011954  0.991813   0.031459         None   \n",
              "10    0.014475  0.990915   0.031521         None   \n",
              "18    0.012655  0.990116   0.033197         None   \n",
              "8     0.016624  0.989716   0.034885         None   \n",
              "4     0.017090  0.988818   0.036133         None   \n",
              "12    0.035734  0.987819   0.035186         None   \n",
              "0     0.035681  0.987620   0.035465         None   \n",
              "16    0.035136  0.987520   0.036043         None   \n",
              "9     0.036039  0.987220   0.038891         None   \n",
              "7     0.035218  0.986621   0.038874         None   \n",
              "3     0.049971  0.982927   0.050691         None   \n",
              "1     2.302948  0.101038   2.302933         None   \n",
              "2     2.302581  0.098143   2.302382         None   \n",
              "5          NaN       NaN        NaN         None   \n",
              "17         NaN       NaN        NaN         None   \n",
              "\n",
              "                                                  url  \n",
              "19  https://wandb.ai/jsrodriguez16-personal/mnist/...  \n",
              "11  https://wandb.ai/jsrodriguez16-personal/mnist/...  \n",
              "14  https://wandb.ai/jsrodriguez16-personal/mnist/...  \n",
              "15  https://wandb.ai/jsrodriguez16-personal/mnist/...  \n",
              "13  https://wandb.ai/jsrodriguez16-personal/mnist/...  \n",
              "6   https://wandb.ai/jsrodriguez16-personal/mnist/...  \n",
              "10  https://wandb.ai/jsrodriguez16-personal/mnist/...  \n",
              "18  https://wandb.ai/jsrodriguez16-personal/mnist/...  \n",
              "8   https://wandb.ai/jsrodriguez16-personal/mnist/...  \n",
              "4   https://wandb.ai/jsrodriguez16-personal/mnist/...  \n",
              "12  https://wandb.ai/jsrodriguez16-personal/mnist/...  \n",
              "0   https://wandb.ai/jsrodriguez16-personal/mnist/...  \n",
              "16  https://wandb.ai/jsrodriguez16-personal/mnist/...  \n",
              "9   https://wandb.ai/jsrodriguez16-personal/mnist/...  \n",
              "7   https://wandb.ai/jsrodriguez16-personal/mnist/...  \n",
              "3   https://wandb.ai/jsrodriguez16-personal/mnist/...  \n",
              "1   https://wandb.ai/jsrodriguez16-personal/mnist/...  \n",
              "2   https://wandb.ai/jsrodriguez16-personal/mnist/...  \n",
              "5   https://wandb.ai/jsrodriguez16-personal/mnist/...  \n",
              "17  https://wandb.ai/jsrodriguez16-personal/mnist/...  "
            ],
            "text/html": [
              "\n",
              "  <div id=\"df-c67aca92-9065-4667-9b03-b766aa4f4569\" class=\"colab-df-container\">\n",
              "    <div>\n",
              "<style scoped>\n",
              "    .dataframe tbody tr th:only-of-type {\n",
              "        vertical-align: middle;\n",
              "    }\n",
              "\n",
              "    .dataframe tbody tr th {\n",
              "        vertical-align: top;\n",
              "    }\n",
              "\n",
              "    .dataframe thead th {\n",
              "        text-align: right;\n",
              "    }\n",
              "</style>\n",
              "<table border=\"1\" class=\"dataframe\">\n",
              "  <thead>\n",
              "    <tr style=\"text-align: right;\">\n",
              "      <th></th>\n",
              "      <th>name</th>\n",
              "      <th>epochs</th>\n",
              "      <th>batch_size</th>\n",
              "      <th>optimizer</th>\n",
              "      <th>lr</th>\n",
              "      <th>train_acc</th>\n",
              "      <th>train_loss</th>\n",
              "      <th>test_acc</th>\n",
              "      <th>test_loss</th>\n",
              "      <th>hidden_units</th>\n",
              "      <th>url</th>\n",
              "    </tr>\n",
              "  </thead>\n",
              "  <tbody>\n",
              "    <tr>\n",
              "      <th>19</th>\n",
              "      <td>graceful-spaceship-24</td>\n",
              "      <td>25</td>\n",
              "      <td>32</td>\n",
              "      <td>Adam</td>\n",
              "      <td>0.001</td>\n",
              "      <td>0.886483</td>\n",
              "      <td>0.203789</td>\n",
              "      <td>0.994609</td>\n",
              "      <td>0.021237</td>\n",
              "      <td>None</td>\n",
              "      <td>https://wandb.ai/jsrodriguez16-personal/mnist/...</td>\n",
              "    </tr>\n",
              "    <tr>\n",
              "      <th>11</th>\n",
              "      <td>super-surf-16</td>\n",
              "      <td>15</td>\n",
              "      <td>32</td>\n",
              "      <td>Adam</td>\n",
              "      <td>0.001</td>\n",
              "      <td>0.886367</td>\n",
              "      <td>0.205776</td>\n",
              "      <td>0.994509</td>\n",
              "      <td>0.021940</td>\n",
              "      <td>None</td>\n",
              "      <td>https://wandb.ai/jsrodriguez16-personal/mnist/...</td>\n",
              "    </tr>\n",
              "    <tr>\n",
              "      <th>14</th>\n",
              "      <td>exalted-oath-19</td>\n",
              "      <td>14</td>\n",
              "      <td>32</td>\n",
              "      <td>Adam</td>\n",
              "      <td>0.001</td>\n",
              "      <td>0.883783</td>\n",
              "      <td>0.210982</td>\n",
              "      <td>0.994209</td>\n",
              "      <td>0.022613</td>\n",
              "      <td>None</td>\n",
              "      <td>https://wandb.ai/jsrodriguez16-personal/mnist/...</td>\n",
              "    </tr>\n",
              "    <tr>\n",
              "      <th>15</th>\n",
              "      <td>worldly-mountain-20</td>\n",
              "      <td>25</td>\n",
              "      <td>32</td>\n",
              "      <td>Adam</td>\n",
              "      <td>0.001</td>\n",
              "      <td>0.887083</td>\n",
              "      <td>0.201794</td>\n",
              "      <td>0.994209</td>\n",
              "      <td>0.024337</td>\n",
              "      <td>None</td>\n",
              "      <td>https://wandb.ai/jsrodriguez16-personal/mnist/...</td>\n",
              "    </tr>\n",
              "    <tr>\n",
              "      <th>13</th>\n",
              "      <td>swift-water-18</td>\n",
              "      <td>15</td>\n",
              "      <td>32</td>\n",
              "      <td>Adam</td>\n",
              "      <td>0.001</td>\n",
              "      <td>0.886183</td>\n",
              "      <td>0.206367</td>\n",
              "      <td>0.993411</td>\n",
              "      <td>0.019741</td>\n",
              "      <td>None</td>\n",
              "      <td>https://wandb.ai/jsrodriguez16-personal/mnist/...</td>\n",
              "    </tr>\n",
              "    <tr>\n",
              "      <th>6</th>\n",
              "      <td>icy-field-11</td>\n",
              "      <td>15</td>\n",
              "      <td>32</td>\n",
              "      <td>SGD</td>\n",
              "      <td>0.100</td>\n",
              "      <td>0.996133</td>\n",
              "      <td>0.011954</td>\n",
              "      <td>0.991813</td>\n",
              "      <td>0.031459</td>\n",
              "      <td>None</td>\n",
              "      <td>https://wandb.ai/jsrodriguez16-personal/mnist/...</td>\n",
              "    </tr>\n",
              "    <tr>\n",
              "      <th>10</th>\n",
              "      <td>dandy-river-15</td>\n",
              "      <td>15</td>\n",
              "      <td>32</td>\n",
              "      <td>SGD</td>\n",
              "      <td>0.100</td>\n",
              "      <td>0.995500</td>\n",
              "      <td>0.014475</td>\n",
              "      <td>0.990915</td>\n",
              "      <td>0.031521</td>\n",
              "      <td>None</td>\n",
              "      <td>https://wandb.ai/jsrodriguez16-personal/mnist/...</td>\n",
              "    </tr>\n",
              "    <tr>\n",
              "      <th>18</th>\n",
              "      <td>ancient-water-23</td>\n",
              "      <td>15</td>\n",
              "      <td>32</td>\n",
              "      <td>SGD</td>\n",
              "      <td>0.100</td>\n",
              "      <td>0.996000</td>\n",
              "      <td>0.012655</td>\n",
              "      <td>0.990116</td>\n",
              "      <td>0.033197</td>\n",
              "      <td>None</td>\n",
              "      <td>https://wandb.ai/jsrodriguez16-personal/mnist/...</td>\n",
              "    </tr>\n",
              "    <tr>\n",
              "      <th>8</th>\n",
              "      <td>celestial-silence-13</td>\n",
              "      <td>15</td>\n",
              "      <td>32</td>\n",
              "      <td>SGD</td>\n",
              "      <td>0.100</td>\n",
              "      <td>0.994650</td>\n",
              "      <td>0.016624</td>\n",
              "      <td>0.989716</td>\n",
              "      <td>0.034885</td>\n",
              "      <td>None</td>\n",
              "      <td>https://wandb.ai/jsrodriguez16-personal/mnist/...</td>\n",
              "    </tr>\n",
              "    <tr>\n",
              "      <th>4</th>\n",
              "      <td>genial-hill-9</td>\n",
              "      <td>10</td>\n",
              "      <td>32</td>\n",
              "      <td>SGD</td>\n",
              "      <td>0.100</td>\n",
              "      <td>0.994367</td>\n",
              "      <td>0.017090</td>\n",
              "      <td>0.988818</td>\n",
              "      <td>0.036133</td>\n",
              "      <td>None</td>\n",
              "      <td>https://wandb.ai/jsrodriguez16-personal/mnist/...</td>\n",
              "    </tr>\n",
              "    <tr>\n",
              "      <th>12</th>\n",
              "      <td>lemon-hill-17</td>\n",
              "      <td>5</td>\n",
              "      <td>32</td>\n",
              "      <td>SGD</td>\n",
              "      <td>0.100</td>\n",
              "      <td>0.988767</td>\n",
              "      <td>0.035734</td>\n",
              "      <td>0.987819</td>\n",
              "      <td>0.035186</td>\n",
              "      <td>None</td>\n",
              "      <td>https://wandb.ai/jsrodriguez16-personal/mnist/...</td>\n",
              "    </tr>\n",
              "    <tr>\n",
              "      <th>0</th>\n",
              "      <td>toasty-pine-3</td>\n",
              "      <td>5</td>\n",
              "      <td>32</td>\n",
              "      <td>SGD</td>\n",
              "      <td>0.100</td>\n",
              "      <td>0.988667</td>\n",
              "      <td>0.035681</td>\n",
              "      <td>0.987620</td>\n",
              "      <td>0.035465</td>\n",
              "      <td>None</td>\n",
              "      <td>https://wandb.ai/jsrodriguez16-personal/mnist/...</td>\n",
              "    </tr>\n",
              "    <tr>\n",
              "      <th>16</th>\n",
              "      <td>light-grass-21</td>\n",
              "      <td>5</td>\n",
              "      <td>32</td>\n",
              "      <td>SGD</td>\n",
              "      <td>0.100</td>\n",
              "      <td>0.989183</td>\n",
              "      <td>0.035136</td>\n",
              "      <td>0.987520</td>\n",
              "      <td>0.036043</td>\n",
              "      <td>None</td>\n",
              "      <td>https://wandb.ai/jsrodriguez16-personal/mnist/...</td>\n",
              "    </tr>\n",
              "    <tr>\n",
              "      <th>9</th>\n",
              "      <td>true-rain-14</td>\n",
              "      <td>5</td>\n",
              "      <td>32</td>\n",
              "      <td>SGD</td>\n",
              "      <td>0.100</td>\n",
              "      <td>0.988883</td>\n",
              "      <td>0.036039</td>\n",
              "      <td>0.987220</td>\n",
              "      <td>0.038891</td>\n",
              "      <td>None</td>\n",
              "      <td>https://wandb.ai/jsrodriguez16-personal/mnist/...</td>\n",
              "    </tr>\n",
              "    <tr>\n",
              "      <th>7</th>\n",
              "      <td>dazzling-rain-12</td>\n",
              "      <td>5</td>\n",
              "      <td>32</td>\n",
              "      <td>SGD</td>\n",
              "      <td>0.100</td>\n",
              "      <td>0.989550</td>\n",
              "      <td>0.035218</td>\n",
              "      <td>0.986621</td>\n",
              "      <td>0.038874</td>\n",
              "      <td>None</td>\n",
              "      <td>https://wandb.ai/jsrodriguez16-personal/mnist/...</td>\n",
              "    </tr>\n",
              "    <tr>\n",
              "      <th>3</th>\n",
              "      <td>expert-glitter-7</td>\n",
              "      <td>10</td>\n",
              "      <td>32</td>\n",
              "      <td>SGD</td>\n",
              "      <td>0.100</td>\n",
              "      <td>0.983967</td>\n",
              "      <td>0.049971</td>\n",
              "      <td>0.982927</td>\n",
              "      <td>0.050691</td>\n",
              "      <td>None</td>\n",
              "      <td>https://wandb.ai/jsrodriguez16-personal/mnist/...</td>\n",
              "    </tr>\n",
              "    <tr>\n",
              "      <th>1</th>\n",
              "      <td>feasible-spaceship-5</td>\n",
              "      <td>10</td>\n",
              "      <td>32</td>\n",
              "      <td>SGD</td>\n",
              "      <td>0.100</td>\n",
              "      <td>0.102183</td>\n",
              "      <td>2.302948</td>\n",
              "      <td>0.101038</td>\n",
              "      <td>2.302933</td>\n",
              "      <td>None</td>\n",
              "      <td>https://wandb.ai/jsrodriguez16-personal/mnist/...</td>\n",
              "    </tr>\n",
              "    <tr>\n",
              "      <th>2</th>\n",
              "      <td>glamorous-dust-6</td>\n",
              "      <td>10</td>\n",
              "      <td>32</td>\n",
              "      <td>SGD</td>\n",
              "      <td>0.100</td>\n",
              "      <td>0.099000</td>\n",
              "      <td>2.302581</td>\n",
              "      <td>0.098143</td>\n",
              "      <td>2.302382</td>\n",
              "      <td>None</td>\n",
              "      <td>https://wandb.ai/jsrodriguez16-personal/mnist/...</td>\n",
              "    </tr>\n",
              "    <tr>\n",
              "      <th>5</th>\n",
              "      <td>trim-wood-10</td>\n",
              "      <td>10</td>\n",
              "      <td>32</td>\n",
              "      <td>SGD</td>\n",
              "      <td>0.100</td>\n",
              "      <td>NaN</td>\n",
              "      <td>NaN</td>\n",
              "      <td>NaN</td>\n",
              "      <td>NaN</td>\n",
              "      <td>None</td>\n",
              "      <td>https://wandb.ai/jsrodriguez16-personal/mnist/...</td>\n",
              "    </tr>\n",
              "    <tr>\n",
              "      <th>17</th>\n",
              "      <td>divine-flower-22</td>\n",
              "      <td>15</td>\n",
              "      <td>32</td>\n",
              "      <td>SGD</td>\n",
              "      <td>0.100</td>\n",
              "      <td>NaN</td>\n",
              "      <td>NaN</td>\n",
              "      <td>NaN</td>\n",
              "      <td>NaN</td>\n",
              "      <td>None</td>\n",
              "      <td>https://wandb.ai/jsrodriguez16-personal/mnist/...</td>\n",
              "    </tr>\n",
              "  </tbody>\n",
              "</table>\n",
              "</div>\n",
              "    <div class=\"colab-df-buttons\">\n",
              "\n",
              "  <div class=\"colab-df-container\">\n",
              "    <button class=\"colab-df-convert\" onclick=\"convertToInteractive('df-c67aca92-9065-4667-9b03-b766aa4f4569')\"\n",
              "            title=\"Convert this dataframe to an interactive table.\"\n",
              "            style=\"display:none;\">\n",
              "\n",
              "  <svg xmlns=\"http://www.w3.org/2000/svg\" height=\"24px\" viewBox=\"0 -960 960 960\">\n",
              "    <path d=\"M120-120v-720h720v720H120Zm60-500h600v-160H180v160Zm220 220h160v-160H400v160Zm0 220h160v-160H400v160ZM180-400h160v-160H180v160Zm440 0h160v-160H620v160ZM180-180h160v-160H180v160Zm440 0h160v-160H620v160Z\"/>\n",
              "  </svg>\n",
              "    </button>\n",
              "\n",
              "  <style>\n",
              "    .colab-df-container {\n",
              "      display:flex;\n",
              "      gap: 12px;\n",
              "    }\n",
              "\n",
              "    .colab-df-convert {\n",
              "      background-color: #E8F0FE;\n",
              "      border: none;\n",
              "      border-radius: 50%;\n",
              "      cursor: pointer;\n",
              "      display: none;\n",
              "      fill: #1967D2;\n",
              "      height: 32px;\n",
              "      padding: 0 0 0 0;\n",
              "      width: 32px;\n",
              "    }\n",
              "\n",
              "    .colab-df-convert:hover {\n",
              "      background-color: #E2EBFA;\n",
              "      box-shadow: 0px 1px 2px rgba(60, 64, 67, 0.3), 0px 1px 3px 1px rgba(60, 64, 67, 0.15);\n",
              "      fill: #174EA6;\n",
              "    }\n",
              "\n",
              "    .colab-df-buttons div {\n",
              "      margin-bottom: 4px;\n",
              "    }\n",
              "\n",
              "    [theme=dark] .colab-df-convert {\n",
              "      background-color: #3B4455;\n",
              "      fill: #D2E3FC;\n",
              "    }\n",
              "\n",
              "    [theme=dark] .colab-df-convert:hover {\n",
              "      background-color: #434B5C;\n",
              "      box-shadow: 0px 1px 3px 1px rgba(0, 0, 0, 0.15);\n",
              "      filter: drop-shadow(0px 1px 2px rgba(0, 0, 0, 0.3));\n",
              "      fill: #FFFFFF;\n",
              "    }\n",
              "  </style>\n",
              "\n",
              "    <script>\n",
              "      const buttonEl =\n",
              "        document.querySelector('#df-c67aca92-9065-4667-9b03-b766aa4f4569 button.colab-df-convert');\n",
              "      buttonEl.style.display =\n",
              "        google.colab.kernel.accessAllowed ? 'block' : 'none';\n",
              "\n",
              "      async function convertToInteractive(key) {\n",
              "        const element = document.querySelector('#df-c67aca92-9065-4667-9b03-b766aa4f4569');\n",
              "        const dataTable =\n",
              "          await google.colab.kernel.invokeFunction('convertToInteractive',\n",
              "                                                    [key], {});\n",
              "        if (!dataTable) return;\n",
              "\n",
              "        const docLinkHtml = 'Like what you see? Visit the ' +\n",
              "          '<a target=\"_blank\" href=https://colab.research.google.com/notebooks/data_table.ipynb>data table notebook</a>'\n",
              "          + ' to learn more about interactive tables.';\n",
              "        element.innerHTML = '';\n",
              "        dataTable['output_type'] = 'display_data';\n",
              "        await google.colab.output.renderOutput(dataTable, element);\n",
              "        const docLink = document.createElement('div');\n",
              "        docLink.innerHTML = docLinkHtml;\n",
              "        element.appendChild(docLink);\n",
              "      }\n",
              "    </script>\n",
              "  </div>\n",
              "\n",
              "\n",
              "    <div id=\"df-66ba7411-2dbc-4609-b0b8-d04f9c6a48eb\">\n",
              "      <button class=\"colab-df-quickchart\" onclick=\"quickchart('df-66ba7411-2dbc-4609-b0b8-d04f9c6a48eb')\"\n",
              "                title=\"Suggest charts\"\n",
              "                style=\"display:none;\">\n",
              "\n",
              "<svg xmlns=\"http://www.w3.org/2000/svg\" height=\"24px\"viewBox=\"0 0 24 24\"\n",
              "     width=\"24px\">\n",
              "    <g>\n",
              "        <path d=\"M19 3H5c-1.1 0-2 .9-2 2v14c0 1.1.9 2 2 2h14c1.1 0 2-.9 2-2V5c0-1.1-.9-2-2-2zM9 17H7v-7h2v7zm4 0h-2V7h2v10zm4 0h-2v-4h2v4z\"/>\n",
              "    </g>\n",
              "</svg>\n",
              "      </button>\n",
              "\n",
              "<style>\n",
              "  .colab-df-quickchart {\n",
              "      --bg-color: #E8F0FE;\n",
              "      --fill-color: #1967D2;\n",
              "      --hover-bg-color: #E2EBFA;\n",
              "      --hover-fill-color: #174EA6;\n",
              "      --disabled-fill-color: #AAA;\n",
              "      --disabled-bg-color: #DDD;\n",
              "  }\n",
              "\n",
              "  [theme=dark] .colab-df-quickchart {\n",
              "      --bg-color: #3B4455;\n",
              "      --fill-color: #D2E3FC;\n",
              "      --hover-bg-color: #434B5C;\n",
              "      --hover-fill-color: #FFFFFF;\n",
              "      --disabled-bg-color: #3B4455;\n",
              "      --disabled-fill-color: #666;\n",
              "  }\n",
              "\n",
              "  .colab-df-quickchart {\n",
              "    background-color: var(--bg-color);\n",
              "    border: none;\n",
              "    border-radius: 50%;\n",
              "    cursor: pointer;\n",
              "    display: none;\n",
              "    fill: var(--fill-color);\n",
              "    height: 32px;\n",
              "    padding: 0;\n",
              "    width: 32px;\n",
              "  }\n",
              "\n",
              "  .colab-df-quickchart:hover {\n",
              "    background-color: var(--hover-bg-color);\n",
              "    box-shadow: 0 1px 2px rgba(60, 64, 67, 0.3), 0 1px 3px 1px rgba(60, 64, 67, 0.15);\n",
              "    fill: var(--button-hover-fill-color);\n",
              "  }\n",
              "\n",
              "  .colab-df-quickchart-complete:disabled,\n",
              "  .colab-df-quickchart-complete:disabled:hover {\n",
              "    background-color: var(--disabled-bg-color);\n",
              "    fill: var(--disabled-fill-color);\n",
              "    box-shadow: none;\n",
              "  }\n",
              "\n",
              "  .colab-df-spinner {\n",
              "    border: 2px solid var(--fill-color);\n",
              "    border-color: transparent;\n",
              "    border-bottom-color: var(--fill-color);\n",
              "    animation:\n",
              "      spin 1s steps(1) infinite;\n",
              "  }\n",
              "\n",
              "  @keyframes spin {\n",
              "    0% {\n",
              "      border-color: transparent;\n",
              "      border-bottom-color: var(--fill-color);\n",
              "      border-left-color: var(--fill-color);\n",
              "    }\n",
              "    20% {\n",
              "      border-color: transparent;\n",
              "      border-left-color: var(--fill-color);\n",
              "      border-top-color: var(--fill-color);\n",
              "    }\n",
              "    30% {\n",
              "      border-color: transparent;\n",
              "      border-left-color: var(--fill-color);\n",
              "      border-top-color: var(--fill-color);\n",
              "      border-right-color: var(--fill-color);\n",
              "    }\n",
              "    40% {\n",
              "      border-color: transparent;\n",
              "      border-right-color: var(--fill-color);\n",
              "      border-top-color: var(--fill-color);\n",
              "    }\n",
              "    60% {\n",
              "      border-color: transparent;\n",
              "      border-right-color: var(--fill-color);\n",
              "    }\n",
              "    80% {\n",
              "      border-color: transparent;\n",
              "      border-right-color: var(--fill-color);\n",
              "      border-bottom-color: var(--fill-color);\n",
              "    }\n",
              "    90% {\n",
              "      border-color: transparent;\n",
              "      border-bottom-color: var(--fill-color);\n",
              "    }\n",
              "  }\n",
              "</style>\n",
              "\n",
              "      <script>\n",
              "        async function quickchart(key) {\n",
              "          const quickchartButtonEl =\n",
              "            document.querySelector('#' + key + ' button');\n",
              "          quickchartButtonEl.disabled = true;  // To prevent multiple clicks.\n",
              "          quickchartButtonEl.classList.add('colab-df-spinner');\n",
              "          try {\n",
              "            const charts = await google.colab.kernel.invokeFunction(\n",
              "                'suggestCharts', [key], {});\n",
              "          } catch (error) {\n",
              "            console.error('Error during call to suggestCharts:', error);\n",
              "          }\n",
              "          quickchartButtonEl.classList.remove('colab-df-spinner');\n",
              "          quickchartButtonEl.classList.add('colab-df-quickchart-complete');\n",
              "        }\n",
              "        (() => {\n",
              "          let quickchartButtonEl =\n",
              "            document.querySelector('#df-66ba7411-2dbc-4609-b0b8-d04f9c6a48eb button');\n",
              "          quickchartButtonEl.style.display =\n",
              "            google.colab.kernel.accessAllowed ? 'block' : 'none';\n",
              "        })();\n",
              "      </script>\n",
              "    </div>\n",
              "\n",
              "    </div>\n",
              "  </div>\n"
            ],
            "application/vnd.google.colaboratory.intrinsic+json": {
              "type": "dataframe",
              "repr_error": "Out of range float values are not JSON compliant: nan"
            }
          },
          "metadata": {},
          "execution_count": 26
        }
      ]
    },
    {
      "cell_type": "code",
      "source": [
        "\n",
        "fashionMNIST_experiments_df =  h.get_experiments_from_wandb(\"jsrodriguez16-personal\", 'fashion mnist')\n",
        "fashionMNIST_experiments_df.sort_values(by=\"test_acc\", ascending=False)"
      ],
      "metadata": {
        "colab": {
          "base_uri": "https://localhost:8080/",
          "height": 1000
        },
        "id": "ZOHUE0RWgyIg",
        "outputId": "c06716c8-e830-49a5-f8a8-d30f5596cfbd"
      },
      "execution_count": 27,
      "outputs": [
        {
          "output_type": "execute_result",
          "data": {
            "text/plain": [
              "                    name  epochs  batch_size optimizer     lr  train_acc  \\\n",
              "24          still-bee-27      17          32      Adam  0.001   0.828150   \n",
              "28        zany-breeze-31      30          32      Adam  0.001   0.831950   \n",
              "26         light-bird-29      15          32      Adam  0.001   0.830617   \n",
              "21     classic-meadow-24      17          32      Adam  0.001   0.824700   \n",
              "11         sunny-wave-14      17          32      Adam  0.001   0.824967   \n",
              "32          trim-wood-35      30          32      Adam  0.001   0.834050   \n",
              "6            mild-surf-9      16          32      Adam  0.001   0.823917   \n",
              "25      icy-spaceship-28      17          32      Adam  0.001   0.823017   \n",
              "7        snowy-cherry-10      17          32      Adam  0.001   0.815100   \n",
              "23       desert-totem-26      10          32      Adam  0.001   0.933967   \n",
              "5   volcanic-waterfall-8      20          32      Adam  0.001   0.829217   \n",
              "31     atomic-silence-34      10          32      Adam  0.001   0.933383   \n",
              "20        serene-star-23      20          32      Adam  0.001   0.951850   \n",
              "4       genial-pyramid-5      10          32      Adam  0.001   0.933233   \n",
              "9     pleasant-vortex-12      20          32       SGD  0.100   0.934000   \n",
              "1           major-bird-2      15          32       SGD  0.100   0.930500   \n",
              "10          super-dew-13      20          32      Adam  0.001   0.949950   \n",
              "0         restful-jazz-1       5          32       SGD  0.100   0.909600   \n",
              "3          absurd-lion-4      20          32      Adam  0.001   0.950467   \n",
              "22        rosy-sunset-25       5          32       SGD  0.100   0.909967   \n",
              "29  hearty-wildflower-32       5          32       SGD  0.100   0.909633   \n",
              "19         olive-fire-22      20          32       SGD  0.100   0.934367   \n",
              "18      glowing-plant-21       5          32       SGD  0.100   0.906950   \n",
              "8           fine-star-11       5          32       SGD  0.100   0.908283   \n",
              "2             dry-surf-3      20          32       SGD  0.100   0.929050   \n",
              "30         autumn-sun-33      20          32       SGD  0.100   0.933467   \n",
              "14         snowy-star-17      15          32      Adam  0.001   0.782717   \n",
              "15       drawn-donkey-18      30          32      Adam  0.001   0.747450   \n",
              "16     legendary-dawn-19      30          32      Adam  0.001   0.797567   \n",
              "12       toasty-salad-15      15          32      Adam  0.001        NaN   \n",
              "13       astral-night-16       5          32      Adam  0.001        NaN   \n",
              "17       cosmic-grass-20      30          32      Adam  0.001        NaN   \n",
              "27      dazzling-lion-30      15          32      Adam  0.001        NaN   \n",
              "\n",
              "    train_loss  test_acc  test_loss hidden_units  \\\n",
              "24    0.386554  0.929014   0.209574         None   \n",
              "28    0.371247  0.926418   0.223182         None   \n",
              "26    0.376080  0.926018   0.221009         None   \n",
              "21    0.393587  0.924421   0.218751         None   \n",
              "11    0.392043  0.923423   0.213845         None   \n",
              "32    0.366308  0.923323   0.224094         None   \n",
              "6     0.399728  0.922823   0.221498         None   \n",
              "25    0.399687  0.921326   0.224819         None   \n",
              "7     0.434981  0.916733   0.225134         None   \n",
              "23    0.181981  0.912141   0.247499         None   \n",
              "5     0.382500  0.911941   0.258820         None   \n",
              "31    0.181218  0.911042   0.260175         None   \n",
              "20    0.132518  0.908746   0.287054         None   \n",
              "4     0.181669  0.908147   0.266613         None   \n",
              "9     0.178149  0.906849   0.269942         None   \n",
              "1     0.189408  0.906250   0.257450         None   \n",
              "10    0.134573  0.905551   0.291020         None   \n",
              "0     0.248220  0.902855   0.272639         None   \n",
              "3     0.134130  0.902057   0.325179         None   \n",
              "22    0.247495  0.901558   0.263035         None   \n",
              "29    0.249577  0.901358   0.274160         None   \n",
              "19    0.180763  0.900958   0.282184         None   \n",
              "18    0.255875  0.899261   0.272976         None   \n",
              "8     0.250803  0.898962   0.279891         None   \n",
              "2     0.194020  0.897664   0.289948         None   \n",
              "30    0.183550  0.896166   0.295104         None   \n",
              "14    0.537466  0.304113   2.632824         None   \n",
              "15    0.644393  0.266873   2.975329         None   \n",
              "16    0.489785  0.182708   5.725952         None   \n",
              "12         NaN       NaN        NaN         None   \n",
              "13         NaN       NaN        NaN         None   \n",
              "17         NaN       NaN        NaN         None   \n",
              "27         NaN       NaN        NaN         None   \n",
              "\n",
              "                                                  url  \n",
              "24  https://wandb.ai/jsrodriguez16-personal/fashio...  \n",
              "28  https://wandb.ai/jsrodriguez16-personal/fashio...  \n",
              "26  https://wandb.ai/jsrodriguez16-personal/fashio...  \n",
              "21  https://wandb.ai/jsrodriguez16-personal/fashio...  \n",
              "11  https://wandb.ai/jsrodriguez16-personal/fashio...  \n",
              "32  https://wandb.ai/jsrodriguez16-personal/fashio...  \n",
              "6   https://wandb.ai/jsrodriguez16-personal/fashio...  \n",
              "25  https://wandb.ai/jsrodriguez16-personal/fashio...  \n",
              "7   https://wandb.ai/jsrodriguez16-personal/fashio...  \n",
              "23  https://wandb.ai/jsrodriguez16-personal/fashio...  \n",
              "5   https://wandb.ai/jsrodriguez16-personal/fashio...  \n",
              "31  https://wandb.ai/jsrodriguez16-personal/fashio...  \n",
              "20  https://wandb.ai/jsrodriguez16-personal/fashio...  \n",
              "4   https://wandb.ai/jsrodriguez16-personal/fashio...  \n",
              "9   https://wandb.ai/jsrodriguez16-personal/fashio...  \n",
              "1   https://wandb.ai/jsrodriguez16-personal/fashio...  \n",
              "10  https://wandb.ai/jsrodriguez16-personal/fashio...  \n",
              "0   https://wandb.ai/jsrodriguez16-personal/fashio...  \n",
              "3   https://wandb.ai/jsrodriguez16-personal/fashio...  \n",
              "22  https://wandb.ai/jsrodriguez16-personal/fashio...  \n",
              "29  https://wandb.ai/jsrodriguez16-personal/fashio...  \n",
              "19  https://wandb.ai/jsrodriguez16-personal/fashio...  \n",
              "18  https://wandb.ai/jsrodriguez16-personal/fashio...  \n",
              "8   https://wandb.ai/jsrodriguez16-personal/fashio...  \n",
              "2   https://wandb.ai/jsrodriguez16-personal/fashio...  \n",
              "30  https://wandb.ai/jsrodriguez16-personal/fashio...  \n",
              "14  https://wandb.ai/jsrodriguez16-personal/fashio...  \n",
              "15  https://wandb.ai/jsrodriguez16-personal/fashio...  \n",
              "16  https://wandb.ai/jsrodriguez16-personal/fashio...  \n",
              "12  https://wandb.ai/jsrodriguez16-personal/fashio...  \n",
              "13  https://wandb.ai/jsrodriguez16-personal/fashio...  \n",
              "17  https://wandb.ai/jsrodriguez16-personal/fashio...  \n",
              "27  https://wandb.ai/jsrodriguez16-personal/fashio...  "
            ],
            "text/html": [
              "\n",
              "  <div id=\"df-88335968-f9f2-4d85-b8a0-48e00ef56c61\" class=\"colab-df-container\">\n",
              "    <div>\n",
              "<style scoped>\n",
              "    .dataframe tbody tr th:only-of-type {\n",
              "        vertical-align: middle;\n",
              "    }\n",
              "\n",
              "    .dataframe tbody tr th {\n",
              "        vertical-align: top;\n",
              "    }\n",
              "\n",
              "    .dataframe thead th {\n",
              "        text-align: right;\n",
              "    }\n",
              "</style>\n",
              "<table border=\"1\" class=\"dataframe\">\n",
              "  <thead>\n",
              "    <tr style=\"text-align: right;\">\n",
              "      <th></th>\n",
              "      <th>name</th>\n",
              "      <th>epochs</th>\n",
              "      <th>batch_size</th>\n",
              "      <th>optimizer</th>\n",
              "      <th>lr</th>\n",
              "      <th>train_acc</th>\n",
              "      <th>train_loss</th>\n",
              "      <th>test_acc</th>\n",
              "      <th>test_loss</th>\n",
              "      <th>hidden_units</th>\n",
              "      <th>url</th>\n",
              "    </tr>\n",
              "  </thead>\n",
              "  <tbody>\n",
              "    <tr>\n",
              "      <th>24</th>\n",
              "      <td>still-bee-27</td>\n",
              "      <td>17</td>\n",
              "      <td>32</td>\n",
              "      <td>Adam</td>\n",
              "      <td>0.001</td>\n",
              "      <td>0.828150</td>\n",
              "      <td>0.386554</td>\n",
              "      <td>0.929014</td>\n",
              "      <td>0.209574</td>\n",
              "      <td>None</td>\n",
              "      <td>https://wandb.ai/jsrodriguez16-personal/fashio...</td>\n",
              "    </tr>\n",
              "    <tr>\n",
              "      <th>28</th>\n",
              "      <td>zany-breeze-31</td>\n",
              "      <td>30</td>\n",
              "      <td>32</td>\n",
              "      <td>Adam</td>\n",
              "      <td>0.001</td>\n",
              "      <td>0.831950</td>\n",
              "      <td>0.371247</td>\n",
              "      <td>0.926418</td>\n",
              "      <td>0.223182</td>\n",
              "      <td>None</td>\n",
              "      <td>https://wandb.ai/jsrodriguez16-personal/fashio...</td>\n",
              "    </tr>\n",
              "    <tr>\n",
              "      <th>26</th>\n",
              "      <td>light-bird-29</td>\n",
              "      <td>15</td>\n",
              "      <td>32</td>\n",
              "      <td>Adam</td>\n",
              "      <td>0.001</td>\n",
              "      <td>0.830617</td>\n",
              "      <td>0.376080</td>\n",
              "      <td>0.926018</td>\n",
              "      <td>0.221009</td>\n",
              "      <td>None</td>\n",
              "      <td>https://wandb.ai/jsrodriguez16-personal/fashio...</td>\n",
              "    </tr>\n",
              "    <tr>\n",
              "      <th>21</th>\n",
              "      <td>classic-meadow-24</td>\n",
              "      <td>17</td>\n",
              "      <td>32</td>\n",
              "      <td>Adam</td>\n",
              "      <td>0.001</td>\n",
              "      <td>0.824700</td>\n",
              "      <td>0.393587</td>\n",
              "      <td>0.924421</td>\n",
              "      <td>0.218751</td>\n",
              "      <td>None</td>\n",
              "      <td>https://wandb.ai/jsrodriguez16-personal/fashio...</td>\n",
              "    </tr>\n",
              "    <tr>\n",
              "      <th>11</th>\n",
              "      <td>sunny-wave-14</td>\n",
              "      <td>17</td>\n",
              "      <td>32</td>\n",
              "      <td>Adam</td>\n",
              "      <td>0.001</td>\n",
              "      <td>0.824967</td>\n",
              "      <td>0.392043</td>\n",
              "      <td>0.923423</td>\n",
              "      <td>0.213845</td>\n",
              "      <td>None</td>\n",
              "      <td>https://wandb.ai/jsrodriguez16-personal/fashio...</td>\n",
              "    </tr>\n",
              "    <tr>\n",
              "      <th>32</th>\n",
              "      <td>trim-wood-35</td>\n",
              "      <td>30</td>\n",
              "      <td>32</td>\n",
              "      <td>Adam</td>\n",
              "      <td>0.001</td>\n",
              "      <td>0.834050</td>\n",
              "      <td>0.366308</td>\n",
              "      <td>0.923323</td>\n",
              "      <td>0.224094</td>\n",
              "      <td>None</td>\n",
              "      <td>https://wandb.ai/jsrodriguez16-personal/fashio...</td>\n",
              "    </tr>\n",
              "    <tr>\n",
              "      <th>6</th>\n",
              "      <td>mild-surf-9</td>\n",
              "      <td>16</td>\n",
              "      <td>32</td>\n",
              "      <td>Adam</td>\n",
              "      <td>0.001</td>\n",
              "      <td>0.823917</td>\n",
              "      <td>0.399728</td>\n",
              "      <td>0.922823</td>\n",
              "      <td>0.221498</td>\n",
              "      <td>None</td>\n",
              "      <td>https://wandb.ai/jsrodriguez16-personal/fashio...</td>\n",
              "    </tr>\n",
              "    <tr>\n",
              "      <th>25</th>\n",
              "      <td>icy-spaceship-28</td>\n",
              "      <td>17</td>\n",
              "      <td>32</td>\n",
              "      <td>Adam</td>\n",
              "      <td>0.001</td>\n",
              "      <td>0.823017</td>\n",
              "      <td>0.399687</td>\n",
              "      <td>0.921326</td>\n",
              "      <td>0.224819</td>\n",
              "      <td>None</td>\n",
              "      <td>https://wandb.ai/jsrodriguez16-personal/fashio...</td>\n",
              "    </tr>\n",
              "    <tr>\n",
              "      <th>7</th>\n",
              "      <td>snowy-cherry-10</td>\n",
              "      <td>17</td>\n",
              "      <td>32</td>\n",
              "      <td>Adam</td>\n",
              "      <td>0.001</td>\n",
              "      <td>0.815100</td>\n",
              "      <td>0.434981</td>\n",
              "      <td>0.916733</td>\n",
              "      <td>0.225134</td>\n",
              "      <td>None</td>\n",
              "      <td>https://wandb.ai/jsrodriguez16-personal/fashio...</td>\n",
              "    </tr>\n",
              "    <tr>\n",
              "      <th>23</th>\n",
              "      <td>desert-totem-26</td>\n",
              "      <td>10</td>\n",
              "      <td>32</td>\n",
              "      <td>Adam</td>\n",
              "      <td>0.001</td>\n",
              "      <td>0.933967</td>\n",
              "      <td>0.181981</td>\n",
              "      <td>0.912141</td>\n",
              "      <td>0.247499</td>\n",
              "      <td>None</td>\n",
              "      <td>https://wandb.ai/jsrodriguez16-personal/fashio...</td>\n",
              "    </tr>\n",
              "    <tr>\n",
              "      <th>5</th>\n",
              "      <td>volcanic-waterfall-8</td>\n",
              "      <td>20</td>\n",
              "      <td>32</td>\n",
              "      <td>Adam</td>\n",
              "      <td>0.001</td>\n",
              "      <td>0.829217</td>\n",
              "      <td>0.382500</td>\n",
              "      <td>0.911941</td>\n",
              "      <td>0.258820</td>\n",
              "      <td>None</td>\n",
              "      <td>https://wandb.ai/jsrodriguez16-personal/fashio...</td>\n",
              "    </tr>\n",
              "    <tr>\n",
              "      <th>31</th>\n",
              "      <td>atomic-silence-34</td>\n",
              "      <td>10</td>\n",
              "      <td>32</td>\n",
              "      <td>Adam</td>\n",
              "      <td>0.001</td>\n",
              "      <td>0.933383</td>\n",
              "      <td>0.181218</td>\n",
              "      <td>0.911042</td>\n",
              "      <td>0.260175</td>\n",
              "      <td>None</td>\n",
              "      <td>https://wandb.ai/jsrodriguez16-personal/fashio...</td>\n",
              "    </tr>\n",
              "    <tr>\n",
              "      <th>20</th>\n",
              "      <td>serene-star-23</td>\n",
              "      <td>20</td>\n",
              "      <td>32</td>\n",
              "      <td>Adam</td>\n",
              "      <td>0.001</td>\n",
              "      <td>0.951850</td>\n",
              "      <td>0.132518</td>\n",
              "      <td>0.908746</td>\n",
              "      <td>0.287054</td>\n",
              "      <td>None</td>\n",
              "      <td>https://wandb.ai/jsrodriguez16-personal/fashio...</td>\n",
              "    </tr>\n",
              "    <tr>\n",
              "      <th>4</th>\n",
              "      <td>genial-pyramid-5</td>\n",
              "      <td>10</td>\n",
              "      <td>32</td>\n",
              "      <td>Adam</td>\n",
              "      <td>0.001</td>\n",
              "      <td>0.933233</td>\n",
              "      <td>0.181669</td>\n",
              "      <td>0.908147</td>\n",
              "      <td>0.266613</td>\n",
              "      <td>None</td>\n",
              "      <td>https://wandb.ai/jsrodriguez16-personal/fashio...</td>\n",
              "    </tr>\n",
              "    <tr>\n",
              "      <th>9</th>\n",
              "      <td>pleasant-vortex-12</td>\n",
              "      <td>20</td>\n",
              "      <td>32</td>\n",
              "      <td>SGD</td>\n",
              "      <td>0.100</td>\n",
              "      <td>0.934000</td>\n",
              "      <td>0.178149</td>\n",
              "      <td>0.906849</td>\n",
              "      <td>0.269942</td>\n",
              "      <td>None</td>\n",
              "      <td>https://wandb.ai/jsrodriguez16-personal/fashio...</td>\n",
              "    </tr>\n",
              "    <tr>\n",
              "      <th>1</th>\n",
              "      <td>major-bird-2</td>\n",
              "      <td>15</td>\n",
              "      <td>32</td>\n",
              "      <td>SGD</td>\n",
              "      <td>0.100</td>\n",
              "      <td>0.930500</td>\n",
              "      <td>0.189408</td>\n",
              "      <td>0.906250</td>\n",
              "      <td>0.257450</td>\n",
              "      <td>None</td>\n",
              "      <td>https://wandb.ai/jsrodriguez16-personal/fashio...</td>\n",
              "    </tr>\n",
              "    <tr>\n",
              "      <th>10</th>\n",
              "      <td>super-dew-13</td>\n",
              "      <td>20</td>\n",
              "      <td>32</td>\n",
              "      <td>Adam</td>\n",
              "      <td>0.001</td>\n",
              "      <td>0.949950</td>\n",
              "      <td>0.134573</td>\n",
              "      <td>0.905551</td>\n",
              "      <td>0.291020</td>\n",
              "      <td>None</td>\n",
              "      <td>https://wandb.ai/jsrodriguez16-personal/fashio...</td>\n",
              "    </tr>\n",
              "    <tr>\n",
              "      <th>0</th>\n",
              "      <td>restful-jazz-1</td>\n",
              "      <td>5</td>\n",
              "      <td>32</td>\n",
              "      <td>SGD</td>\n",
              "      <td>0.100</td>\n",
              "      <td>0.909600</td>\n",
              "      <td>0.248220</td>\n",
              "      <td>0.902855</td>\n",
              "      <td>0.272639</td>\n",
              "      <td>None</td>\n",
              "      <td>https://wandb.ai/jsrodriguez16-personal/fashio...</td>\n",
              "    </tr>\n",
              "    <tr>\n",
              "      <th>3</th>\n",
              "      <td>absurd-lion-4</td>\n",
              "      <td>20</td>\n",
              "      <td>32</td>\n",
              "      <td>Adam</td>\n",
              "      <td>0.001</td>\n",
              "      <td>0.950467</td>\n",
              "      <td>0.134130</td>\n",
              "      <td>0.902057</td>\n",
              "      <td>0.325179</td>\n",
              "      <td>None</td>\n",
              "      <td>https://wandb.ai/jsrodriguez16-personal/fashio...</td>\n",
              "    </tr>\n",
              "    <tr>\n",
              "      <th>22</th>\n",
              "      <td>rosy-sunset-25</td>\n",
              "      <td>5</td>\n",
              "      <td>32</td>\n",
              "      <td>SGD</td>\n",
              "      <td>0.100</td>\n",
              "      <td>0.909967</td>\n",
              "      <td>0.247495</td>\n",
              "      <td>0.901558</td>\n",
              "      <td>0.263035</td>\n",
              "      <td>None</td>\n",
              "      <td>https://wandb.ai/jsrodriguez16-personal/fashio...</td>\n",
              "    </tr>\n",
              "    <tr>\n",
              "      <th>29</th>\n",
              "      <td>hearty-wildflower-32</td>\n",
              "      <td>5</td>\n",
              "      <td>32</td>\n",
              "      <td>SGD</td>\n",
              "      <td>0.100</td>\n",
              "      <td>0.909633</td>\n",
              "      <td>0.249577</td>\n",
              "      <td>0.901358</td>\n",
              "      <td>0.274160</td>\n",
              "      <td>None</td>\n",
              "      <td>https://wandb.ai/jsrodriguez16-personal/fashio...</td>\n",
              "    </tr>\n",
              "    <tr>\n",
              "      <th>19</th>\n",
              "      <td>olive-fire-22</td>\n",
              "      <td>20</td>\n",
              "      <td>32</td>\n",
              "      <td>SGD</td>\n",
              "      <td>0.100</td>\n",
              "      <td>0.934367</td>\n",
              "      <td>0.180763</td>\n",
              "      <td>0.900958</td>\n",
              "      <td>0.282184</td>\n",
              "      <td>None</td>\n",
              "      <td>https://wandb.ai/jsrodriguez16-personal/fashio...</td>\n",
              "    </tr>\n",
              "    <tr>\n",
              "      <th>18</th>\n",
              "      <td>glowing-plant-21</td>\n",
              "      <td>5</td>\n",
              "      <td>32</td>\n",
              "      <td>SGD</td>\n",
              "      <td>0.100</td>\n",
              "      <td>0.906950</td>\n",
              "      <td>0.255875</td>\n",
              "      <td>0.899261</td>\n",
              "      <td>0.272976</td>\n",
              "      <td>None</td>\n",
              "      <td>https://wandb.ai/jsrodriguez16-personal/fashio...</td>\n",
              "    </tr>\n",
              "    <tr>\n",
              "      <th>8</th>\n",
              "      <td>fine-star-11</td>\n",
              "      <td>5</td>\n",
              "      <td>32</td>\n",
              "      <td>SGD</td>\n",
              "      <td>0.100</td>\n",
              "      <td>0.908283</td>\n",
              "      <td>0.250803</td>\n",
              "      <td>0.898962</td>\n",
              "      <td>0.279891</td>\n",
              "      <td>None</td>\n",
              "      <td>https://wandb.ai/jsrodriguez16-personal/fashio...</td>\n",
              "    </tr>\n",
              "    <tr>\n",
              "      <th>2</th>\n",
              "      <td>dry-surf-3</td>\n",
              "      <td>20</td>\n",
              "      <td>32</td>\n",
              "      <td>SGD</td>\n",
              "      <td>0.100</td>\n",
              "      <td>0.929050</td>\n",
              "      <td>0.194020</td>\n",
              "      <td>0.897664</td>\n",
              "      <td>0.289948</td>\n",
              "      <td>None</td>\n",
              "      <td>https://wandb.ai/jsrodriguez16-personal/fashio...</td>\n",
              "    </tr>\n",
              "    <tr>\n",
              "      <th>30</th>\n",
              "      <td>autumn-sun-33</td>\n",
              "      <td>20</td>\n",
              "      <td>32</td>\n",
              "      <td>SGD</td>\n",
              "      <td>0.100</td>\n",
              "      <td>0.933467</td>\n",
              "      <td>0.183550</td>\n",
              "      <td>0.896166</td>\n",
              "      <td>0.295104</td>\n",
              "      <td>None</td>\n",
              "      <td>https://wandb.ai/jsrodriguez16-personal/fashio...</td>\n",
              "    </tr>\n",
              "    <tr>\n",
              "      <th>14</th>\n",
              "      <td>snowy-star-17</td>\n",
              "      <td>15</td>\n",
              "      <td>32</td>\n",
              "      <td>Adam</td>\n",
              "      <td>0.001</td>\n",
              "      <td>0.782717</td>\n",
              "      <td>0.537466</td>\n",
              "      <td>0.304113</td>\n",
              "      <td>2.632824</td>\n",
              "      <td>None</td>\n",
              "      <td>https://wandb.ai/jsrodriguez16-personal/fashio...</td>\n",
              "    </tr>\n",
              "    <tr>\n",
              "      <th>15</th>\n",
              "      <td>drawn-donkey-18</td>\n",
              "      <td>30</td>\n",
              "      <td>32</td>\n",
              "      <td>Adam</td>\n",
              "      <td>0.001</td>\n",
              "      <td>0.747450</td>\n",
              "      <td>0.644393</td>\n",
              "      <td>0.266873</td>\n",
              "      <td>2.975329</td>\n",
              "      <td>None</td>\n",
              "      <td>https://wandb.ai/jsrodriguez16-personal/fashio...</td>\n",
              "    </tr>\n",
              "    <tr>\n",
              "      <th>16</th>\n",
              "      <td>legendary-dawn-19</td>\n",
              "      <td>30</td>\n",
              "      <td>32</td>\n",
              "      <td>Adam</td>\n",
              "      <td>0.001</td>\n",
              "      <td>0.797567</td>\n",
              "      <td>0.489785</td>\n",
              "      <td>0.182708</td>\n",
              "      <td>5.725952</td>\n",
              "      <td>None</td>\n",
              "      <td>https://wandb.ai/jsrodriguez16-personal/fashio...</td>\n",
              "    </tr>\n",
              "    <tr>\n",
              "      <th>12</th>\n",
              "      <td>toasty-salad-15</td>\n",
              "      <td>15</td>\n",
              "      <td>32</td>\n",
              "      <td>Adam</td>\n",
              "      <td>0.001</td>\n",
              "      <td>NaN</td>\n",
              "      <td>NaN</td>\n",
              "      <td>NaN</td>\n",
              "      <td>NaN</td>\n",
              "      <td>None</td>\n",
              "      <td>https://wandb.ai/jsrodriguez16-personal/fashio...</td>\n",
              "    </tr>\n",
              "    <tr>\n",
              "      <th>13</th>\n",
              "      <td>astral-night-16</td>\n",
              "      <td>5</td>\n",
              "      <td>32</td>\n",
              "      <td>Adam</td>\n",
              "      <td>0.001</td>\n",
              "      <td>NaN</td>\n",
              "      <td>NaN</td>\n",
              "      <td>NaN</td>\n",
              "      <td>NaN</td>\n",
              "      <td>None</td>\n",
              "      <td>https://wandb.ai/jsrodriguez16-personal/fashio...</td>\n",
              "    </tr>\n",
              "    <tr>\n",
              "      <th>17</th>\n",
              "      <td>cosmic-grass-20</td>\n",
              "      <td>30</td>\n",
              "      <td>32</td>\n",
              "      <td>Adam</td>\n",
              "      <td>0.001</td>\n",
              "      <td>NaN</td>\n",
              "      <td>NaN</td>\n",
              "      <td>NaN</td>\n",
              "      <td>NaN</td>\n",
              "      <td>None</td>\n",
              "      <td>https://wandb.ai/jsrodriguez16-personal/fashio...</td>\n",
              "    </tr>\n",
              "    <tr>\n",
              "      <th>27</th>\n",
              "      <td>dazzling-lion-30</td>\n",
              "      <td>15</td>\n",
              "      <td>32</td>\n",
              "      <td>Adam</td>\n",
              "      <td>0.001</td>\n",
              "      <td>NaN</td>\n",
              "      <td>NaN</td>\n",
              "      <td>NaN</td>\n",
              "      <td>NaN</td>\n",
              "      <td>None</td>\n",
              "      <td>https://wandb.ai/jsrodriguez16-personal/fashio...</td>\n",
              "    </tr>\n",
              "  </tbody>\n",
              "</table>\n",
              "</div>\n",
              "    <div class=\"colab-df-buttons\">\n",
              "\n",
              "  <div class=\"colab-df-container\">\n",
              "    <button class=\"colab-df-convert\" onclick=\"convertToInteractive('df-88335968-f9f2-4d85-b8a0-48e00ef56c61')\"\n",
              "            title=\"Convert this dataframe to an interactive table.\"\n",
              "            style=\"display:none;\">\n",
              "\n",
              "  <svg xmlns=\"http://www.w3.org/2000/svg\" height=\"24px\" viewBox=\"0 -960 960 960\">\n",
              "    <path d=\"M120-120v-720h720v720H120Zm60-500h600v-160H180v160Zm220 220h160v-160H400v160Zm0 220h160v-160H400v160ZM180-400h160v-160H180v160Zm440 0h160v-160H620v160ZM180-180h160v-160H180v160Zm440 0h160v-160H620v160Z\"/>\n",
              "  </svg>\n",
              "    </button>\n",
              "\n",
              "  <style>\n",
              "    .colab-df-container {\n",
              "      display:flex;\n",
              "      gap: 12px;\n",
              "    }\n",
              "\n",
              "    .colab-df-convert {\n",
              "      background-color: #E8F0FE;\n",
              "      border: none;\n",
              "      border-radius: 50%;\n",
              "      cursor: pointer;\n",
              "      display: none;\n",
              "      fill: #1967D2;\n",
              "      height: 32px;\n",
              "      padding: 0 0 0 0;\n",
              "      width: 32px;\n",
              "    }\n",
              "\n",
              "    .colab-df-convert:hover {\n",
              "      background-color: #E2EBFA;\n",
              "      box-shadow: 0px 1px 2px rgba(60, 64, 67, 0.3), 0px 1px 3px 1px rgba(60, 64, 67, 0.15);\n",
              "      fill: #174EA6;\n",
              "    }\n",
              "\n",
              "    .colab-df-buttons div {\n",
              "      margin-bottom: 4px;\n",
              "    }\n",
              "\n",
              "    [theme=dark] .colab-df-convert {\n",
              "      background-color: #3B4455;\n",
              "      fill: #D2E3FC;\n",
              "    }\n",
              "\n",
              "    [theme=dark] .colab-df-convert:hover {\n",
              "      background-color: #434B5C;\n",
              "      box-shadow: 0px 1px 3px 1px rgba(0, 0, 0, 0.15);\n",
              "      filter: drop-shadow(0px 1px 2px rgba(0, 0, 0, 0.3));\n",
              "      fill: #FFFFFF;\n",
              "    }\n",
              "  </style>\n",
              "\n",
              "    <script>\n",
              "      const buttonEl =\n",
              "        document.querySelector('#df-88335968-f9f2-4d85-b8a0-48e00ef56c61 button.colab-df-convert');\n",
              "      buttonEl.style.display =\n",
              "        google.colab.kernel.accessAllowed ? 'block' : 'none';\n",
              "\n",
              "      async function convertToInteractive(key) {\n",
              "        const element = document.querySelector('#df-88335968-f9f2-4d85-b8a0-48e00ef56c61');\n",
              "        const dataTable =\n",
              "          await google.colab.kernel.invokeFunction('convertToInteractive',\n",
              "                                                    [key], {});\n",
              "        if (!dataTable) return;\n",
              "\n",
              "        const docLinkHtml = 'Like what you see? Visit the ' +\n",
              "          '<a target=\"_blank\" href=https://colab.research.google.com/notebooks/data_table.ipynb>data table notebook</a>'\n",
              "          + ' to learn more about interactive tables.';\n",
              "        element.innerHTML = '';\n",
              "        dataTable['output_type'] = 'display_data';\n",
              "        await google.colab.output.renderOutput(dataTable, element);\n",
              "        const docLink = document.createElement('div');\n",
              "        docLink.innerHTML = docLinkHtml;\n",
              "        element.appendChild(docLink);\n",
              "      }\n",
              "    </script>\n",
              "  </div>\n",
              "\n",
              "\n",
              "    <div id=\"df-13915fef-64a8-4ebc-9bd5-04e13e0857fc\">\n",
              "      <button class=\"colab-df-quickchart\" onclick=\"quickchart('df-13915fef-64a8-4ebc-9bd5-04e13e0857fc')\"\n",
              "                title=\"Suggest charts\"\n",
              "                style=\"display:none;\">\n",
              "\n",
              "<svg xmlns=\"http://www.w3.org/2000/svg\" height=\"24px\"viewBox=\"0 0 24 24\"\n",
              "     width=\"24px\">\n",
              "    <g>\n",
              "        <path d=\"M19 3H5c-1.1 0-2 .9-2 2v14c0 1.1.9 2 2 2h14c1.1 0 2-.9 2-2V5c0-1.1-.9-2-2-2zM9 17H7v-7h2v7zm4 0h-2V7h2v10zm4 0h-2v-4h2v4z\"/>\n",
              "    </g>\n",
              "</svg>\n",
              "      </button>\n",
              "\n",
              "<style>\n",
              "  .colab-df-quickchart {\n",
              "      --bg-color: #E8F0FE;\n",
              "      --fill-color: #1967D2;\n",
              "      --hover-bg-color: #E2EBFA;\n",
              "      --hover-fill-color: #174EA6;\n",
              "      --disabled-fill-color: #AAA;\n",
              "      --disabled-bg-color: #DDD;\n",
              "  }\n",
              "\n",
              "  [theme=dark] .colab-df-quickchart {\n",
              "      --bg-color: #3B4455;\n",
              "      --fill-color: #D2E3FC;\n",
              "      --hover-bg-color: #434B5C;\n",
              "      --hover-fill-color: #FFFFFF;\n",
              "      --disabled-bg-color: #3B4455;\n",
              "      --disabled-fill-color: #666;\n",
              "  }\n",
              "\n",
              "  .colab-df-quickchart {\n",
              "    background-color: var(--bg-color);\n",
              "    border: none;\n",
              "    border-radius: 50%;\n",
              "    cursor: pointer;\n",
              "    display: none;\n",
              "    fill: var(--fill-color);\n",
              "    height: 32px;\n",
              "    padding: 0;\n",
              "    width: 32px;\n",
              "  }\n",
              "\n",
              "  .colab-df-quickchart:hover {\n",
              "    background-color: var(--hover-bg-color);\n",
              "    box-shadow: 0 1px 2px rgba(60, 64, 67, 0.3), 0 1px 3px 1px rgba(60, 64, 67, 0.15);\n",
              "    fill: var(--button-hover-fill-color);\n",
              "  }\n",
              "\n",
              "  .colab-df-quickchart-complete:disabled,\n",
              "  .colab-df-quickchart-complete:disabled:hover {\n",
              "    background-color: var(--disabled-bg-color);\n",
              "    fill: var(--disabled-fill-color);\n",
              "    box-shadow: none;\n",
              "  }\n",
              "\n",
              "  .colab-df-spinner {\n",
              "    border: 2px solid var(--fill-color);\n",
              "    border-color: transparent;\n",
              "    border-bottom-color: var(--fill-color);\n",
              "    animation:\n",
              "      spin 1s steps(1) infinite;\n",
              "  }\n",
              "\n",
              "  @keyframes spin {\n",
              "    0% {\n",
              "      border-color: transparent;\n",
              "      border-bottom-color: var(--fill-color);\n",
              "      border-left-color: var(--fill-color);\n",
              "    }\n",
              "    20% {\n",
              "      border-color: transparent;\n",
              "      border-left-color: var(--fill-color);\n",
              "      border-top-color: var(--fill-color);\n",
              "    }\n",
              "    30% {\n",
              "      border-color: transparent;\n",
              "      border-left-color: var(--fill-color);\n",
              "      border-top-color: var(--fill-color);\n",
              "      border-right-color: var(--fill-color);\n",
              "    }\n",
              "    40% {\n",
              "      border-color: transparent;\n",
              "      border-right-color: var(--fill-color);\n",
              "      border-top-color: var(--fill-color);\n",
              "    }\n",
              "    60% {\n",
              "      border-color: transparent;\n",
              "      border-right-color: var(--fill-color);\n",
              "    }\n",
              "    80% {\n",
              "      border-color: transparent;\n",
              "      border-right-color: var(--fill-color);\n",
              "      border-bottom-color: var(--fill-color);\n",
              "    }\n",
              "    90% {\n",
              "      border-color: transparent;\n",
              "      border-bottom-color: var(--fill-color);\n",
              "    }\n",
              "  }\n",
              "</style>\n",
              "\n",
              "      <script>\n",
              "        async function quickchart(key) {\n",
              "          const quickchartButtonEl =\n",
              "            document.querySelector('#' + key + ' button');\n",
              "          quickchartButtonEl.disabled = true;  // To prevent multiple clicks.\n",
              "          quickchartButtonEl.classList.add('colab-df-spinner');\n",
              "          try {\n",
              "            const charts = await google.colab.kernel.invokeFunction(\n",
              "                'suggestCharts', [key], {});\n",
              "          } catch (error) {\n",
              "            console.error('Error during call to suggestCharts:', error);\n",
              "          }\n",
              "          quickchartButtonEl.classList.remove('colab-df-spinner');\n",
              "          quickchartButtonEl.classList.add('colab-df-quickchart-complete');\n",
              "        }\n",
              "        (() => {\n",
              "          let quickchartButtonEl =\n",
              "            document.querySelector('#df-13915fef-64a8-4ebc-9bd5-04e13e0857fc button');\n",
              "          quickchartButtonEl.style.display =\n",
              "            google.colab.kernel.accessAllowed ? 'block' : 'none';\n",
              "        })();\n",
              "      </script>\n",
              "    </div>\n",
              "\n",
              "    </div>\n",
              "  </div>\n"
            ],
            "application/vnd.google.colaboratory.intrinsic+json": {
              "type": "dataframe",
              "repr_error": "Out of range float values are not JSON compliant: nan"
            }
          },
          "metadata": {},
          "execution_count": 27
        }
      ]
    },
    {
      "cell_type": "markdown",
      "source": [
        "# Exploring our saved models\n",
        "In this section, we load the models from the `state_dict` files (`mnist_model.pth` and `fashionMnist_model.pth`) and analyze the data instances where the models fail to produce correct predictions.\n",
        "\n"
      ],
      "metadata": {
        "id": "z2rxP2Ov1gGW"
      }
    },
    {
      "cell_type": "code",
      "source": [
        "# Create instances of our models\n",
        "mnist_model = models.TinyVGG(in_channels=1,\n",
        "                       hidden_units=[32,32],\n",
        "                       out_features=10,\n",
        "                       dropout=0.2).to(device)\n",
        "\n",
        "fashion_model = models.TinyVGG(in_channels=1,\n",
        "                       hidden_units=[32,32],\n",
        "                       out_features=10,\n",
        "                       dropout=0.2).to(device)\n",
        "\n",
        "# Load the state_dict\n",
        "mnist_model.load_state_dict(torch.load(f=\"/content/models/mnist_model.pth\"))\n",
        "fashion_model.load_state_dict(torch.load(f=\"/content/models/fashionMnist_model.pth\"))"
      ],
      "metadata": {
        "colab": {
          "base_uri": "https://localhost:8080/"
        },
        "id": "Pob524ND1H_j",
        "outputId": "673ab2cf-f9a7-4d57-bc2b-f73a89dd0ea6"
      },
      "execution_count": 28,
      "outputs": [
        {
          "output_type": "execute_result",
          "data": {
            "text/plain": [
              "<All keys matched successfully>"
            ]
          },
          "metadata": {},
          "execution_count": 28
        }
      ]
    },
    {
      "cell_type": "markdown",
      "source": [
        "We can use our `test_step` function to test our models."
      ],
      "metadata": {
        "id": "TZrzdvjQsKz8"
      }
    },
    {
      "cell_type": "code",
      "source": [
        "print(\"---------Performance of mnist_model ---------------\")\n",
        "_ , _=h.test_step(model=mnist_model,\n",
        "          data_loader=MNIST_test_loader,\n",
        "          loss_fn=loss_fn,\n",
        "          accuracy_fn=h.accuracy_fn,\n",
        "          device=device)"
      ],
      "metadata": {
        "colab": {
          "base_uri": "https://localhost:8080/"
        },
        "id": "F4crg1K3qNpD",
        "outputId": "401b1c56-4f30-4c72-ebf6-6337971632ae"
      },
      "execution_count": 45,
      "outputs": [
        {
          "output_type": "stream",
          "name": "stdout",
          "text": [
            "---------Performance of mnist_model ---------------\n",
            "Test loss: 0.02124 | Test acc: 99.46%\n",
            "\n"
          ]
        }
      ]
    },
    {
      "cell_type": "code",
      "source": [
        "print(\"---------Performance of fashion_model ---------------\")\n",
        "_ , _=h.test_step(model=fashion_model,\n",
        "          data_loader=fashionMNIST_test_loader,\n",
        "          loss_fn=loss_fn,\n",
        "          accuracy_fn=h.accuracy_fn,\n",
        "          device=device)"
      ],
      "metadata": {
        "colab": {
          "base_uri": "https://localhost:8080/"
        },
        "id": "xXHCqwdhsIrc",
        "outputId": "d5fb93e2-e42b-48ae-ac26-a551a1213ec9"
      },
      "execution_count": 30,
      "outputs": [
        {
          "output_type": "stream",
          "name": "stdout",
          "text": [
            "---------Performance of fashion_model ---------------\n",
            "Test loss: 0.22409 | Test acc: 92.33%\n",
            "\n"
          ]
        }
      ]
    },
    {
      "cell_type": "markdown",
      "source": [
        "To end this notebook, we can explore the images where our models made incorrect predictions.  \n",
        "We use the helper function `get_error_indices` to obtain the indices of the misclassified samples in the dataset.  \n",
        "\n",
        "Once we have these indices, we can create a subset of the dataset containing only the misclassified images and use the helper function `make_predictions_loader` to get the predicted labels for these images. Finally, we can visualize them using `plot_images_grid`, which displays the images in a grid along with their true labels and predicted labels.  \n",
        "\n",
        "\n"
      ],
      "metadata": {
        "id": "1YcuGprHs2Ll"
      }
    },
    {
      "cell_type": "code",
      "source": [
        "h.plot_misclassified_subset(\n",
        "    model=mnist_model,\n",
        "    dataset=MNIST_test_data,\n",
        "    loader=MNIST_test_loader,\n",
        "    device=device,\n",
        "    num_to_plot=16,\n",
        "    cols=4\n",
        ")\n"
      ],
      "metadata": {
        "colab": {
          "base_uri": "https://localhost:8080/",
          "height": 923
        },
        "id": "a0uRIexdsu8T",
        "outputId": "8569df0e-a623-42b3-c0f9-641d8271543e"
      },
      "execution_count": 31,
      "outputs": [
        {
          "output_type": "stream",
          "name": "stdout",
          "text": [
            "Total misclassified images: 54\n"
          ]
        },
        {
          "output_type": "display_data",
          "data": {
            "text/plain": [
              "<Figure size 900x900 with 16 Axes>"
            ],
            "image/png": "[encoded data removed]"
          },
          "metadata": {}
        }
      ]
    },
    {
      "cell_type": "code",
      "source": [
        "h.plot_misclassified_subset(\n",
        "    model=fashion_model,\n",
        "    dataset=fashionMNIST_test_data,\n",
        "    loader=fashionMNIST_test_loader,\n",
        "    device=device,\n",
        "    num_to_plot=16,\n",
        "    cols=4\n",
        ")\n"
      ],
      "metadata": {
        "colab": {
          "base_uri": "https://localhost:8080/",
          "height": 923
        },
        "id": "PQdo3BBKztlX",
        "outputId": "a7fe4356-295e-4c88-deee-b7210541dbfe"
      },
      "execution_count": 32,
      "outputs": [
        {
          "output_type": "stream",
          "name": "stdout",
          "text": [
            "Total misclassified images: 767\n"
          ]
        },
        {
          "output_type": "display_data",
          "data": {
            "text/plain": [
              "<Figure size 900x900 with 16 Axes>"
            ],
            "image/png": "[encoded data removed]"
          },
          "metadata": {}
        }
      ]
    },
    {
      "cell_type": "markdown",
      "source": [
        "We can also plot the confusion matrix"
      ],
      "metadata": {
        "id": "OMCr4UUM669h"
      }
    },
    {
      "cell_type": "code",
      "source": [
        "class_names_mnist = [str(i) for i in range(10)]\n",
        "print(\"------------------------------------- MNIST ---------------------------------------------\")\n",
        "h.plot_confusion_matrix(mnist_model, MNIST_test_loader, device, class_names_mnist)\n"
      ],
      "metadata": {
        "colab": {
          "base_uri": "https://localhost:8080/",
          "height": 581
        },
        "id": "2Y6bs60h7Loo",
        "outputId": "3cac8e8f-77de-4503-c33e-f69bb3201603"
      },
      "execution_count": 33,
      "outputs": [
        {
          "output_type": "stream",
          "name": "stdout",
          "text": [
            "------------------------------------- MNIST ---------------------------------------------\n"
          ]
        },
        {
          "output_type": "display_data",
          "data": {
            "text/plain": [
              "<Figure size 800x600 with 2 Axes>"
            ],
            "image/png": "[encoded data removed]"
          },
          "metadata": {}
        }
      ]
    },
    {
      "cell_type": "code",
      "source": [
        "print(\"------------------------------------- fashion-MNIST ---------------------------------------------\")\n",
        "h.plot_confusion_matrix(fashion_model, fashionMNIST_test_loader, device, fashionMNIST_classes)\n"
      ],
      "metadata": {
        "colab": {
          "base_uri": "https://localhost:8080/",
          "height": 642
        },
        "id": "_itCWzCE7-CK",
        "outputId": "56166824-3de7-4658-91ca-e284230e4e5d"
      },
      "execution_count": 34,
      "outputs": [
        {
          "output_type": "stream",
          "name": "stdout",
          "text": [
            "------------------------------------- fashion-MNIST ---------------------------------------------\n"
          ]
        },
        {
          "output_type": "display_data",
          "data": {
            "text/plain": [
              "<Figure size 800x600 with 2 Axes>"
            ],
            "image/png": "[encoded data removed]"
          },
          "metadata": {}
        }
      ]
    },
    {
      "cell_type": "markdown",
      "source": [
        "## Conclusions\n",
        "\n",
        "In this project, we implemented and evaluated classifiers for the MNIST and Fashion-MNIST datasets.  \n",
        "\n",
        "The final **MNIST model achieved excellent performance**, with a test accuracy of **99.46%** and a very low test loss (**0.02124**), confirming that handwritten digits are relatively easy to classify due to their clear and distinct visual patterns.  \n",
        "\n",
        "The **Fashion-MNIST model reached a test accuracy of 92.33%** with a test loss of **0.22409**, highlighting that this dataset is more challenging. Many classes, such as T-shirts and shirts, have very similar visual characteristics, which leads to more misclassifications.  \n",
        "\n",
        "Both models were designed with a **simple architecture of two hidden layers with 32 units each**, which proved effective but leaves room for experimentation. Future work could explore **deeper architectures with more layers and more hidden units**, as well as other network designs.  \n",
        "\n",
        "We also used **Weights & Biases (wandb)** to log and save experiments. While in this project wandb was used primarily for tracking, it can also be leveraged for **hyperparameter sweeps** to systematically explore different learning rates, optimizers, hidden units, or other configurations to further improve performance.  \n",
        "\n",
        "Overall, these results illustrate the importance of **hyperparameter tuning, model architecture design, and careful analysis of misclassified examples** for achieving high accuracy, especially in datasets with visually similar classes like Fashion-MNIST.\n",
        "\n"
      ],
      "metadata": {
        "id": "VOXAjqb65iTS"
      }
    }
  ]
}